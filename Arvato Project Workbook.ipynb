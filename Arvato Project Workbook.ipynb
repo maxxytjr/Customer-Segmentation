{
 "cells": [
  {
   "cell_type": "markdown",
   "metadata": {},
   "source": [
    "# Capstone Project: Create a Customer Segmentation Report for Arvato Financial Services\n",
    "\n",
    "In this project, you will analyze demographics data for customers of a mail-order sales company in Germany, comparing it against demographics information for the general population. You'll use unsupervised learning techniques to perform customer segmentation, identifying the parts of the population that best describe the core customer base of the company. Then, you'll apply what you've learned on a third dataset with demographics information for targets of a marketing campaign for the company, and use a model to predict which individuals are most likely to convert into becoming customers for the company. The data that you will use has been provided by our partners at Bertelsmann Arvato Analytics, and represents a real-life data science task.\n",
    "\n",
    "If you completed the first term of this program, you will be familiar with the first part of this project, from the unsupervised learning project. The versions of those two datasets used in this project will include many more features and has not been pre-cleaned. You are also free to choose whatever approach you'd like to analyzing the data rather than follow pre-determined steps. In your work on this project, make sure that you carefully document your steps and decisions, since your main deliverable for this project will be a blog post reporting your findings."
   ]
  },
  {
   "cell_type": "code",
   "execution_count": 1,
   "metadata": {},
   "outputs": [],
   "source": [
    "# import libraries here; add more as necessary\n",
    "import numpy as np\n",
    "import pandas as pd\n",
    "import matplotlib.pyplot as plt\n",
    "import seaborn as sns\n",
    "\n",
    "from sklearn.preprocessing import MinMaxScaler\n",
    "\n",
    "# magic word for producing visualizations in notebook\n",
    "%matplotlib inline"
   ]
  },
  {
   "cell_type": "markdown",
   "metadata": {},
   "source": [
    "## Part 0: Get to Know the Data\n",
    "\n",
    "There are four data files associated with this project:\n",
    "\n",
    "- `Udacity_AZDIAS_052018.csv`: Demographics data for the general population of Germany; 891 211 persons (rows) x 366 features (columns).\n",
    "- `Udacity_CUSTOMERS_052018.csv`: Demographics data for customers of a mail-order company; 191 652 persons (rows) x 369 features (columns).\n",
    "- `Udacity_MAILOUT_052018_TRAIN.csv`: Demographics data for individuals who were targets of a marketing campaign; 42 982 persons (rows) x 367 (columns).\n",
    "- `Udacity_MAILOUT_052018_TEST.csv`: Demographics data for individuals who were targets of a marketing campaign; 42 833 persons (rows) x 366 (columns).\n",
    "\n",
    "Each row of the demographics files represents a single person, but also includes information outside of individuals, including information about their household, building, and neighborhood. Use the information from the first two files to figure out how customers (\"CUSTOMERS\") are similar to or differ from the general population at large (\"AZDIAS\"), then use your analysis to make predictions on the other two files (\"MAILOUT\"), predicting which recipients are most likely to become a customer for the mail-order company.\n",
    "\n",
    "The \"CUSTOMERS\" file contains three extra columns ('CUSTOMER_GROUP', 'ONLINE_PURCHASE', and 'PRODUCT_GROUP'), which provide broad information about the customers depicted in the file. The original \"MAILOUT\" file included one additional column, \"RESPONSE\", which indicated whether or not each recipient became a customer of the company. For the \"TRAIN\" subset, this column has been retained, but in the \"TEST\" subset it has been removed; it is against that withheld column that your final predictions will be assessed in the Kaggle competition.\n",
    "\n",
    "Otherwise, all of the remaining columns are the same between the three data files. For more information about the columns depicted in the files, you can refer to two Excel spreadsheets provided in the workspace. [One of them](./DIAS Information Levels - Attributes 2017.xlsx) is a top-level list of attributes and descriptions, organized by informational category. [The other](./DIAS Attributes - Values 2017.xlsx) is a detailed mapping of data values for each feature in alphabetical order.\n",
    "\n",
    "In the below cell, we've provided some initial code to load in the first two datasets. Note for all of the `.csv` data files in this project that they're semicolon (`;`) delimited, so an additional argument in the [`read_csv()`](https://pandas.pydata.org/pandas-docs/stable/generated/pandas.read_csv.html) call has been included to read in the data properly. Also, considering the size of the datasets, it may take some time for them to load completely.\n",
    "\n",
    "You'll notice when the data is loaded in that a warning message will immediately pop up. Before you really start digging into the modeling and analysis, you're going to need to perform some cleaning. Take some time to browse the structure of the data and look over the informational spreadsheets to understand the data values. Make some decisions on which features to keep, which features to drop, and if any revisions need to be made on data formats. It'll be a good idea to create a function with pre-processing steps, since you'll need to clean all of the datasets before you work with them."
   ]
  },
  {
   "cell_type": "code",
   "execution_count": null,
   "metadata": {},
   "outputs": [],
   "source": [
    "# # load in the data\n",
    "# azdias = pd.read_csv('../../data/Term2/capstone/arvato_data/Udacity_AZDIAS_052018.csv', sep=';')\n",
    "# customers = pd.read_csv('../../data/Term2/capstone/arvato_data/Udacity_CUSTOMERS_052018.csv', sep=';')"
   ]
  },
  {
   "cell_type": "code",
   "execution_count": null,
   "metadata": {},
   "outputs": [],
   "source": [
    "# mailout_train = pd.read_csv('../../data/Term2/capstone/arvato_data/Udacity_MAILOUT_052018_TRAIN.csv', sep=';')\n",
    "# mailout_test = pd.read_csv('../../data/Term2/capstone/arvato_data/Udacity_MAILOUT_052018_TEST.csv', sep=';')"
   ]
  },
  {
   "cell_type": "code",
   "execution_count": 2,
   "metadata": {},
   "outputs": [
    {
     "name": "stderr",
     "output_type": "stream",
     "text": [
      "/home/ec2-user/anaconda3/envs/amazonei_mxnet_p36/lib/python3.6/site-packages/IPython/core/interactiveshell.py:2785: DtypeWarning: Columns (19,20) have mixed types. Specify dtype option on import or set low_memory=False.\n",
      "  interactivity=interactivity, compiler=compiler, result=result)\n"
     ]
    }
   ],
   "source": [
    "# load all the data\n",
    "\n",
    "azdias = pd.read_csv('azdias.csv')\n",
    "customers = pd.read_csv('customers.csv')\n",
    "mailout_train = pd.read_csv('mailout_train.csv')\n",
    "mailout_test = pd.read_csv('mailout_test.csv')"
   ]
  },
  {
   "cell_type": "code",
   "execution_count": 3,
   "metadata": {},
   "outputs": [
    {
     "name": "stdout",
     "output_type": "stream",
     "text": [
      "(891221, 367)\n",
      "(191652, 370)\n",
      "(42962, 368)\n",
      "(42833, 367)\n"
     ]
    }
   ],
   "source": [
    "print(azdias.shape)\n",
    "print(customers.shape)\n",
    "print(mailout_train.shape)\n",
    "print(mailout_test.shape)"
   ]
  },
  {
   "cell_type": "code",
   "execution_count": 4,
   "metadata": {},
   "outputs": [],
   "source": [
    "# remove first columns (Unnamed: 0)\n",
    "azdias = azdias.iloc[:, 1:]\n",
    "customers = customers.iloc[:, 1:]\n",
    "mailout_train = mailout_train.iloc[:, 1:]\n",
    "mailout_test = mailout_test.iloc[:, 1:]"
   ]
  },
  {
   "cell_type": "markdown",
   "metadata": {},
   "source": [
    "# Data Exploration and ad-hoc Data Cleaning"
   ]
  },
  {
   "cell_type": "code",
   "execution_count": 5,
   "metadata": {},
   "outputs": [
    {
     "data": {
      "text/html": [
       "<div>\n",
       "<style scoped>\n",
       "    .dataframe tbody tr th:only-of-type {\n",
       "        vertical-align: middle;\n",
       "    }\n",
       "\n",
       "    .dataframe tbody tr th {\n",
       "        vertical-align: top;\n",
       "    }\n",
       "\n",
       "    .dataframe thead th {\n",
       "        text-align: right;\n",
       "    }\n",
       "</style>\n",
       "<table border=\"1\" class=\"dataframe\">\n",
       "  <thead>\n",
       "    <tr style=\"text-align: right;\">\n",
       "      <th></th>\n",
       "      <th>LNR</th>\n",
       "      <th>AGER_TYP</th>\n",
       "      <th>AKT_DAT_KL</th>\n",
       "      <th>ALTER_HH</th>\n",
       "      <th>ALTER_KIND1</th>\n",
       "      <th>ALTER_KIND2</th>\n",
       "      <th>ALTER_KIND3</th>\n",
       "      <th>ALTER_KIND4</th>\n",
       "      <th>ALTERSKATEGORIE_FEIN</th>\n",
       "      <th>ANZ_HAUSHALTE_AKTIV</th>\n",
       "      <th>...</th>\n",
       "      <th>VHN</th>\n",
       "      <th>VK_DHT4A</th>\n",
       "      <th>VK_DISTANZ</th>\n",
       "      <th>VK_ZG11</th>\n",
       "      <th>W_KEIT_KIND_HH</th>\n",
       "      <th>WOHNDAUER_2008</th>\n",
       "      <th>WOHNLAGE</th>\n",
       "      <th>ZABEOTYP</th>\n",
       "      <th>ANREDE_KZ</th>\n",
       "      <th>ALTERSKATEGORIE_GROB</th>\n",
       "    </tr>\n",
       "  </thead>\n",
       "  <tbody>\n",
       "    <tr>\n",
       "      <th>count</th>\n",
       "      <td>8.912210e+05</td>\n",
       "      <td>891221.000000</td>\n",
       "      <td>817722.000000</td>\n",
       "      <td>817722.000000</td>\n",
       "      <td>81058.000000</td>\n",
       "      <td>29499.000000</td>\n",
       "      <td>6170.000000</td>\n",
       "      <td>1205.000000</td>\n",
       "      <td>628274.000000</td>\n",
       "      <td>798073.000000</td>\n",
       "      <td>...</td>\n",
       "      <td>770025.000000</td>\n",
       "      <td>815304.000000</td>\n",
       "      <td>815304.000000</td>\n",
       "      <td>815304.000000</td>\n",
       "      <td>783619.000000</td>\n",
       "      <td>817722.000000</td>\n",
       "      <td>798073.000000</td>\n",
       "      <td>891221.000000</td>\n",
       "      <td>891221.000000</td>\n",
       "      <td>891221.000000</td>\n",
       "    </tr>\n",
       "    <tr>\n",
       "      <th>mean</th>\n",
       "      <td>6.372630e+05</td>\n",
       "      <td>-0.358435</td>\n",
       "      <td>4.421928</td>\n",
       "      <td>10.864126</td>\n",
       "      <td>11.745392</td>\n",
       "      <td>13.402658</td>\n",
       "      <td>14.476013</td>\n",
       "      <td>15.089627</td>\n",
       "      <td>13.700717</td>\n",
       "      <td>8.287263</td>\n",
       "      <td>...</td>\n",
       "      <td>2.417322</td>\n",
       "      <td>6.001214</td>\n",
       "      <td>7.532130</td>\n",
       "      <td>5.945972</td>\n",
       "      <td>3.933406</td>\n",
       "      <td>7.908791</td>\n",
       "      <td>4.052836</td>\n",
       "      <td>3.362438</td>\n",
       "      <td>1.522098</td>\n",
       "      <td>2.777398</td>\n",
       "    </tr>\n",
       "    <tr>\n",
       "      <th>std</th>\n",
       "      <td>2.572735e+05</td>\n",
       "      <td>1.198724</td>\n",
       "      <td>3.638805</td>\n",
       "      <td>7.639683</td>\n",
       "      <td>4.097660</td>\n",
       "      <td>3.243300</td>\n",
       "      <td>2.712427</td>\n",
       "      <td>2.452932</td>\n",
       "      <td>5.079849</td>\n",
       "      <td>15.628087</td>\n",
       "      <td>...</td>\n",
       "      <td>1.166572</td>\n",
       "      <td>2.856091</td>\n",
       "      <td>3.247789</td>\n",
       "      <td>2.771464</td>\n",
       "      <td>1.964701</td>\n",
       "      <td>1.923137</td>\n",
       "      <td>1.949539</td>\n",
       "      <td>1.352704</td>\n",
       "      <td>0.499512</td>\n",
       "      <td>1.068775</td>\n",
       "    </tr>\n",
       "    <tr>\n",
       "      <th>min</th>\n",
       "      <td>1.916530e+05</td>\n",
       "      <td>-1.000000</td>\n",
       "      <td>1.000000</td>\n",
       "      <td>0.000000</td>\n",
       "      <td>2.000000</td>\n",
       "      <td>2.000000</td>\n",
       "      <td>4.000000</td>\n",
       "      <td>7.000000</td>\n",
       "      <td>0.000000</td>\n",
       "      <td>0.000000</td>\n",
       "      <td>...</td>\n",
       "      <td>0.000000</td>\n",
       "      <td>1.000000</td>\n",
       "      <td>1.000000</td>\n",
       "      <td>1.000000</td>\n",
       "      <td>0.000000</td>\n",
       "      <td>1.000000</td>\n",
       "      <td>0.000000</td>\n",
       "      <td>1.000000</td>\n",
       "      <td>1.000000</td>\n",
       "      <td>1.000000</td>\n",
       "    </tr>\n",
       "    <tr>\n",
       "      <th>25%</th>\n",
       "      <td>4.144580e+05</td>\n",
       "      <td>-1.000000</td>\n",
       "      <td>1.000000</td>\n",
       "      <td>0.000000</td>\n",
       "      <td>8.000000</td>\n",
       "      <td>11.000000</td>\n",
       "      <td>13.000000</td>\n",
       "      <td>14.000000</td>\n",
       "      <td>11.000000</td>\n",
       "      <td>1.000000</td>\n",
       "      <td>...</td>\n",
       "      <td>2.000000</td>\n",
       "      <td>3.000000</td>\n",
       "      <td>5.000000</td>\n",
       "      <td>4.000000</td>\n",
       "      <td>2.000000</td>\n",
       "      <td>8.000000</td>\n",
       "      <td>3.000000</td>\n",
       "      <td>3.000000</td>\n",
       "      <td>1.000000</td>\n",
       "      <td>2.000000</td>\n",
       "    </tr>\n",
       "    <tr>\n",
       "      <th>50%</th>\n",
       "      <td>6.372630e+05</td>\n",
       "      <td>-1.000000</td>\n",
       "      <td>3.000000</td>\n",
       "      <td>13.000000</td>\n",
       "      <td>12.000000</td>\n",
       "      <td>14.000000</td>\n",
       "      <td>15.000000</td>\n",
       "      <td>15.000000</td>\n",
       "      <td>14.000000</td>\n",
       "      <td>4.000000</td>\n",
       "      <td>...</td>\n",
       "      <td>2.000000</td>\n",
       "      <td>6.000000</td>\n",
       "      <td>8.000000</td>\n",
       "      <td>6.000000</td>\n",
       "      <td>4.000000</td>\n",
       "      <td>9.000000</td>\n",
       "      <td>3.000000</td>\n",
       "      <td>3.000000</td>\n",
       "      <td>2.000000</td>\n",
       "      <td>3.000000</td>\n",
       "    </tr>\n",
       "    <tr>\n",
       "      <th>75%</th>\n",
       "      <td>8.600680e+05</td>\n",
       "      <td>-1.000000</td>\n",
       "      <td>9.000000</td>\n",
       "      <td>17.000000</td>\n",
       "      <td>15.000000</td>\n",
       "      <td>16.000000</td>\n",
       "      <td>17.000000</td>\n",
       "      <td>17.000000</td>\n",
       "      <td>17.000000</td>\n",
       "      <td>9.000000</td>\n",
       "      <td>...</td>\n",
       "      <td>3.000000</td>\n",
       "      <td>9.000000</td>\n",
       "      <td>10.000000</td>\n",
       "      <td>8.000000</td>\n",
       "      <td>6.000000</td>\n",
       "      <td>9.000000</td>\n",
       "      <td>5.000000</td>\n",
       "      <td>4.000000</td>\n",
       "      <td>2.000000</td>\n",
       "      <td>4.000000</td>\n",
       "    </tr>\n",
       "    <tr>\n",
       "      <th>max</th>\n",
       "      <td>1.082873e+06</td>\n",
       "      <td>3.000000</td>\n",
       "      <td>9.000000</td>\n",
       "      <td>21.000000</td>\n",
       "      <td>18.000000</td>\n",
       "      <td>18.000000</td>\n",
       "      <td>18.000000</td>\n",
       "      <td>18.000000</td>\n",
       "      <td>25.000000</td>\n",
       "      <td>595.000000</td>\n",
       "      <td>...</td>\n",
       "      <td>4.000000</td>\n",
       "      <td>11.000000</td>\n",
       "      <td>13.000000</td>\n",
       "      <td>11.000000</td>\n",
       "      <td>6.000000</td>\n",
       "      <td>9.000000</td>\n",
       "      <td>8.000000</td>\n",
       "      <td>6.000000</td>\n",
       "      <td>2.000000</td>\n",
       "      <td>9.000000</td>\n",
       "    </tr>\n",
       "  </tbody>\n",
       "</table>\n",
       "<p>8 rows × 360 columns</p>\n",
       "</div>"
      ],
      "text/plain": [
       "                LNR       AGER_TYP     AKT_DAT_KL       ALTER_HH  \\\n",
       "count  8.912210e+05  891221.000000  817722.000000  817722.000000   \n",
       "mean   6.372630e+05      -0.358435       4.421928      10.864126   \n",
       "std    2.572735e+05       1.198724       3.638805       7.639683   \n",
       "min    1.916530e+05      -1.000000       1.000000       0.000000   \n",
       "25%    4.144580e+05      -1.000000       1.000000       0.000000   \n",
       "50%    6.372630e+05      -1.000000       3.000000      13.000000   \n",
       "75%    8.600680e+05      -1.000000       9.000000      17.000000   \n",
       "max    1.082873e+06       3.000000       9.000000      21.000000   \n",
       "\n",
       "        ALTER_KIND1   ALTER_KIND2  ALTER_KIND3  ALTER_KIND4  \\\n",
       "count  81058.000000  29499.000000  6170.000000  1205.000000   \n",
       "mean      11.745392     13.402658    14.476013    15.089627   \n",
       "std        4.097660      3.243300     2.712427     2.452932   \n",
       "min        2.000000      2.000000     4.000000     7.000000   \n",
       "25%        8.000000     11.000000    13.000000    14.000000   \n",
       "50%       12.000000     14.000000    15.000000    15.000000   \n",
       "75%       15.000000     16.000000    17.000000    17.000000   \n",
       "max       18.000000     18.000000    18.000000    18.000000   \n",
       "\n",
       "       ALTERSKATEGORIE_FEIN  ANZ_HAUSHALTE_AKTIV  ...            VHN  \\\n",
       "count         628274.000000        798073.000000  ...  770025.000000   \n",
       "mean              13.700717             8.287263  ...       2.417322   \n",
       "std                5.079849            15.628087  ...       1.166572   \n",
       "min                0.000000             0.000000  ...       0.000000   \n",
       "25%               11.000000             1.000000  ...       2.000000   \n",
       "50%               14.000000             4.000000  ...       2.000000   \n",
       "75%               17.000000             9.000000  ...       3.000000   \n",
       "max               25.000000           595.000000  ...       4.000000   \n",
       "\n",
       "            VK_DHT4A     VK_DISTANZ        VK_ZG11  W_KEIT_KIND_HH  \\\n",
       "count  815304.000000  815304.000000  815304.000000   783619.000000   \n",
       "mean        6.001214       7.532130       5.945972        3.933406   \n",
       "std         2.856091       3.247789       2.771464        1.964701   \n",
       "min         1.000000       1.000000       1.000000        0.000000   \n",
       "25%         3.000000       5.000000       4.000000        2.000000   \n",
       "50%         6.000000       8.000000       6.000000        4.000000   \n",
       "75%         9.000000      10.000000       8.000000        6.000000   \n",
       "max        11.000000      13.000000      11.000000        6.000000   \n",
       "\n",
       "       WOHNDAUER_2008       WOHNLAGE       ZABEOTYP      ANREDE_KZ  \\\n",
       "count   817722.000000  798073.000000  891221.000000  891221.000000   \n",
       "mean         7.908791       4.052836       3.362438       1.522098   \n",
       "std          1.923137       1.949539       1.352704       0.499512   \n",
       "min          1.000000       0.000000       1.000000       1.000000   \n",
       "25%          8.000000       3.000000       3.000000       1.000000   \n",
       "50%          9.000000       3.000000       3.000000       2.000000   \n",
       "75%          9.000000       5.000000       4.000000       2.000000   \n",
       "max          9.000000       8.000000       6.000000       2.000000   \n",
       "\n",
       "       ALTERSKATEGORIE_GROB  \n",
       "count         891221.000000  \n",
       "mean               2.777398  \n",
       "std                1.068775  \n",
       "min                1.000000  \n",
       "25%                2.000000  \n",
       "50%                3.000000  \n",
       "75%                4.000000  \n",
       "max                9.000000  \n",
       "\n",
       "[8 rows x 360 columns]"
      ]
     },
     "execution_count": 5,
     "metadata": {},
     "output_type": "execute_result"
    }
   ],
   "source": [
    "azdias.describe()"
   ]
  },
  {
   "cell_type": "code",
   "execution_count": 6,
   "metadata": {},
   "outputs": [
    {
     "data": {
      "text/plain": [
       "array(['CAMEO_DEUG_2015', 'CAMEO_INTL_2015'], dtype=object)"
      ]
     },
     "execution_count": 6,
     "metadata": {},
     "output_type": "execute_result"
    }
   ],
   "source": [
    "# Check columns 18 and 19 to confirm their datatypes, as prompted by the error above while loading the data\n",
    "azdias.iloc[:, 18:20].columns.values"
   ]
  },
  {
   "cell_type": "code",
   "execution_count": 7,
   "metadata": {},
   "outputs": [
    {
     "data": {
      "text/plain": [
       "array([nan, 51.0, 24.0, 12.0, 43.0, 54.0, 22.0, 14.0, 13.0, 15.0, 33.0,\n",
       "       41.0, 34.0, 55.0, 25.0, 23.0, 31.0, 52.0, 35.0, 45.0, 44.0, 32.0,\n",
       "       '22', '24', '41', '12', '54', '51', '44', '35', '23', '25', '14',\n",
       "       '34', '52', '55', '31', '32', '15', '13', '43', '33', '45', 'XX'],\n",
       "      dtype=object)"
      ]
     },
     "execution_count": 7,
     "metadata": {},
     "output_type": "execute_result"
    }
   ],
   "source": [
    "# Look at CAMEO_INTL\n",
    "azdias['CAMEO_INTL_2015'].unique()"
   ]
  },
  {
   "cell_type": "code",
   "execution_count": 8,
   "metadata": {},
   "outputs": [],
   "source": [
    "# Fill in NaNs and combine sparse data\n",
    "azdias['CAMEO_INTL_2015'] = azdias['CAMEO_INTL_2015'].fillna(0)\n",
    "\n",
    "azdias['CAMEO_INTL_2015'].replace('XX', '00', inplace=True)"
   ]
  },
  {
   "cell_type": "code",
   "execution_count": 9,
   "metadata": {
    "scrolled": true
   },
   "outputs": [
    {
     "data": {
      "text/plain": [
       "array([0, 51.0, 24.0, 12.0, 43.0, 54.0, 22.0, 14.0, 13.0, 15.0, 33.0,\n",
       "       41.0, 34.0, 55.0, 25.0, 23.0, 31.0, 52.0, 35.0, 45.0, 44.0, 32.0,\n",
       "       '22', '24', '41', '12', '54', '51', '44', '35', '23', '25', '14',\n",
       "       '34', '52', '55', '31', '32', '15', '13', '43', '33', '45', '00'],\n",
       "      dtype=object)"
      ]
     },
     "execution_count": 9,
     "metadata": {},
     "output_type": "execute_result"
    }
   ],
   "source": [
    "azdias['CAMEO_INTL_2015'].unique()"
   ]
  },
  {
   "cell_type": "markdown",
   "metadata": {},
   "source": [
    "**Taking a closer look into the data, I realized that CAMEO_DEUG_2015 has actually been factored into the CAMEO_DEU_2015 feature. The numbers in the former form represent the first digit of the variables in the latter.**\n",
    "\n",
    "**We will consider engineering new features out of CAMEO_DEU_2015 at a later part. Till then, we fill in missing values.** "
   ]
  },
  {
   "cell_type": "code",
   "execution_count": 10,
   "metadata": {},
   "outputs": [
    {
     "data": {
      "text/plain": [
       "array([nan, '8A', '4C', '2A', '6B', '8C', '4A', '2D', '1A', '1E', '9D',\n",
       "       '5C', '8B', '7A', '5D', '9E', '9B', '1B', '3D', '4E', '4B', '3C',\n",
       "       '5A', '7B', '9A', '6D', '6E', '2C', '7C', '9C', '7D', '5E', '1D',\n",
       "       '8D', '6C', '6A', '5B', '4D', '3A', '2B', '7E', '3B', '6F', '5F',\n",
       "       '1C', 'XX'], dtype=object)"
      ]
     },
     "execution_count": 10,
     "metadata": {},
     "output_type": "execute_result"
    }
   ],
   "source": [
    "azdias['CAMEO_DEU_2015'].unique()"
   ]
  },
  {
   "cell_type": "code",
   "execution_count": 11,
   "metadata": {},
   "outputs": [],
   "source": [
    "azdias['CAMEO_DEU_2015'] = azdias['CAMEO_DEU_2015'].fillna('00')"
   ]
  },
  {
   "cell_type": "code",
   "execution_count": 12,
   "metadata": {},
   "outputs": [],
   "source": [
    "azdias['CAMEO_DEU_2015'].replace('XX', '00', inplace=True)"
   ]
  },
  {
   "cell_type": "code",
   "execution_count": 13,
   "metadata": {
    "scrolled": true
   },
   "outputs": [
    {
     "data": {
      "text/plain": [
       "array(['00', '8A', '4C', '2A', '6B', '8C', '4A', '2D', '1A', '1E', '9D',\n",
       "       '5C', '8B', '7A', '5D', '9E', '9B', '1B', '3D', '4E', '4B', '3C',\n",
       "       '5A', '7B', '9A', '6D', '6E', '2C', '7C', '9C', '7D', '5E', '1D',\n",
       "       '8D', '6C', '6A', '5B', '4D', '3A', '2B', '7E', '3B', '6F', '5F',\n",
       "       '1C'], dtype=object)"
      ]
     },
     "execution_count": 13,
     "metadata": {},
     "output_type": "execute_result"
    }
   ],
   "source": [
    "# Do a check\n",
    "azdias['CAMEO_DEU_2015'].unique()"
   ]
  },
  {
   "cell_type": "markdown",
   "metadata": {},
   "source": [
    "**Drop CAMEO_DEUG_2015, which is redundant**"
   ]
  },
  {
   "cell_type": "code",
   "execution_count": 14,
   "metadata": {},
   "outputs": [],
   "source": [
    "# Drop CAMEO_DEUG_2015 since we don't need it anymore\n",
    "azdias.drop(columns=['CAMEO_DEUG_2015'], axis=1, inplace=True)"
   ]
  },
  {
   "cell_type": "code",
   "execution_count": 15,
   "metadata": {},
   "outputs": [
    {
     "data": {
      "text/plain": [
       "(891221, 365)"
      ]
     },
     "execution_count": 15,
     "metadata": {},
     "output_type": "execute_result"
    }
   ],
   "source": [
    "azdias.shape"
   ]
  },
  {
   "cell_type": "markdown",
   "metadata": {},
   "source": [
    "**Preparation for feature engineering (CAMEO_INTL_2015)**"
   ]
  },
  {
   "cell_type": "code",
   "execution_count": 16,
   "metadata": {},
   "outputs": [
    {
     "data": {
      "text/plain": [
       "array(['00', 51.0, 24.0, 12.0, 43.0, 54.0, 22.0, 14.0, 13.0, 15.0, 33.0,\n",
       "       41.0, 34.0, 55.0, 25.0, 23.0, 31.0, 52.0, 35.0, 45.0, 44.0, 32.0,\n",
       "       '22', '24', '41', '12', '54', '51', '44', '35', '23', '25', '14',\n",
       "       '34', '52', '55', '31', '32', '15', '13', '43', '33', '45'],\n",
       "      dtype=object)"
      ]
     },
     "execution_count": 16,
     "metadata": {},
     "output_type": "execute_result"
    }
   ],
   "source": [
    "# replace '0' with '00' to prepare for feature engineering later\n",
    "azdias['CAMEO_INTL_2015'].replace(0, '00', inplace=True)\n",
    "azdias['CAMEO_INTL_2015'].unique()"
   ]
  },
  {
   "cell_type": "code",
   "execution_count": 17,
   "metadata": {},
   "outputs": [
    {
     "data": {
      "text/plain": [
       "array(['00', '51.0', '24.0', '12.0', '43.0', '54.0', '22.0', '14.0',\n",
       "       '13.0', '15.0', '33.0', '41.0', '34.0', '55.0', '25.0', '23.0',\n",
       "       '31.0', '52.0', '35.0', '45.0', '44.0', '32.0', '22', '24', '41',\n",
       "       '12', '54', '51', '44', '35', '23', '25', '14', '34', '52', '55',\n",
       "       '31', '32', '15', '13', '43', '33', '45'], dtype=object)"
      ]
     },
     "execution_count": 17,
     "metadata": {},
     "output_type": "execute_result"
    }
   ],
   "source": [
    "# convert all values to string\n",
    "azdias['CAMEO_INTL_2015'] = azdias['CAMEO_INTL_2015'].apply(lambda x: str(x))\n",
    "azdias['CAMEO_INTL_2015'].unique()"
   ]
  },
  {
   "cell_type": "markdown",
   "metadata": {},
   "source": [
    "## Check for Missing Values\n",
    "\n",
    "In this section, we attempt to check for columns with a large proportion of missing values. If the number of missing values is above a certain threshold, we remove that column."
   ]
  },
  {
   "cell_type": "markdown",
   "metadata": {},
   "source": [
    "**Handle columns**"
   ]
  },
  {
   "cell_type": "code",
   "execution_count": 18,
   "metadata": {
    "scrolled": true
   },
   "outputs": [
    {
     "data": {
      "text/plain": [
       "ALTER_KIND4                    890016\n",
       "ALTER_KIND3                    885051\n",
       "ALTER_KIND2                    861722\n",
       "ALTER_KIND1                    810163\n",
       "EXTSEL992                      654153\n",
       "KK_KUNDENTYP                   584612\n",
       "ALTERSKATEGORIE_FEIN           262947\n",
       "D19_LOTTO                      257113\n",
       "D19_LETZTER_KAUF_BRANCHE       257113\n",
       "D19_VERSI_ONLINE_QUOTE_12      257113\n",
       "D19_BANKEN_ONLINE_QUOTE_12     257113\n",
       "D19_SOZIALES                   257113\n",
       "D19_GESAMT_ONLINE_QUOTE_12     257113\n",
       "D19_KONSUMTYP                  257113\n",
       "D19_TELKO_ONLINE_QUOTE_12      257113\n",
       "D19_VERSAND_ONLINE_QUOTE_12    257113\n",
       "KBA05_MOTOR                    133324\n",
       "KBA05_MOD8                     133324\n",
       "KBA05_MOD4                     133324\n",
       "KBA05_MOD3                     133324\n",
       "KBA05_MOD2                     133324\n",
       "KBA05_SEG1                     133324\n",
       "KBA05_MOD1                     133324\n",
       "KBA05_MAXVORB                  133324\n",
       "KBA05_MAXSEG                   133324\n",
       "KBA05_MAXHERST                 133324\n",
       "KBA05_MAXBJ                    133324\n",
       "KBA05_MAXAH                    133324\n",
       "KBA05_KW3                      133324\n",
       "KBA05_MOTRAD                   133324\n",
       "                                ...  \n",
       "D19_RATGEBER                        0\n",
       "FINANZ_ANLEGER                      0\n",
       "D19_REISEN                          0\n",
       "D19_SAMMELARTIKEL                   0\n",
       "D19_SCHUHE                          0\n",
       "D19_SONSTIGE                        0\n",
       "D19_TECHNIK                         0\n",
       "D19_TELKO_ANZ_12                    0\n",
       "D19_TELKO_ANZ_24                    0\n",
       "D19_TELKO_DATUM                     0\n",
       "D19_TELKO_MOBILE                    0\n",
       "D19_TELKO_OFFLINE_DATUM             0\n",
       "D19_TELKO_ONLINE_DATUM              0\n",
       "D19_TELKO_REST                      0\n",
       "D19_TIERARTIKEL                     0\n",
       "D19_VERSAND_ANZ_12                  0\n",
       "D19_VERSAND_ANZ_24                  0\n",
       "D19_VERSAND_DATUM                   0\n",
       "D19_VERSAND_OFFLINE_DATUM           0\n",
       "D19_VERSAND_ONLINE_DATUM            0\n",
       "D19_VERSAND_REST                    0\n",
       "D19_VERSI_ANZ_12                    0\n",
       "D19_VERSI_ANZ_24                    0\n",
       "D19_VERSI_DATUM                     0\n",
       "D19_VERSI_OFFLINE_DATUM             0\n",
       "D19_VERSI_ONLINE_DATUM              0\n",
       "D19_VERSICHERUNGEN                  0\n",
       "D19_VOLLSORTIMENT                   0\n",
       "D19_WEIN_FEINKOST                   0\n",
       "LNR                                 0\n",
       "Length: 365, dtype: int64"
      ]
     },
     "execution_count": 18,
     "metadata": {},
     "output_type": "execute_result"
    }
   ],
   "source": [
    "# Inspect the number of missing data that each column has, and rank them in descending order\n",
    "azdias.isnull().sum().sort_values(ascending=False)"
   ]
  },
  {
   "cell_type": "code",
   "execution_count": 19,
   "metadata": {},
   "outputs": [
    {
     "data": {
      "text/plain": [
       "count       365.000000\n",
       "mean      90947.906849\n",
       "std      108765.511354\n",
       "min           0.000000\n",
       "25%           0.000000\n",
       "50%      105800.000000\n",
       "75%      107602.000000\n",
       "max      890016.000000\n",
       "dtype: float64"
      ]
     },
     "execution_count": 19,
     "metadata": {},
     "output_type": "execute_result"
    }
   ],
   "source": [
    "azdias.isnull().sum().describe()"
   ]
  },
  {
   "cell_type": "code",
   "execution_count": 20,
   "metadata": {},
   "outputs": [
    {
     "data": {
      "image/png": "[encoded data removed]",
      "text/plain": [
       "<Figure size 432x288 with 1 Axes>"
      ]
     },
     "metadata": {},
     "output_type": "display_data"
    }
   ],
   "source": [
    "# Obtain a visual representation using a histogram\n",
    "plt.hist(x=azdias.isnull().sum(), bins=10)\n",
    "plt.show()"
   ]
  },
  {
   "cell_type": "markdown",
   "metadata": {},
   "source": [
    "From the data we collected above, we can infer that **75% of the data have 107602 missing data or less**. This was visualized using the histogram plot of column counts vs missing value counts.\n",
    "\n",
    "We will set the threshold at **200,000** missing values for deciding which columns to keep.\n",
    "\n",
    "Columns with missing entries greater than this value will be dropped."
   ]
  },
  {
   "cell_type": "code",
   "execution_count": 21,
   "metadata": {},
   "outputs": [],
   "source": [
    "low_missing_col = azdias.isnull().sum()[azdias.isna().sum() < 200000]"
   ]
  },
  {
   "cell_type": "code",
   "execution_count": 22,
   "metadata": {},
   "outputs": [],
   "source": [
    "azdias_col_cleaned = azdias[low_missing_col.index]"
   ]
  },
  {
   "cell_type": "code",
   "execution_count": 23,
   "metadata": {},
   "outputs": [
    {
     "data": {
      "text/plain": [
       "(891221, 349)"
      ]
     },
     "execution_count": 23,
     "metadata": {},
     "output_type": "execute_result"
    }
   ],
   "source": [
    "azdias_col_cleaned.shape"
   ]
  },
  {
   "cell_type": "markdown",
   "metadata": {},
   "source": [
    "**Handle rows**"
   ]
  },
  {
   "cell_type": "code",
   "execution_count": 24,
   "metadata": {},
   "outputs": [
    {
     "data": {
      "text/plain": [
       "count    891221.000000\n",
       "mean         29.098624\n",
       "std          72.293278\n",
       "min           0.000000\n",
       "25%           0.000000\n",
       "50%           0.000000\n",
       "75%           0.000000\n",
       "max         241.000000\n",
       "dtype: float64"
      ]
     },
     "execution_count": 24,
     "metadata": {},
     "output_type": "execute_result"
    }
   ],
   "source": [
    "# rank rows by the number of missing data they have, in descending order\n",
    "missing_rows = azdias_col_cleaned.isnull().sum(axis=1).sort_values(ascending=False)\n",
    "missing_rows.describe()"
   ]
  },
  {
   "cell_type": "code",
   "execution_count": 25,
   "metadata": {
    "scrolled": true
   },
   "outputs": [
    {
     "data": {
      "image/png": "[encoded data removed]",
      "text/plain": [
       "<Figure size 432x288 with 1 Axes>"
      ]
     },
     "metadata": {},
     "output_type": "display_data"
    }
   ],
   "source": [
    "# plot a histogram for better visualization\n",
    "plt.hist(x=missing_rows, bins=20)\n",
    "plt.show()"
   ]
  },
  {
   "cell_type": "markdown",
   "metadata": {},
   "source": [
    "From the data above, we can infer that more than 75% of our observations (rows) have fewer than 50 missing values. The maximum number of missing values for a row is 241.\n",
    "\n",
    "We shall set the threshold to 50. **Observations with more than 50 missing values will be dropped**."
   ]
  },
  {
   "cell_type": "code",
   "execution_count": 26,
   "metadata": {},
   "outputs": [],
   "source": [
    "low_missing_rows = missing_rows[missing_rows < 50] "
   ]
  },
  {
   "cell_type": "code",
   "execution_count": 27,
   "metadata": {},
   "outputs": [
    {
     "data": {
      "text/plain": [
       "Int64Index([847374,  59367, 199102, 364950, 445666, 663079, 166401, 108600,\n",
       "            118129, 684056,\n",
       "            ...\n",
       "            556682, 556681, 556679, 556678, 556677, 556676, 556675, 556672,\n",
       "            556670, 445610],\n",
       "           dtype='int64', length=751331)"
      ]
     },
     "execution_count": 27,
     "metadata": {},
     "output_type": "execute_result"
    }
   ],
   "source": [
    "low_missing_rows.index"
   ]
  },
  {
   "cell_type": "code",
   "execution_count": 28,
   "metadata": {},
   "outputs": [
    {
     "data": {
      "text/plain": [
       "(751331, 349)"
      ]
     },
     "execution_count": 28,
     "metadata": {},
     "output_type": "execute_result"
    }
   ],
   "source": [
    "azdias_cleaned_rowcol = azdias_col_cleaned.loc[low_missing_rows.index, :]\n",
    "\n",
    "azdias_cleaned_rowcol.shape"
   ]
  },
  {
   "cell_type": "markdown",
   "metadata": {},
   "source": [
    "### Categorical data exploration"
   ]
  },
  {
   "cell_type": "code",
   "execution_count": 29,
   "metadata": {},
   "outputs": [
    {
     "data": {
      "text/html": [
       "<div>\n",
       "<style scoped>\n",
       "    .dataframe tbody tr th:only-of-type {\n",
       "        vertical-align: middle;\n",
       "    }\n",
       "\n",
       "    .dataframe tbody tr th {\n",
       "        vertical-align: top;\n",
       "    }\n",
       "\n",
       "    .dataframe thead th {\n",
       "        text-align: right;\n",
       "    }\n",
       "</style>\n",
       "<table border=\"1\" class=\"dataframe\">\n",
       "  <thead>\n",
       "    <tr style=\"text-align: right;\">\n",
       "      <th></th>\n",
       "      <th>CAMEO_DEU_2015</th>\n",
       "      <th>CAMEO_INTL_2015</th>\n",
       "      <th>EINGEFUEGT_AM</th>\n",
       "      <th>OST_WEST_KZ</th>\n",
       "    </tr>\n",
       "  </thead>\n",
       "  <tbody>\n",
       "    <tr>\n",
       "      <th>count</th>\n",
       "      <td>751331</td>\n",
       "      <td>751331</td>\n",
       "      <td>751331</td>\n",
       "      <td>751331</td>\n",
       "    </tr>\n",
       "    <tr>\n",
       "      <th>unique</th>\n",
       "      <td>45</td>\n",
       "      <td>43</td>\n",
       "      <td>2825</td>\n",
       "      <td>2</td>\n",
       "    </tr>\n",
       "    <tr>\n",
       "      <th>top</th>\n",
       "      <td>6B</td>\n",
       "      <td>51</td>\n",
       "      <td>1992-02-10 00:00:00</td>\n",
       "      <td>W</td>\n",
       "    </tr>\n",
       "    <tr>\n",
       "      <th>freq</th>\n",
       "      <td>54368</td>\n",
       "      <td>75961</td>\n",
       "      <td>379434</td>\n",
       "      <td>591679</td>\n",
       "    </tr>\n",
       "  </tbody>\n",
       "</table>\n",
       "</div>"
      ],
      "text/plain": [
       "       CAMEO_DEU_2015 CAMEO_INTL_2015        EINGEFUEGT_AM OST_WEST_KZ\n",
       "count          751331          751331               751331      751331\n",
       "unique             45              43                 2825           2\n",
       "top                6B              51  1992-02-10 00:00:00           W\n",
       "freq            54368           75961               379434      591679"
      ]
     },
     "execution_count": 29,
     "metadata": {},
     "output_type": "execute_result"
    }
   ],
   "source": [
    "# categorical data exploration\n",
    "azdias_cleaned_rowcol.select_dtypes(include=['object']).describe()"
   ]
  },
  {
   "cell_type": "code",
   "execution_count": 30,
   "metadata": {
    "scrolled": true
   },
   "outputs": [
    {
     "data": {
      "image/png": "[encoded data removed]",
      "text/plain": [
       "<Figure size 432x288 with 1 Axes>"
      ]
     },
     "metadata": {},
     "output_type": "display_data"
    }
   ],
   "source": [
    "sns.countplot(y='OST_WEST_KZ', data=azdias_cleaned_rowcol)\n",
    "plt.show()"
   ]
  },
  {
   "cell_type": "markdown",
   "metadata": {},
   "source": [
    "### Numeric Data Exploration"
   ]
  },
  {
   "cell_type": "code",
   "execution_count": 31,
   "metadata": {},
   "outputs": [
    {
     "data": {
      "text/html": [
       "<div>\n",
       "<style scoped>\n",
       "    .dataframe tbody tr th:only-of-type {\n",
       "        vertical-align: middle;\n",
       "    }\n",
       "\n",
       "    .dataframe tbody tr th {\n",
       "        vertical-align: top;\n",
       "    }\n",
       "\n",
       "    .dataframe thead th {\n",
       "        text-align: right;\n",
       "    }\n",
       "</style>\n",
       "<table border=\"1\" class=\"dataframe\">\n",
       "  <thead>\n",
       "    <tr style=\"text-align: right;\">\n",
       "      <th></th>\n",
       "      <th>LNR</th>\n",
       "      <th>AGER_TYP</th>\n",
       "      <th>AKT_DAT_KL</th>\n",
       "      <th>ALTER_HH</th>\n",
       "      <th>ANZ_HAUSHALTE_AKTIV</th>\n",
       "      <th>ANZ_HH_TITEL</th>\n",
       "      <th>ANZ_KINDER</th>\n",
       "      <th>ANZ_PERSONEN</th>\n",
       "      <th>ANZ_STATISTISCHE_HAUSHALTE</th>\n",
       "      <th>ANZ_TITEL</th>\n",
       "      <th>...</th>\n",
       "      <th>VHN</th>\n",
       "      <th>VK_DHT4A</th>\n",
       "      <th>VK_DISTANZ</th>\n",
       "      <th>VK_ZG11</th>\n",
       "      <th>W_KEIT_KIND_HH</th>\n",
       "      <th>WOHNDAUER_2008</th>\n",
       "      <th>WOHNLAGE</th>\n",
       "      <th>ZABEOTYP</th>\n",
       "      <th>ANREDE_KZ</th>\n",
       "      <th>ALTERSKATEGORIE_GROB</th>\n",
       "    </tr>\n",
       "  </thead>\n",
       "  <tbody>\n",
       "    <tr>\n",
       "      <th>count</th>\n",
       "      <td>7.513310e+05</td>\n",
       "      <td>751331.000000</td>\n",
       "      <td>751331.000000</td>\n",
       "      <td>751331.000000</td>\n",
       "      <td>751331.000000</td>\n",
       "      <td>747987.000000</td>\n",
       "      <td>751331.000000</td>\n",
       "      <td>751331.000000</td>\n",
       "      <td>751331.000000</td>\n",
       "      <td>751331.000000</td>\n",
       "      <td>...</td>\n",
       "      <td>744046.000000</td>\n",
       "      <td>749120.000000</td>\n",
       "      <td>749120.000000</td>\n",
       "      <td>749120.000000</td>\n",
       "      <td>719848.000000</td>\n",
       "      <td>751331.000000</td>\n",
       "      <td>751331.000000</td>\n",
       "      <td>751331.000000</td>\n",
       "      <td>751331.000000</td>\n",
       "      <td>751331.000000</td>\n",
       "    </tr>\n",
       "    <tr>\n",
       "      <th>mean</th>\n",
       "      <td>6.367752e+05</td>\n",
       "      <td>-0.293083</td>\n",
       "      <td>4.439994</td>\n",
       "      <td>10.819096</td>\n",
       "      <td>8.508822</td>\n",
       "      <td>0.041128</td>\n",
       "      <td>0.144063</td>\n",
       "      <td>1.728602</td>\n",
       "      <td>7.791223</td>\n",
       "      <td>0.004139</td>\n",
       "      <td>...</td>\n",
       "      <td>2.420408</td>\n",
       "      <td>6.043456</td>\n",
       "      <td>7.558340</td>\n",
       "      <td>5.941136</td>\n",
       "      <td>4.058655</td>\n",
       "      <td>7.962734</td>\n",
       "      <td>4.053932</td>\n",
       "      <td>3.400596</td>\n",
       "      <td>1.521717</td>\n",
       "      <td>2.822422</td>\n",
       "    </tr>\n",
       "    <tr>\n",
       "      <th>std</th>\n",
       "      <td>2.580028e+05</td>\n",
       "      <td>1.234016</td>\n",
       "      <td>3.649624</td>\n",
       "      <td>7.635330</td>\n",
       "      <td>15.663400</td>\n",
       "      <td>0.319720</td>\n",
       "      <td>0.485299</td>\n",
       "      <td>1.162490</td>\n",
       "      <td>14.399861</td>\n",
       "      <td>0.068283</td>\n",
       "      <td>...</td>\n",
       "      <td>1.163156</td>\n",
       "      <td>2.855643</td>\n",
       "      <td>3.257749</td>\n",
       "      <td>2.785767</td>\n",
       "      <td>1.894214</td>\n",
       "      <td>1.890432</td>\n",
       "      <td>1.891965</td>\n",
       "      <td>1.404571</td>\n",
       "      <td>0.499528</td>\n",
       "      <td>1.081793</td>\n",
       "    </tr>\n",
       "    <tr>\n",
       "      <th>min</th>\n",
       "      <td>1.916530e+05</td>\n",
       "      <td>-1.000000</td>\n",
       "      <td>1.000000</td>\n",
       "      <td>0.000000</td>\n",
       "      <td>0.000000</td>\n",
       "      <td>0.000000</td>\n",
       "      <td>0.000000</td>\n",
       "      <td>0.000000</td>\n",
       "      <td>0.000000</td>\n",
       "      <td>0.000000</td>\n",
       "      <td>...</td>\n",
       "      <td>0.000000</td>\n",
       "      <td>1.000000</td>\n",
       "      <td>1.000000</td>\n",
       "      <td>1.000000</td>\n",
       "      <td>0.000000</td>\n",
       "      <td>1.000000</td>\n",
       "      <td>0.000000</td>\n",
       "      <td>1.000000</td>\n",
       "      <td>1.000000</td>\n",
       "      <td>1.000000</td>\n",
       "    </tr>\n",
       "    <tr>\n",
       "      <th>25%</th>\n",
       "      <td>4.132270e+05</td>\n",
       "      <td>-1.000000</td>\n",
       "      <td>1.000000</td>\n",
       "      <td>0.000000</td>\n",
       "      <td>2.000000</td>\n",
       "      <td>0.000000</td>\n",
       "      <td>0.000000</td>\n",
       "      <td>1.000000</td>\n",
       "      <td>1.000000</td>\n",
       "      <td>0.000000</td>\n",
       "      <td>...</td>\n",
       "      <td>2.000000</td>\n",
       "      <td>4.000000</td>\n",
       "      <td>6.000000</td>\n",
       "      <td>4.000000</td>\n",
       "      <td>3.000000</td>\n",
       "      <td>8.000000</td>\n",
       "      <td>3.000000</td>\n",
       "      <td>3.000000</td>\n",
       "      <td>1.000000</td>\n",
       "      <td>2.000000</td>\n",
       "    </tr>\n",
       "    <tr>\n",
       "      <th>50%</th>\n",
       "      <td>6.349700e+05</td>\n",
       "      <td>-1.000000</td>\n",
       "      <td>3.000000</td>\n",
       "      <td>13.000000</td>\n",
       "      <td>4.000000</td>\n",
       "      <td>0.000000</td>\n",
       "      <td>0.000000</td>\n",
       "      <td>1.000000</td>\n",
       "      <td>4.000000</td>\n",
       "      <td>0.000000</td>\n",
       "      <td>...</td>\n",
       "      <td>2.000000</td>\n",
       "      <td>6.000000</td>\n",
       "      <td>8.000000</td>\n",
       "      <td>6.000000</td>\n",
       "      <td>4.000000</td>\n",
       "      <td>9.000000</td>\n",
       "      <td>3.000000</td>\n",
       "      <td>3.000000</td>\n",
       "      <td>2.000000</td>\n",
       "      <td>3.000000</td>\n",
       "    </tr>\n",
       "    <tr>\n",
       "      <th>75%</th>\n",
       "      <td>8.617140e+05</td>\n",
       "      <td>1.000000</td>\n",
       "      <td>9.000000</td>\n",
       "      <td>17.000000</td>\n",
       "      <td>10.000000</td>\n",
       "      <td>0.000000</td>\n",
       "      <td>0.000000</td>\n",
       "      <td>2.000000</td>\n",
       "      <td>9.000000</td>\n",
       "      <td>0.000000</td>\n",
       "      <td>...</td>\n",
       "      <td>3.000000</td>\n",
       "      <td>9.000000</td>\n",
       "      <td>10.000000</td>\n",
       "      <td>8.000000</td>\n",
       "      <td>6.000000</td>\n",
       "      <td>9.000000</td>\n",
       "      <td>5.000000</td>\n",
       "      <td>4.000000</td>\n",
       "      <td>2.000000</td>\n",
       "      <td>4.000000</td>\n",
       "    </tr>\n",
       "    <tr>\n",
       "      <th>max</th>\n",
       "      <td>1.082872e+06</td>\n",
       "      <td>3.000000</td>\n",
       "      <td>9.000000</td>\n",
       "      <td>21.000000</td>\n",
       "      <td>536.000000</td>\n",
       "      <td>20.000000</td>\n",
       "      <td>11.000000</td>\n",
       "      <td>45.000000</td>\n",
       "      <td>449.000000</td>\n",
       "      <td>4.000000</td>\n",
       "      <td>...</td>\n",
       "      <td>4.000000</td>\n",
       "      <td>11.000000</td>\n",
       "      <td>13.000000</td>\n",
       "      <td>11.000000</td>\n",
       "      <td>6.000000</td>\n",
       "      <td>9.000000</td>\n",
       "      <td>8.000000</td>\n",
       "      <td>6.000000</td>\n",
       "      <td>2.000000</td>\n",
       "      <td>9.000000</td>\n",
       "    </tr>\n",
       "  </tbody>\n",
       "</table>\n",
       "<p>8 rows × 345 columns</p>\n",
       "</div>"
      ],
      "text/plain": [
       "                LNR       AGER_TYP     AKT_DAT_KL       ALTER_HH  \\\n",
       "count  7.513310e+05  751331.000000  751331.000000  751331.000000   \n",
       "mean   6.367752e+05      -0.293083       4.439994      10.819096   \n",
       "std    2.580028e+05       1.234016       3.649624       7.635330   \n",
       "min    1.916530e+05      -1.000000       1.000000       0.000000   \n",
       "25%    4.132270e+05      -1.000000       1.000000       0.000000   \n",
       "50%    6.349700e+05      -1.000000       3.000000      13.000000   \n",
       "75%    8.617140e+05       1.000000       9.000000      17.000000   \n",
       "max    1.082872e+06       3.000000       9.000000      21.000000   \n",
       "\n",
       "       ANZ_HAUSHALTE_AKTIV   ANZ_HH_TITEL     ANZ_KINDER   ANZ_PERSONEN  \\\n",
       "count        751331.000000  747987.000000  751331.000000  751331.000000   \n",
       "mean              8.508822       0.041128       0.144063       1.728602   \n",
       "std              15.663400       0.319720       0.485299       1.162490   \n",
       "min               0.000000       0.000000       0.000000       0.000000   \n",
       "25%               2.000000       0.000000       0.000000       1.000000   \n",
       "50%               4.000000       0.000000       0.000000       1.000000   \n",
       "75%              10.000000       0.000000       0.000000       2.000000   \n",
       "max             536.000000      20.000000      11.000000      45.000000   \n",
       "\n",
       "       ANZ_STATISTISCHE_HAUSHALTE      ANZ_TITEL  ...            VHN  \\\n",
       "count               751331.000000  751331.000000  ...  744046.000000   \n",
       "mean                     7.791223       0.004139  ...       2.420408   \n",
       "std                     14.399861       0.068283  ...       1.163156   \n",
       "min                      0.000000       0.000000  ...       0.000000   \n",
       "25%                      1.000000       0.000000  ...       2.000000   \n",
       "50%                      4.000000       0.000000  ...       2.000000   \n",
       "75%                      9.000000       0.000000  ...       3.000000   \n",
       "max                    449.000000       4.000000  ...       4.000000   \n",
       "\n",
       "            VK_DHT4A     VK_DISTANZ        VK_ZG11  W_KEIT_KIND_HH  \\\n",
       "count  749120.000000  749120.000000  749120.000000   719848.000000   \n",
       "mean        6.043456       7.558340       5.941136        4.058655   \n",
       "std         2.855643       3.257749       2.785767        1.894214   \n",
       "min         1.000000       1.000000       1.000000        0.000000   \n",
       "25%         4.000000       6.000000       4.000000        3.000000   \n",
       "50%         6.000000       8.000000       6.000000        4.000000   \n",
       "75%         9.000000      10.000000       8.000000        6.000000   \n",
       "max        11.000000      13.000000      11.000000        6.000000   \n",
       "\n",
       "       WOHNDAUER_2008       WOHNLAGE       ZABEOTYP      ANREDE_KZ  \\\n",
       "count   751331.000000  751331.000000  751331.000000  751331.000000   \n",
       "mean         7.962734       4.053932       3.400596       1.521717   \n",
       "std          1.890432       1.891965       1.404571       0.499528   \n",
       "min          1.000000       0.000000       1.000000       1.000000   \n",
       "25%          8.000000       3.000000       3.000000       1.000000   \n",
       "50%          9.000000       3.000000       3.000000       2.000000   \n",
       "75%          9.000000       5.000000       4.000000       2.000000   \n",
       "max          9.000000       8.000000       6.000000       2.000000   \n",
       "\n",
       "       ALTERSKATEGORIE_GROB  \n",
       "count         751331.000000  \n",
       "mean               2.822422  \n",
       "std                1.081793  \n",
       "min                1.000000  \n",
       "25%                2.000000  \n",
       "50%                3.000000  \n",
       "75%                4.000000  \n",
       "max                9.000000  \n",
       "\n",
       "[8 rows x 345 columns]"
      ]
     },
     "execution_count": 31,
     "metadata": {},
     "output_type": "execute_result"
    }
   ],
   "source": [
    "azdias_cleaned_rowcol.describe()"
   ]
  },
  {
   "cell_type": "markdown",
   "metadata": {},
   "source": [
    "### Drop unwanted features"
   ]
  },
  {
   "cell_type": "code",
   "execution_count": 32,
   "metadata": {},
   "outputs": [],
   "source": [
    "azdias_cleaned_rowcol = azdias_cleaned_rowcol.drop(['LNR', 'EINGEFUEGT_AM'], axis=1)"
   ]
  },
  {
   "cell_type": "markdown",
   "metadata": {},
   "source": [
    "## Feature Engineering"
   ]
  },
  {
   "cell_type": "code",
   "execution_count": 33,
   "metadata": {},
   "outputs": [
    {
     "data": {
      "text/html": [
       "<div>\n",
       "<style scoped>\n",
       "    .dataframe tbody tr th:only-of-type {\n",
       "        vertical-align: middle;\n",
       "    }\n",
       "\n",
       "    .dataframe tbody tr th {\n",
       "        vertical-align: top;\n",
       "    }\n",
       "\n",
       "    .dataframe thead th {\n",
       "        text-align: right;\n",
       "    }\n",
       "</style>\n",
       "<table border=\"1\" class=\"dataframe\">\n",
       "  <thead>\n",
       "    <tr style=\"text-align: right;\">\n",
       "      <th></th>\n",
       "      <th>WEALTH_LEVEL</th>\n",
       "      <th>FAMILY_AGE_BAND</th>\n",
       "    </tr>\n",
       "  </thead>\n",
       "  <tbody>\n",
       "    <tr>\n",
       "      <th>847374</th>\n",
       "      <td>1</td>\n",
       "      <td>4</td>\n",
       "    </tr>\n",
       "    <tr>\n",
       "      <th>59367</th>\n",
       "      <td>2</td>\n",
       "      <td>4</td>\n",
       "    </tr>\n",
       "    <tr>\n",
       "      <th>199102</th>\n",
       "      <td>4</td>\n",
       "      <td>1</td>\n",
       "    </tr>\n",
       "    <tr>\n",
       "      <th>364950</th>\n",
       "      <td>2</td>\n",
       "      <td>2</td>\n",
       "    </tr>\n",
       "    <tr>\n",
       "      <th>445666</th>\n",
       "      <td>5</td>\n",
       "      <td>4</td>\n",
       "    </tr>\n",
       "  </tbody>\n",
       "</table>\n",
       "</div>"
      ],
      "text/plain": [
       "        WEALTH_LEVEL  FAMILY_AGE_BAND\n",
       "847374             1                4\n",
       "59367              2                4\n",
       "199102             4                1\n",
       "364950             2                2\n",
       "445666             5                4"
      ]
     },
     "execution_count": 33,
     "metadata": {},
     "output_type": "execute_result"
    }
   ],
   "source": [
    "# Create new features by splitting CAMEO_INTL_2015's variables\n",
    "azdias_cleaned_rowcol['WEALTH_LEVEL'] = azdias_cleaned_rowcol['CAMEO_INTL_2015'].apply(lambda x: int(x[0]))\n",
    "azdias_cleaned_rowcol['FAMILY_AGE_BAND'] = azdias_cleaned_rowcol['CAMEO_INTL_2015'].apply(lambda x: int(x[1]))\n",
    "\n",
    "azdias_cleaned_rowcol.loc[:, ['WEALTH_LEVEL', 'FAMILY_AGE_BAND']].head()\n",
    "                                                                            "
   ]
  },
  {
   "cell_type": "code",
   "execution_count": 34,
   "metadata": {},
   "outputs": [],
   "source": [
    "# Then we can drop CAMEO_INTL_2015\n",
    "azdias_cleaned_rowcol.drop(['CAMEO_INTL_2015'], axis=1, inplace=True)"
   ]
  },
  {
   "cell_type": "code",
   "execution_count": 35,
   "metadata": {},
   "outputs": [
    {
     "data": {
      "text/html": [
       "<div>\n",
       "<style scoped>\n",
       "    .dataframe tbody tr th:only-of-type {\n",
       "        vertical-align: middle;\n",
       "    }\n",
       "\n",
       "    .dataframe tbody tr th {\n",
       "        vertical-align: top;\n",
       "    }\n",
       "\n",
       "    .dataframe thead th {\n",
       "        text-align: right;\n",
       "    }\n",
       "</style>\n",
       "<table border=\"1\" class=\"dataframe\">\n",
       "  <thead>\n",
       "    <tr style=\"text-align: right;\">\n",
       "      <th></th>\n",
       "      <th>CAMEO_DEU_2015</th>\n",
       "      <th>OST_WEST_KZ</th>\n",
       "    </tr>\n",
       "  </thead>\n",
       "  <tbody>\n",
       "    <tr>\n",
       "      <th>count</th>\n",
       "      <td>751331</td>\n",
       "      <td>751331</td>\n",
       "    </tr>\n",
       "    <tr>\n",
       "      <th>unique</th>\n",
       "      <td>45</td>\n",
       "      <td>2</td>\n",
       "    </tr>\n",
       "    <tr>\n",
       "      <th>top</th>\n",
       "      <td>6B</td>\n",
       "      <td>W</td>\n",
       "    </tr>\n",
       "    <tr>\n",
       "      <th>freq</th>\n",
       "      <td>54368</td>\n",
       "      <td>591679</td>\n",
       "    </tr>\n",
       "  </tbody>\n",
       "</table>\n",
       "</div>"
      ],
      "text/plain": [
       "       CAMEO_DEU_2015 OST_WEST_KZ\n",
       "count          751331      751331\n",
       "unique             45           2\n",
       "top                6B           W\n",
       "freq            54368      591679"
      ]
     },
     "execution_count": 35,
     "metadata": {},
     "output_type": "execute_result"
    }
   ],
   "source": [
    "# check categorical data\n",
    "azdias_cleaned_rowcol.select_dtypes(include=['object']).describe()"
   ]
  },
  {
   "cell_type": "markdown",
   "metadata": {},
   "source": [
    "#### One-hot encoding\n",
    "\n",
    "Create dummy variables for the categorical data. Doing so provides a binary representation of each variable in these categorical features, so that our classifier can accept them as training inputs."
   ]
  },
  {
   "cell_type": "code",
   "execution_count": 36,
   "metadata": {},
   "outputs": [],
   "source": [
    "# get dummy variables for categorical features\n",
    "azdias_cleaned_rowcol = pd.get_dummies(azdias_cleaned_rowcol, columns=azdias_cleaned_rowcol.select_dtypes(include=['object']).columns.values)   "
   ]
  },
  {
   "cell_type": "markdown",
   "metadata": {},
   "source": [
    "Once we are done creating dummy variables, remove the original categorical features."
   ]
  },
  {
   "cell_type": "code",
   "execution_count": 37,
   "metadata": {},
   "outputs": [],
   "source": [
    "azdias_cleaned_rowcol.drop(azdias_cleaned_rowcol.select_dtypes(include=['object']).columns.values, axis=1, inplace=True)"
   ]
  },
  {
   "cell_type": "code",
   "execution_count": 38,
   "metadata": {},
   "outputs": [
    {
     "data": {
      "text/plain": [
       "array([], dtype=object)"
      ]
     },
     "execution_count": 38,
     "metadata": {},
     "output_type": "execute_result"
    }
   ],
   "source": [
    "# check that the categorical features have been removed.\n",
    "azdias_cleaned_rowcol.select_dtypes(include=['object']).columns.values"
   ]
  },
  {
   "cell_type": "markdown",
   "metadata": {},
   "source": [
    "### Handle missing numeric data\n",
    "\n",
    "Missing numerical data will be handled first by **flagging the observation with an indicator variable** of missingness- 0 for not missing, 1 for missing.\n",
    "\n",
    "Then, **fill the original missing value with 0** just so to meet our classifier's input requirements. \n",
    "\n",
    "This is so that our model can **estimate the optimal constant for missingness**, instead of filling the missing values with the mean or median."
   ]
  },
  {
   "cell_type": "code",
   "execution_count": 39,
   "metadata": {},
   "outputs": [],
   "source": [
    "# Create new indicator features for columns that have missing data, and fill them up with 0 or 1\n",
    "for col in azdias_cleaned_rowcol:\n",
    "    if azdias_cleaned_rowcol[col].isnull().sum() > 0:\n",
    "        azdias_cleaned_rowcol[f'{col}_is_missing'] = azdias_cleaned_rowcol[col].isnull().astype(int)"
   ]
  },
  {
   "cell_type": "code",
   "execution_count": 40,
   "metadata": {},
   "outputs": [],
   "source": [
    "# After flagging, fill up the missing values with 0\n",
    "azdias_cleaned_rowcol.fillna(0, inplace=True)"
   ]
  },
  {
   "cell_type": "code",
   "execution_count": 41,
   "metadata": {},
   "outputs": [
    {
     "data": {
      "text/plain": [
       "0"
      ]
     },
     "execution_count": 41,
     "metadata": {},
     "output_type": "execute_result"
    }
   ],
   "source": [
    "# check that the total sum of values in the series of missing value flags is 0 (ie no missing values)\n",
    "azdias_cleaned_rowcol.isnull().sum().sum()"
   ]
  },
  {
   "cell_type": "code",
   "execution_count": 42,
   "metadata": {},
   "outputs": [],
   "source": [
    "# tidy up the variable name\n",
    "azdias_cleaned = azdias_cleaned_rowcol"
   ]
  },
  {
   "cell_type": "markdown",
   "metadata": {},
   "source": [
    "## Exploring the `customers` dataset"
   ]
  },
  {
   "cell_type": "code",
   "execution_count": 155,
   "metadata": {},
   "outputs": [
    {
     "data": {
      "text/plain": [
       "count    191652.000000\n",
       "mean          0.090247\n",
       "std           0.286536\n",
       "min           0.000000\n",
       "25%           0.000000\n",
       "50%           0.000000\n",
       "75%           0.000000\n",
       "max           1.000000\n",
       "Name: ONLINE_PURCHASE, dtype: float64"
      ]
     },
     "execution_count": 155,
     "metadata": {},
     "output_type": "execute_result"
    }
   ],
   "source": [
    "# inspect new numeric feature 'ONLINE_PURCHASE'\n",
    "customers['ONLINE_PURCHASE'].describe()"
   ]
  },
  {
   "cell_type": "code",
   "execution_count": 156,
   "metadata": {},
   "outputs": [
    {
     "data": {
      "image/png": "[encoded data removed]",
      "text/plain": [
       "<Figure size 432x288 with 1 Axes>"
      ]
     },
     "metadata": {},
     "output_type": "display_data"
    }
   ],
   "source": [
    "plt.hist(customers['ONLINE_PURCHASE'])\n",
    "plt.show()"
   ]
  },
  {
   "cell_type": "markdown",
   "metadata": {},
   "source": [
    "#### Check for sparse columns"
   ]
  },
  {
   "cell_type": "code",
   "execution_count": 43,
   "metadata": {},
   "outputs": [
    {
     "data": {
      "text/plain": [
       "ALTER_KIND4                  191416\n",
       "ALTER_KIND3                  190377\n",
       "ALTER_KIND2                  186552\n",
       "ALTER_KIND1                  179886\n",
       "KK_KUNDENTYP                 111937\n",
       "EXTSEL992                     85283\n",
       "KBA05_SEG7                    55980\n",
       "KBA05_KW1                     55980\n",
       "KBA05_SEG4                    55980\n",
       "KBA05_SEG5                    55980\n",
       "KBA05_SEG6                    55980\n",
       "KBA05_MAXAH                   55980\n",
       "KBA05_SEG8                    55980\n",
       "KBA05_KW2                     55980\n",
       "KBA05_VORB0                   55980\n",
       "KBA05_KRSZUL                  55980\n",
       "KBA05_VORB1                   55980\n",
       "KBA05_KRSVAN                  55980\n",
       "KBA05_KRSOBER                 55980\n",
       "KBA05_SEG9                    55980\n",
       "MOBI_REGIO                    55980\n",
       "KBA05_KW3                     55980\n",
       "KBA05_SEG3                    55980\n",
       "KBA05_KRSHERST3               55980\n",
       "KBA05_MAXBJ                   55980\n",
       "KBA05_MAXHERST                55980\n",
       "KBA05_MAXSEG                  55980\n",
       "KBA05_MAXVORB                 55980\n",
       "KBA05_MOD1                    55980\n",
       "KBA05_MOD2                    55980\n",
       "                              ...  \n",
       "D19_VERSAND_ANZ_24                0\n",
       "D19_SAMMELARTIKEL                 0\n",
       "D19_SCHUHE                        0\n",
       "D19_SONSTIGE                      0\n",
       "D19_TECHNIK                       0\n",
       "D19_TELKO_ANZ_12                  0\n",
       "D19_TELKO_ANZ_24                  0\n",
       "D19_TELKO_DATUM                   0\n",
       "D19_TELKO_MOBILE                  0\n",
       "D19_TELKO_OFFLINE_DATUM           0\n",
       "D19_TELKO_ONLINE_DATUM            0\n",
       "D19_TELKO_REST                    0\n",
       "D19_TIERARTIKEL                   0\n",
       "D19_VERSAND_ANZ_12                0\n",
       "D19_VERSAND_DATUM                 0\n",
       "FINANZ_MINIMALIST                 0\n",
       "D19_VERSAND_OFFLINE_DATUM         0\n",
       "D19_VERSAND_ONLINE_DATUM          0\n",
       "D19_VERSAND_REST                  0\n",
       "D19_VERSI_ANZ_12                  0\n",
       "D19_VERSI_ANZ_24                  0\n",
       "D19_VERSI_DATUM                   0\n",
       "D19_VERSI_OFFLINE_DATUM           0\n",
       "D19_VERSI_ONLINE_DATUM            0\n",
       "D19_VERSICHERUNGEN                0\n",
       "D19_VOLLSORTIMENT                 0\n",
       "D19_WEIN_FEINKOST                 0\n",
       "FINANZ_ANLEGER                    0\n",
       "FINANZ_HAUSBAUER                  0\n",
       "LNR                               0\n",
       "Length: 369, dtype: int64"
      ]
     },
     "execution_count": 43,
     "metadata": {},
     "output_type": "execute_result"
    }
   ],
   "source": [
    "customers.isnull().sum().sort_values(ascending=False)"
   ]
  },
  {
   "cell_type": "code",
   "execution_count": 44,
   "metadata": {},
   "outputs": [
    {
     "data": {
      "text/plain": [
       "count       369.000000\n",
       "mean      37573.230352\n",
       "std       29023.125309\n",
       "min           0.000000\n",
       "25%           0.000000\n",
       "50%       51281.000000\n",
       "75%       51281.000000\n",
       "max      191416.000000\n",
       "dtype: float64"
      ]
     },
     "execution_count": 44,
     "metadata": {},
     "output_type": "execute_result"
    }
   ],
   "source": [
    "missing_cols = customers.isnull().sum().describe()\n",
    "missing_cols"
   ]
  },
  {
   "cell_type": "code",
   "execution_count": 45,
   "metadata": {},
   "outputs": [
    {
     "data": {
      "image/png": "[encoded data removed]",
      "text/plain": [
       "<Figure size 432x288 with 1 Axes>"
      ]
     },
     "metadata": {},
     "output_type": "display_data"
    }
   ],
   "source": [
    "plt.hist(x=customers.isnull().sum(), bins=20)\n",
    "plt.show()"
   ]
  },
  {
   "cell_type": "markdown",
   "metadata": {},
   "source": [
    "#### Check for sparse rows"
   ]
  },
  {
   "cell_type": "code",
   "execution_count": 46,
   "metadata": {},
   "outputs": [
    {
     "data": {
      "text/plain": [
       "count    191652.000000\n",
       "mean         72.342172\n",
       "std         107.600590\n",
       "min           0.000000\n",
       "25%           4.000000\n",
       "50%           5.000000\n",
       "75%         225.000000\n",
       "max         259.000000\n",
       "dtype: float64"
      ]
     },
     "execution_count": 46,
     "metadata": {},
     "output_type": "execute_result"
    }
   ],
   "source": [
    "customers.isnull().sum(axis=1).describe()"
   ]
  },
  {
   "cell_type": "code",
   "execution_count": 47,
   "metadata": {},
   "outputs": [
    {
     "data": {
      "image/png": "[encoded data removed]",
      "text/plain": [
       "<Figure size 432x288 with 1 Axes>"
      ]
     },
     "metadata": {},
     "output_type": "display_data"
    }
   ],
   "source": [
    "plt.hist(x=customers.isnull().sum(axis=1), bins=20)\n",
    "plt.show()"
   ]
  },
  {
   "cell_type": "markdown",
   "metadata": {},
   "source": [
    "#### Explore categorical data"
   ]
  },
  {
   "cell_type": "code",
   "execution_count": 48,
   "metadata": {},
   "outputs": [
    {
     "data": {
      "text/html": [
       "<div>\n",
       "<style scoped>\n",
       "    .dataframe tbody tr th:only-of-type {\n",
       "        vertical-align: middle;\n",
       "    }\n",
       "\n",
       "    .dataframe tbody tr th {\n",
       "        vertical-align: top;\n",
       "    }\n",
       "\n",
       "    .dataframe thead th {\n",
       "        text-align: right;\n",
       "    }\n",
       "</style>\n",
       "<table border=\"1\" class=\"dataframe\">\n",
       "  <thead>\n",
       "    <tr style=\"text-align: right;\">\n",
       "      <th></th>\n",
       "      <th>CAMEO_DEU_2015</th>\n",
       "      <th>CAMEO_DEUG_2015</th>\n",
       "      <th>CAMEO_INTL_2015</th>\n",
       "      <th>D19_LETZTER_KAUF_BRANCHE</th>\n",
       "      <th>EINGEFUEGT_AM</th>\n",
       "      <th>OST_WEST_KZ</th>\n",
       "      <th>PRODUCT_GROUP</th>\n",
       "      <th>CUSTOMER_GROUP</th>\n",
       "    </tr>\n",
       "  </thead>\n",
       "  <tbody>\n",
       "    <tr>\n",
       "      <th>count</th>\n",
       "      <td>141224</td>\n",
       "      <td>141224</td>\n",
       "      <td>141224</td>\n",
       "      <td>143955</td>\n",
       "      <td>141725</td>\n",
       "      <td>141725</td>\n",
       "      <td>191652</td>\n",
       "      <td>191652</td>\n",
       "    </tr>\n",
       "    <tr>\n",
       "      <th>unique</th>\n",
       "      <td>45</td>\n",
       "      <td>19</td>\n",
       "      <td>43</td>\n",
       "      <td>35</td>\n",
       "      <td>3034</td>\n",
       "      <td>2</td>\n",
       "      <td>3</td>\n",
       "      <td>2</td>\n",
       "    </tr>\n",
       "    <tr>\n",
       "      <th>top</th>\n",
       "      <td>2D</td>\n",
       "      <td>2</td>\n",
       "      <td>14</td>\n",
       "      <td>D19_UNBEKANNT</td>\n",
       "      <td>1992-02-10 00:00:00</td>\n",
       "      <td>W</td>\n",
       "      <td>COSMETIC_AND_FOOD</td>\n",
       "      <td>MULTI_BUYER</td>\n",
       "    </tr>\n",
       "    <tr>\n",
       "      <th>freq</th>\n",
       "      <td>11208</td>\n",
       "      <td>17574</td>\n",
       "      <td>14708</td>\n",
       "      <td>31910</td>\n",
       "      <td>64744</td>\n",
       "      <td>130382</td>\n",
       "      <td>100860</td>\n",
       "      <td>132238</td>\n",
       "    </tr>\n",
       "  </tbody>\n",
       "</table>\n",
       "</div>"
      ],
      "text/plain": [
       "       CAMEO_DEU_2015 CAMEO_DEUG_2015 CAMEO_INTL_2015  \\\n",
       "count          141224          141224          141224   \n",
       "unique             45              19              43   \n",
       "top                2D               2              14   \n",
       "freq            11208           17574           14708   \n",
       "\n",
       "       D19_LETZTER_KAUF_BRANCHE        EINGEFUEGT_AM OST_WEST_KZ  \\\n",
       "count                    143955               141725      141725   \n",
       "unique                       35                 3034           2   \n",
       "top               D19_UNBEKANNT  1992-02-10 00:00:00           W   \n",
       "freq                      31910                64744      130382   \n",
       "\n",
       "            PRODUCT_GROUP CUSTOMER_GROUP  \n",
       "count              191652         191652  \n",
       "unique                  3              2  \n",
       "top     COSMETIC_AND_FOOD    MULTI_BUYER  \n",
       "freq               100860         132238  "
      ]
     },
     "execution_count": 48,
     "metadata": {},
     "output_type": "execute_result"
    }
   ],
   "source": [
    "customers.select_dtypes(include=['object']).describe()"
   ]
  },
  {
   "cell_type": "code",
   "execution_count": 49,
   "metadata": {},
   "outputs": [
    {
     "data": {
      "image/png": "[encoded data removed]",
      "text/plain": [
       "<Figure size 432x288 with 1 Axes>"
      ]
     },
     "metadata": {},
     "output_type": "display_data"
    }
   ],
   "source": [
    "# count plot for product data (categorical) for illustration purposes\n",
    "sns.countplot(y='PRODUCT_GROUP', data=customers)\n",
    "plt.show()"
   ]
  },
  {
   "cell_type": "code",
   "execution_count": 154,
   "metadata": {},
   "outputs": [
    {
     "data": {
      "image/png": "[encoded data removed]",
      "text/plain": [
       "<Figure size 432x288 with 1 Axes>"
      ]
     },
     "metadata": {},
     "output_type": "display_data"
    }
   ],
   "source": [
    "# count plot for CUSTOMER_GROUP feature\n",
    "sns.countplot(y='CUSTOMER_GROUP', data=customers)\n",
    "plt.show()"
   ]
  },
  {
   "cell_type": "code",
   "execution_count": 50,
   "metadata": {},
   "outputs": [
    {
     "data": {
      "text/plain": [
       "array([1.0, nan, 5.0, 4.0, 7.0, 3.0, 9.0, 2.0, 6.0, 8.0, '6', '3', '8',\n",
       "       '9', '2', '4', '1', '7', '5', 'X'], dtype=object)"
      ]
     },
     "execution_count": 50,
     "metadata": {},
     "output_type": "execute_result"
    }
   ],
   "source": [
    "# explore feature with mixed datatype\n",
    "customers['CAMEO_DEUG_2015'].unique()"
   ]
  },
  {
   "cell_type": "markdown",
   "metadata": {},
   "source": [
    "### Insights\n",
    "Seems that the data makeup of the `customers` dataset is similar to that of the general census data (`azdias`). Processing steps will be similar, just that the thresholds used to remove columns and rows based on missing data composition will be different."
   ]
  },
  {
   "cell_type": "markdown",
   "metadata": {},
   "source": [
    "## Data Cleaning and Engineering function\n",
    "\n",
    "The data processing steps of cleaning and feature engineering will be encapsulated in the function below. The function will streamline these processes for the `customers` dataset."
   ]
  },
  {
   "cell_type": "code",
   "execution_count": 51,
   "metadata": {},
   "outputs": [],
   "source": [
    "def process_data(df):\n",
    "    # process the CAMEO_INTL data\n",
    "    df['CAMEO_INTL_2015'] = df['CAMEO_INTL_2015'].fillna('00')\n",
    "    df['CAMEO_INTL_2015'] =  df['CAMEO_INTL_2015'].replace('XX', '00')\n",
    "    df['CAMEO_INTL_2015'] = df['CAMEO_INTL_2015'].apply(lambda x: str(x))\n",
    "    \n",
    "    # process the CAMEO_DEU data\n",
    "    df['CAMEO_DEU_2015'] = df['CAMEO_DEU_2015'].fillna('00')\n",
    "    df['CAMEO_DEU_2015'] = df['CAMEO_DEU_2015'].replace('XX', '00')\n",
    "    df = df.drop(columns=['CAMEO_DEUG_2015'], axis=1)\n",
    "    \n",
    "    # removing sparse columns\n",
    "    missing_cols = df.isnull().sum()\n",
    "    low_missing_cols = missing_cols[missing_cols < 75000]\n",
    "    df = df[low_missing_cols.index]\n",
    "    \n",
    "    # drop unwanted features\n",
    "    df = df.drop(['LNR', 'EINGEFUEGT_AM'], axis=1)\n",
    "    \n",
    "    # engineer new features for CAMEO_INTL\n",
    "    df['WEALTH_LEVEL'] = df['CAMEO_INTL_2015'].apply(lambda x: int(x[0]))\n",
    "    df['FAMILY_AGE_BAND'] = df['CAMEO_INTL_2015'].apply(lambda x: int(x[1]))\n",
    "    # drop the original feature\n",
    "    df = df.drop(['CAMEO_INTL_2015'], axis=1)\n",
    "    \n",
    "    # one-hot encode categorical data\n",
    "    df = pd.get_dummies(df, columns=df.select_dtypes(include=['object']).columns.values)\n",
    "    # remove the categorical features\n",
    "    df = df.drop(df.select_dtypes(include=['object']).columns.values, axis=1)\n",
    "    \n",
    "    # flag and fill missing numeric data\n",
    "    for col in df:\n",
    "        if df[col].isnull().sum() > 0:\n",
    "            df[f'{col}_is_missing'] = df[col].isnull().astype(int)\n",
    "    \n",
    "    df.fillna(0, inplace=True)\n",
    "    \n",
    "    return df\n",
    "    "
   ]
  },
  {
   "cell_type": "code",
   "execution_count": 52,
   "metadata": {},
   "outputs": [
    {
     "data": {
      "text/plain": [
       "(191652, 704)"
      ]
     },
     "execution_count": 52,
     "metadata": {},
     "output_type": "execute_result"
    }
   ],
   "source": [
    "customers_cleaned = process_data(customers)\n",
    "customers_cleaned.shape"
   ]
  },
  {
   "cell_type": "code",
   "execution_count": 53,
   "metadata": {},
   "outputs": [
    {
     "data": {
      "text/html": [
       "<div>\n",
       "<style scoped>\n",
       "    .dataframe tbody tr th:only-of-type {\n",
       "        vertical-align: middle;\n",
       "    }\n",
       "\n",
       "    .dataframe tbody tr th {\n",
       "        vertical-align: top;\n",
       "    }\n",
       "\n",
       "    .dataframe thead th {\n",
       "        text-align: right;\n",
       "    }\n",
       "</style>\n",
       "<table border=\"1\" class=\"dataframe\">\n",
       "  <thead>\n",
       "    <tr style=\"text-align: right;\">\n",
       "      <th></th>\n",
       "      <th>AGER_TYP</th>\n",
       "      <th>AKT_DAT_KL</th>\n",
       "      <th>ALTER_HH</th>\n",
       "      <th>ALTERSKATEGORIE_FEIN</th>\n",
       "      <th>ANZ_HAUSHALTE_AKTIV</th>\n",
       "      <th>ANZ_HH_TITEL</th>\n",
       "      <th>ANZ_KINDER</th>\n",
       "      <th>ANZ_PERSONEN</th>\n",
       "      <th>ANZ_STATISTISCHE_HAUSHALTE</th>\n",
       "      <th>ANZ_TITEL</th>\n",
       "      <th>...</th>\n",
       "      <th>UNGLEICHENN_FLAG_is_missing</th>\n",
       "      <th>VERDICHTUNGSRAUM_is_missing</th>\n",
       "      <th>VHA_is_missing</th>\n",
       "      <th>VHN_is_missing</th>\n",
       "      <th>VK_DHT4A_is_missing</th>\n",
       "      <th>VK_DISTANZ_is_missing</th>\n",
       "      <th>VK_ZG11_is_missing</th>\n",
       "      <th>W_KEIT_KIND_HH_is_missing</th>\n",
       "      <th>WOHNDAUER_2008_is_missing</th>\n",
       "      <th>WOHNLAGE_is_missing</th>\n",
       "    </tr>\n",
       "  </thead>\n",
       "  <tbody>\n",
       "    <tr>\n",
       "      <th>count</th>\n",
       "      <td>191652.000000</td>\n",
       "      <td>191652.000000</td>\n",
       "      <td>191652.000000</td>\n",
       "      <td>191652.000000</td>\n",
       "      <td>191652.000000</td>\n",
       "      <td>191652.000000</td>\n",
       "      <td>191652.000000</td>\n",
       "      <td>191652.000000</td>\n",
       "      <td>191652.000000</td>\n",
       "      <td>191652.000000</td>\n",
       "      <td>...</td>\n",
       "      <td>191652.000000</td>\n",
       "      <td>191652.000000</td>\n",
       "      <td>191652.000000</td>\n",
       "      <td>191652.000000</td>\n",
       "      <td>191652.000000</td>\n",
       "      <td>191652.000000</td>\n",
       "      <td>191652.000000</td>\n",
       "      <td>191652.000000</td>\n",
       "      <td>191652.000000</td>\n",
       "      <td>191652.000000</td>\n",
       "    </tr>\n",
       "    <tr>\n",
       "      <th>mean</th>\n",
       "      <td>0.344359</td>\n",
       "      <td>1.322653</td>\n",
       "      <td>8.592016</td>\n",
       "      <td>7.536879</td>\n",
       "      <td>3.672213</td>\n",
       "      <td>0.049084</td>\n",
       "      <td>0.103239</td>\n",
       "      <td>1.716455</td>\n",
       "      <td>3.476562</td>\n",
       "      <td>0.015434</td>\n",
       "      <td>...</td>\n",
       "      <td>0.243128</td>\n",
       "      <td>0.263373</td>\n",
       "      <td>0.243128</td>\n",
       "      <td>0.283117</td>\n",
       "      <td>0.249781</td>\n",
       "      <td>0.249781</td>\n",
       "      <td>0.249781</td>\n",
       "      <td>0.280415</td>\n",
       "      <td>0.243128</td>\n",
       "      <td>0.260509</td>\n",
       "    </tr>\n",
       "    <tr>\n",
       "      <th>std</th>\n",
       "      <td>1.391672</td>\n",
       "      <td>1.867720</td>\n",
       "      <td>7.315499</td>\n",
       "      <td>5.790984</td>\n",
       "      <td>12.496959</td>\n",
       "      <td>0.466499</td>\n",
       "      <td>0.433089</td>\n",
       "      <td>1.552439</td>\n",
       "      <td>12.370711</td>\n",
       "      <td>0.132730</td>\n",
       "      <td>...</td>\n",
       "      <td>0.428973</td>\n",
       "      <td>0.440464</td>\n",
       "      <td>0.428973</td>\n",
       "      <td>0.450514</td>\n",
       "      <td>0.432887</td>\n",
       "      <td>0.432887</td>\n",
       "      <td>0.432887</td>\n",
       "      <td>0.449203</td>\n",
       "      <td>0.428973</td>\n",
       "      <td>0.438913</td>\n",
       "    </tr>\n",
       "    <tr>\n",
       "      <th>min</th>\n",
       "      <td>-1.000000</td>\n",
       "      <td>0.000000</td>\n",
       "      <td>0.000000</td>\n",
       "      <td>0.000000</td>\n",
       "      <td>0.000000</td>\n",
       "      <td>0.000000</td>\n",
       "      <td>0.000000</td>\n",
       "      <td>0.000000</td>\n",
       "      <td>0.000000</td>\n",
       "      <td>0.000000</td>\n",
       "      <td>...</td>\n",
       "      <td>0.000000</td>\n",
       "      <td>0.000000</td>\n",
       "      <td>0.000000</td>\n",
       "      <td>0.000000</td>\n",
       "      <td>0.000000</td>\n",
       "      <td>0.000000</td>\n",
       "      <td>0.000000</td>\n",
       "      <td>0.000000</td>\n",
       "      <td>0.000000</td>\n",
       "      <td>0.000000</td>\n",
       "    </tr>\n",
       "    <tr>\n",
       "      <th>25%</th>\n",
       "      <td>-1.000000</td>\n",
       "      <td>1.000000</td>\n",
       "      <td>0.000000</td>\n",
       "      <td>0.000000</td>\n",
       "      <td>0.000000</td>\n",
       "      <td>0.000000</td>\n",
       "      <td>0.000000</td>\n",
       "      <td>0.000000</td>\n",
       "      <td>0.000000</td>\n",
       "      <td>0.000000</td>\n",
       "      <td>...</td>\n",
       "      <td>0.000000</td>\n",
       "      <td>0.000000</td>\n",
       "      <td>0.000000</td>\n",
       "      <td>0.000000</td>\n",
       "      <td>0.000000</td>\n",
       "      <td>0.000000</td>\n",
       "      <td>0.000000</td>\n",
       "      <td>0.000000</td>\n",
       "      <td>0.000000</td>\n",
       "      <td>0.000000</td>\n",
       "    </tr>\n",
       "    <tr>\n",
       "      <th>50%</th>\n",
       "      <td>0.000000</td>\n",
       "      <td>1.000000</td>\n",
       "      <td>9.000000</td>\n",
       "      <td>9.000000</td>\n",
       "      <td>1.000000</td>\n",
       "      <td>0.000000</td>\n",
       "      <td>0.000000</td>\n",
       "      <td>2.000000</td>\n",
       "      <td>1.000000</td>\n",
       "      <td>0.000000</td>\n",
       "      <td>...</td>\n",
       "      <td>0.000000</td>\n",
       "      <td>0.000000</td>\n",
       "      <td>0.000000</td>\n",
       "      <td>0.000000</td>\n",
       "      <td>0.000000</td>\n",
       "      <td>0.000000</td>\n",
       "      <td>0.000000</td>\n",
       "      <td>0.000000</td>\n",
       "      <td>0.000000</td>\n",
       "      <td>0.000000</td>\n",
       "    </tr>\n",
       "    <tr>\n",
       "      <th>75%</th>\n",
       "      <td>2.000000</td>\n",
       "      <td>1.000000</td>\n",
       "      <td>15.000000</td>\n",
       "      <td>12.000000</td>\n",
       "      <td>2.000000</td>\n",
       "      <td>0.000000</td>\n",
       "      <td>0.000000</td>\n",
       "      <td>3.000000</td>\n",
       "      <td>2.000000</td>\n",
       "      <td>0.000000</td>\n",
       "      <td>...</td>\n",
       "      <td>0.000000</td>\n",
       "      <td>1.000000</td>\n",
       "      <td>0.000000</td>\n",
       "      <td>1.000000</td>\n",
       "      <td>0.000000</td>\n",
       "      <td>0.000000</td>\n",
       "      <td>0.000000</td>\n",
       "      <td>1.000000</td>\n",
       "      <td>0.000000</td>\n",
       "      <td>1.000000</td>\n",
       "    </tr>\n",
       "    <tr>\n",
       "      <th>max</th>\n",
       "      <td>3.000000</td>\n",
       "      <td>9.000000</td>\n",
       "      <td>21.000000</td>\n",
       "      <td>25.000000</td>\n",
       "      <td>523.000000</td>\n",
       "      <td>23.000000</td>\n",
       "      <td>8.000000</td>\n",
       "      <td>21.000000</td>\n",
       "      <td>375.000000</td>\n",
       "      <td>5.000000</td>\n",
       "      <td>...</td>\n",
       "      <td>1.000000</td>\n",
       "      <td>1.000000</td>\n",
       "      <td>1.000000</td>\n",
       "      <td>1.000000</td>\n",
       "      <td>1.000000</td>\n",
       "      <td>1.000000</td>\n",
       "      <td>1.000000</td>\n",
       "      <td>1.000000</td>\n",
       "      <td>1.000000</td>\n",
       "      <td>1.000000</td>\n",
       "    </tr>\n",
       "  </tbody>\n",
       "</table>\n",
       "<p>8 rows × 704 columns</p>\n",
       "</div>"
      ],
      "text/plain": [
       "            AGER_TYP     AKT_DAT_KL       ALTER_HH  ALTERSKATEGORIE_FEIN  \\\n",
       "count  191652.000000  191652.000000  191652.000000         191652.000000   \n",
       "mean        0.344359       1.322653       8.592016              7.536879   \n",
       "std         1.391672       1.867720       7.315499              5.790984   \n",
       "min        -1.000000       0.000000       0.000000              0.000000   \n",
       "25%        -1.000000       1.000000       0.000000              0.000000   \n",
       "50%         0.000000       1.000000       9.000000              9.000000   \n",
       "75%         2.000000       1.000000      15.000000             12.000000   \n",
       "max         3.000000       9.000000      21.000000             25.000000   \n",
       "\n",
       "       ANZ_HAUSHALTE_AKTIV   ANZ_HH_TITEL     ANZ_KINDER   ANZ_PERSONEN  \\\n",
       "count        191652.000000  191652.000000  191652.000000  191652.000000   \n",
       "mean              3.672213       0.049084       0.103239       1.716455   \n",
       "std              12.496959       0.466499       0.433089       1.552439   \n",
       "min               0.000000       0.000000       0.000000       0.000000   \n",
       "25%               0.000000       0.000000       0.000000       0.000000   \n",
       "50%               1.000000       0.000000       0.000000       2.000000   \n",
       "75%               2.000000       0.000000       0.000000       3.000000   \n",
       "max             523.000000      23.000000       8.000000      21.000000   \n",
       "\n",
       "       ANZ_STATISTISCHE_HAUSHALTE      ANZ_TITEL  ...  \\\n",
       "count               191652.000000  191652.000000  ...   \n",
       "mean                     3.476562       0.015434  ...   \n",
       "std                     12.370711       0.132730  ...   \n",
       "min                      0.000000       0.000000  ...   \n",
       "25%                      0.000000       0.000000  ...   \n",
       "50%                      1.000000       0.000000  ...   \n",
       "75%                      2.000000       0.000000  ...   \n",
       "max                    375.000000       5.000000  ...   \n",
       "\n",
       "       UNGLEICHENN_FLAG_is_missing  VERDICHTUNGSRAUM_is_missing  \\\n",
       "count                191652.000000                191652.000000   \n",
       "mean                      0.243128                     0.263373   \n",
       "std                       0.428973                     0.440464   \n",
       "min                       0.000000                     0.000000   \n",
       "25%                       0.000000                     0.000000   \n",
       "50%                       0.000000                     0.000000   \n",
       "75%                       0.000000                     1.000000   \n",
       "max                       1.000000                     1.000000   \n",
       "\n",
       "       VHA_is_missing  VHN_is_missing  VK_DHT4A_is_missing  \\\n",
       "count   191652.000000   191652.000000        191652.000000   \n",
       "mean         0.243128        0.283117             0.249781   \n",
       "std          0.428973        0.450514             0.432887   \n",
       "min          0.000000        0.000000             0.000000   \n",
       "25%          0.000000        0.000000             0.000000   \n",
       "50%          0.000000        0.000000             0.000000   \n",
       "75%          0.000000        1.000000             0.000000   \n",
       "max          1.000000        1.000000             1.000000   \n",
       "\n",
       "       VK_DISTANZ_is_missing  VK_ZG11_is_missing  W_KEIT_KIND_HH_is_missing  \\\n",
       "count          191652.000000       191652.000000              191652.000000   \n",
       "mean                0.249781            0.249781                   0.280415   \n",
       "std                 0.432887            0.432887                   0.449203   \n",
       "min                 0.000000            0.000000                   0.000000   \n",
       "25%                 0.000000            0.000000                   0.000000   \n",
       "50%                 0.000000            0.000000                   0.000000   \n",
       "75%                 0.000000            0.000000                   1.000000   \n",
       "max                 1.000000            1.000000                   1.000000   \n",
       "\n",
       "       WOHNDAUER_2008_is_missing  WOHNLAGE_is_missing  \n",
       "count              191652.000000        191652.000000  \n",
       "mean                    0.243128             0.260509  \n",
       "std                     0.428973             0.438913  \n",
       "min                     0.000000             0.000000  \n",
       "25%                     0.000000             0.000000  \n",
       "50%                     0.000000             0.000000  \n",
       "75%                     0.000000             1.000000  \n",
       "max                     1.000000             1.000000  \n",
       "\n",
       "[8 rows x 704 columns]"
      ]
     },
     "execution_count": 53,
     "metadata": {},
     "output_type": "execute_result"
    }
   ],
   "source": [
    "# Some checks\n",
    "customers_cleaned.describe()"
   ]
  },
  {
   "cell_type": "code",
   "execution_count": 54,
   "metadata": {},
   "outputs": [
    {
     "data": {
      "text/plain": [
       "0"
      ]
     },
     "execution_count": 54,
     "metadata": {},
     "output_type": "execute_result"
    }
   ],
   "source": [
    "customers_cleaned.isnull().sum().sum()"
   ]
  },
  {
   "cell_type": "markdown",
   "metadata": {},
   "source": [
    "### Normalize the Data\n",
    "\n",
    "Now that we have cleaned up both datasets, we apply scaling transformations to our cleaned data using `MinMaxScaler()`. "
   ]
  },
  {
   "cell_type": "code",
   "execution_count": 55,
   "metadata": {},
   "outputs": [],
   "source": [
    "scaler = MinMaxScaler()\n",
    "\n",
    "# scale the general census data\n",
    "azdias_scaled = pd.DataFrame(scaler.fit_transform(azdias_cleaned.astype(float)))\n",
    "\n",
    "# rename the columns of azdias_scaled to that of the columns in azdias_cleaned \n",
    "azdias_scaled.columns = azdias_cleaned.columns"
   ]
  },
  {
   "cell_type": "code",
   "execution_count": 56,
   "metadata": {},
   "outputs": [
    {
     "data": {
      "text/html": [
       "<div>\n",
       "<style scoped>\n",
       "    .dataframe tbody tr th:only-of-type {\n",
       "        vertical-align: middle;\n",
       "    }\n",
       "\n",
       "    .dataframe tbody tr th {\n",
       "        vertical-align: top;\n",
       "    }\n",
       "\n",
       "    .dataframe thead th {\n",
       "        text-align: right;\n",
       "    }\n",
       "</style>\n",
       "<table border=\"1\" class=\"dataframe\">\n",
       "  <thead>\n",
       "    <tr style=\"text-align: right;\">\n",
       "      <th></th>\n",
       "      <th>AGER_TYP</th>\n",
       "      <th>AKT_DAT_KL</th>\n",
       "      <th>ALTER_HH</th>\n",
       "      <th>ANZ_HAUSHALTE_AKTIV</th>\n",
       "      <th>ANZ_HH_TITEL</th>\n",
       "      <th>ANZ_KINDER</th>\n",
       "      <th>ANZ_PERSONEN</th>\n",
       "      <th>ANZ_STATISTISCHE_HAUSHALTE</th>\n",
       "      <th>ANZ_TITEL</th>\n",
       "      <th>ARBEIT</th>\n",
       "      <th>...</th>\n",
       "      <th>RT_UEBERGROESSE_is_missing</th>\n",
       "      <th>STRUKTURTYP_is_missing</th>\n",
       "      <th>UMFELD_ALT_is_missing</th>\n",
       "      <th>UMFELD_JUNG_is_missing</th>\n",
       "      <th>VERDICHTUNGSRAUM_is_missing</th>\n",
       "      <th>VHN_is_missing</th>\n",
       "      <th>VK_DHT4A_is_missing</th>\n",
       "      <th>VK_DISTANZ_is_missing</th>\n",
       "      <th>VK_ZG11_is_missing</th>\n",
       "      <th>W_KEIT_KIND_HH_is_missing</th>\n",
       "    </tr>\n",
       "  </thead>\n",
       "  <tbody>\n",
       "    <tr>\n",
       "      <th>count</th>\n",
       "      <td>751331.000000</td>\n",
       "      <td>751331.000000</td>\n",
       "      <td>751331.000000</td>\n",
       "      <td>751331.000000</td>\n",
       "      <td>751331.000000</td>\n",
       "      <td>751331.000000</td>\n",
       "      <td>751331.000000</td>\n",
       "      <td>751331.000000</td>\n",
       "      <td>751331.000000</td>\n",
       "      <td>751331.000000</td>\n",
       "      <td>...</td>\n",
       "      <td>751331.000000</td>\n",
       "      <td>751331.000000</td>\n",
       "      <td>751331.000000</td>\n",
       "      <td>751331.000000</td>\n",
       "      <td>751331.000000</td>\n",
       "      <td>751331.000000</td>\n",
       "      <td>751331.000000</td>\n",
       "      <td>751331.000000</td>\n",
       "      <td>751331.000000</td>\n",
       "      <td>751331.000000</td>\n",
       "    </tr>\n",
       "    <tr>\n",
       "      <th>mean</th>\n",
       "      <td>0.176729</td>\n",
       "      <td>0.429999</td>\n",
       "      <td>0.515195</td>\n",
       "      <td>0.015875</td>\n",
       "      <td>0.002047</td>\n",
       "      <td>0.013097</td>\n",
       "      <td>0.038413</td>\n",
       "      <td>0.017352</td>\n",
       "      <td>0.001035</td>\n",
       "      <td>0.352074</td>\n",
       "      <td>...</td>\n",
       "      <td>0.006861</td>\n",
       "      <td>0.005279</td>\n",
       "      <td>0.004488</td>\n",
       "      <td>0.004488</td>\n",
       "      <td>0.005279</td>\n",
       "      <td>0.009696</td>\n",
       "      <td>0.002943</td>\n",
       "      <td>0.002943</td>\n",
       "      <td>0.002943</td>\n",
       "      <td>0.041903</td>\n",
       "    </tr>\n",
       "    <tr>\n",
       "      <th>std</th>\n",
       "      <td>0.308504</td>\n",
       "      <td>0.456203</td>\n",
       "      <td>0.363587</td>\n",
       "      <td>0.029223</td>\n",
       "      <td>0.015951</td>\n",
       "      <td>0.044118</td>\n",
       "      <td>0.025833</td>\n",
       "      <td>0.032071</td>\n",
       "      <td>0.017071</td>\n",
       "      <td>0.113284</td>\n",
       "      <td>...</td>\n",
       "      <td>0.082548</td>\n",
       "      <td>0.072462</td>\n",
       "      <td>0.066842</td>\n",
       "      <td>0.066842</td>\n",
       "      <td>0.072462</td>\n",
       "      <td>0.097990</td>\n",
       "      <td>0.054168</td>\n",
       "      <td>0.054168</td>\n",
       "      <td>0.054168</td>\n",
       "      <td>0.200368</td>\n",
       "    </tr>\n",
       "    <tr>\n",
       "      <th>min</th>\n",
       "      <td>0.000000</td>\n",
       "      <td>0.000000</td>\n",
       "      <td>0.000000</td>\n",
       "      <td>0.000000</td>\n",
       "      <td>0.000000</td>\n",
       "      <td>0.000000</td>\n",
       "      <td>0.000000</td>\n",
       "      <td>0.000000</td>\n",
       "      <td>0.000000</td>\n",
       "      <td>0.000000</td>\n",
       "      <td>...</td>\n",
       "      <td>0.000000</td>\n",
       "      <td>0.000000</td>\n",
       "      <td>0.000000</td>\n",
       "      <td>0.000000</td>\n",
       "      <td>0.000000</td>\n",
       "      <td>0.000000</td>\n",
       "      <td>0.000000</td>\n",
       "      <td>0.000000</td>\n",
       "      <td>0.000000</td>\n",
       "      <td>0.000000</td>\n",
       "    </tr>\n",
       "    <tr>\n",
       "      <th>25%</th>\n",
       "      <td>0.000000</td>\n",
       "      <td>0.000000</td>\n",
       "      <td>0.000000</td>\n",
       "      <td>0.003731</td>\n",
       "      <td>0.000000</td>\n",
       "      <td>0.000000</td>\n",
       "      <td>0.022222</td>\n",
       "      <td>0.002227</td>\n",
       "      <td>0.000000</td>\n",
       "      <td>0.333333</td>\n",
       "      <td>...</td>\n",
       "      <td>0.000000</td>\n",
       "      <td>0.000000</td>\n",
       "      <td>0.000000</td>\n",
       "      <td>0.000000</td>\n",
       "      <td>0.000000</td>\n",
       "      <td>0.000000</td>\n",
       "      <td>0.000000</td>\n",
       "      <td>0.000000</td>\n",
       "      <td>0.000000</td>\n",
       "      <td>0.000000</td>\n",
       "    </tr>\n",
       "    <tr>\n",
       "      <th>50%</th>\n",
       "      <td>0.000000</td>\n",
       "      <td>0.250000</td>\n",
       "      <td>0.619048</td>\n",
       "      <td>0.007463</td>\n",
       "      <td>0.000000</td>\n",
       "      <td>0.000000</td>\n",
       "      <td>0.022222</td>\n",
       "      <td>0.008909</td>\n",
       "      <td>0.000000</td>\n",
       "      <td>0.333333</td>\n",
       "      <td>...</td>\n",
       "      <td>0.000000</td>\n",
       "      <td>0.000000</td>\n",
       "      <td>0.000000</td>\n",
       "      <td>0.000000</td>\n",
       "      <td>0.000000</td>\n",
       "      <td>0.000000</td>\n",
       "      <td>0.000000</td>\n",
       "      <td>0.000000</td>\n",
       "      <td>0.000000</td>\n",
       "      <td>0.000000</td>\n",
       "    </tr>\n",
       "    <tr>\n",
       "      <th>75%</th>\n",
       "      <td>0.500000</td>\n",
       "      <td>1.000000</td>\n",
       "      <td>0.809524</td>\n",
       "      <td>0.018657</td>\n",
       "      <td>0.000000</td>\n",
       "      <td>0.000000</td>\n",
       "      <td>0.044444</td>\n",
       "      <td>0.020045</td>\n",
       "      <td>0.000000</td>\n",
       "      <td>0.444444</td>\n",
       "      <td>...</td>\n",
       "      <td>0.000000</td>\n",
       "      <td>0.000000</td>\n",
       "      <td>0.000000</td>\n",
       "      <td>0.000000</td>\n",
       "      <td>0.000000</td>\n",
       "      <td>0.000000</td>\n",
       "      <td>0.000000</td>\n",
       "      <td>0.000000</td>\n",
       "      <td>0.000000</td>\n",
       "      <td>0.000000</td>\n",
       "    </tr>\n",
       "    <tr>\n",
       "      <th>max</th>\n",
       "      <td>1.000000</td>\n",
       "      <td>1.000000</td>\n",
       "      <td>1.000000</td>\n",
       "      <td>1.000000</td>\n",
       "      <td>1.000000</td>\n",
       "      <td>1.000000</td>\n",
       "      <td>1.000000</td>\n",
       "      <td>1.000000</td>\n",
       "      <td>1.000000</td>\n",
       "      <td>1.000000</td>\n",
       "      <td>...</td>\n",
       "      <td>1.000000</td>\n",
       "      <td>1.000000</td>\n",
       "      <td>1.000000</td>\n",
       "      <td>1.000000</td>\n",
       "      <td>1.000000</td>\n",
       "      <td>1.000000</td>\n",
       "      <td>1.000000</td>\n",
       "      <td>1.000000</td>\n",
       "      <td>1.000000</td>\n",
       "      <td>1.000000</td>\n",
       "    </tr>\n",
       "  </tbody>\n",
       "</table>\n",
       "<p>8 rows × 444 columns</p>\n",
       "</div>"
      ],
      "text/plain": [
       "            AGER_TYP     AKT_DAT_KL       ALTER_HH  ANZ_HAUSHALTE_AKTIV  \\\n",
       "count  751331.000000  751331.000000  751331.000000        751331.000000   \n",
       "mean        0.176729       0.429999       0.515195             0.015875   \n",
       "std         0.308504       0.456203       0.363587             0.029223   \n",
       "min         0.000000       0.000000       0.000000             0.000000   \n",
       "25%         0.000000       0.000000       0.000000             0.003731   \n",
       "50%         0.000000       0.250000       0.619048             0.007463   \n",
       "75%         0.500000       1.000000       0.809524             0.018657   \n",
       "max         1.000000       1.000000       1.000000             1.000000   \n",
       "\n",
       "        ANZ_HH_TITEL     ANZ_KINDER   ANZ_PERSONEN  \\\n",
       "count  751331.000000  751331.000000  751331.000000   \n",
       "mean        0.002047       0.013097       0.038413   \n",
       "std         0.015951       0.044118       0.025833   \n",
       "min         0.000000       0.000000       0.000000   \n",
       "25%         0.000000       0.000000       0.022222   \n",
       "50%         0.000000       0.000000       0.022222   \n",
       "75%         0.000000       0.000000       0.044444   \n",
       "max         1.000000       1.000000       1.000000   \n",
       "\n",
       "       ANZ_STATISTISCHE_HAUSHALTE      ANZ_TITEL         ARBEIT  ...  \\\n",
       "count               751331.000000  751331.000000  751331.000000  ...   \n",
       "mean                     0.017352       0.001035       0.352074  ...   \n",
       "std                      0.032071       0.017071       0.113284  ...   \n",
       "min                      0.000000       0.000000       0.000000  ...   \n",
       "25%                      0.002227       0.000000       0.333333  ...   \n",
       "50%                      0.008909       0.000000       0.333333  ...   \n",
       "75%                      0.020045       0.000000       0.444444  ...   \n",
       "max                      1.000000       1.000000       1.000000  ...   \n",
       "\n",
       "       RT_UEBERGROESSE_is_missing  STRUKTURTYP_is_missing  \\\n",
       "count               751331.000000           751331.000000   \n",
       "mean                     0.006861                0.005279   \n",
       "std                      0.082548                0.072462   \n",
       "min                      0.000000                0.000000   \n",
       "25%                      0.000000                0.000000   \n",
       "50%                      0.000000                0.000000   \n",
       "75%                      0.000000                0.000000   \n",
       "max                      1.000000                1.000000   \n",
       "\n",
       "       UMFELD_ALT_is_missing  UMFELD_JUNG_is_missing  \\\n",
       "count          751331.000000           751331.000000   \n",
       "mean                0.004488                0.004488   \n",
       "std                 0.066842                0.066842   \n",
       "min                 0.000000                0.000000   \n",
       "25%                 0.000000                0.000000   \n",
       "50%                 0.000000                0.000000   \n",
       "75%                 0.000000                0.000000   \n",
       "max                 1.000000                1.000000   \n",
       "\n",
       "       VERDICHTUNGSRAUM_is_missing  VHN_is_missing  VK_DHT4A_is_missing  \\\n",
       "count                751331.000000   751331.000000        751331.000000   \n",
       "mean                      0.005279        0.009696             0.002943   \n",
       "std                       0.072462        0.097990             0.054168   \n",
       "min                       0.000000        0.000000             0.000000   \n",
       "25%                       0.000000        0.000000             0.000000   \n",
       "50%                       0.000000        0.000000             0.000000   \n",
       "75%                       0.000000        0.000000             0.000000   \n",
       "max                       1.000000        1.000000             1.000000   \n",
       "\n",
       "       VK_DISTANZ_is_missing  VK_ZG11_is_missing  W_KEIT_KIND_HH_is_missing  \n",
       "count          751331.000000       751331.000000              751331.000000  \n",
       "mean                0.002943            0.002943                   0.041903  \n",
       "std                 0.054168            0.054168                   0.200368  \n",
       "min                 0.000000            0.000000                   0.000000  \n",
       "25%                 0.000000            0.000000                   0.000000  \n",
       "50%                 0.000000            0.000000                   0.000000  \n",
       "75%                 0.000000            0.000000                   0.000000  \n",
       "max                 1.000000            1.000000                   1.000000  \n",
       "\n",
       "[8 rows x 444 columns]"
      ]
     },
     "execution_count": 56,
     "metadata": {},
     "output_type": "execute_result"
    }
   ],
   "source": [
    "azdias_scaled.describe()"
   ]
  },
  {
   "cell_type": "markdown",
   "metadata": {},
   "source": [
    "# Part 1: Customer Segmentation Report\n",
    "\n",
    "The main bulk of your analysis will come in this part of the project. Here, you should use unsupervised learning techniques to describe the relationship between the demographics of the company's existing customers and the general population of Germany. By the end of this part, you should be able to describe parts of the general population that are more likely to be part of the mail-order company's main customer base, and which parts of the general population are less so."
   ]
  },
  {
   "cell_type": "markdown",
   "metadata": {},
   "source": [
    "## Data Modeling\n",
    "\n",
    "Clustering algorithms like K-Means rely on finding clusters in an n-dimensional feature space. For high-dimensional datasets such as ours', the clustering algorithm might **face difficulty determining the more important features, thus resulting in noisier clusters.**\n",
    "\n",
    "Some dimensions have less importance compared to others. For egs, if every population is entirely made up of wealthy people, then this feature that measures wealth has not much significance; it will not help to separate our dataset into clusters based on wealth, because the value *does not vary*.\n",
    "\n",
    "Instead, we want to **find features that explain the most variance** in the dataset. \n",
    "\n",
    "Therefore, we apply **Principal Component Analysis** to reduce dimensionality by combining existing features together to form *principal components* that are **linearly independent of each other and captures the most variance.** Hence, resulting in a denser, new feature set."
   ]
  },
  {
   "cell_type": "markdown",
   "metadata": {},
   "source": [
    "## Dimensionality Reduction using SkLearn's PCA"
   ]
  },
  {
   "cell_type": "markdown",
   "metadata": {},
   "source": [
    "PCA attempts to reduce the number of features within a dataset while retaining the “principal components”, which are defined as **weighted, linear combinations of existing features** that are designed to be **linearly independent** and account for the **largest possible variability in the data**. It can be thought of as taking many features and combining similar or redundant features together to **form a new, smaller feature set**."
   ]
  },
  {
   "cell_type": "markdown",
   "metadata": {},
   "source": [
    "## Train the PCA Model\n",
    "\n",
    "We fit the PCA model with the scaled general population data and generate the predicted principal components as a numpy array."
   ]
  },
  {
   "cell_type": "code",
   "execution_count": 57,
   "metadata": {},
   "outputs": [],
   "source": [
    "from sklearn.decomposition import PCA"
   ]
  },
  {
   "cell_type": "code",
   "execution_count": 58,
   "metadata": {},
   "outputs": [],
   "source": [
    "pca = PCA(random_state=42)\n",
    "azdias_pca = pca.fit_transform(azdias_scaled)"
   ]
  },
  {
   "cell_type": "markdown",
   "metadata": {},
   "source": [
    "## Accessing the PCA Model Attributes\n",
    "\n",
    "After training the model, we can access its underlying parameters."
   ]
  },
  {
   "cell_type": "markdown",
   "metadata": {},
   "source": [
    "### PCA Model Attributes\n",
    "\n",
    "Three types of model attributes are contained within the PCA model.\n",
    "\n",
    "  * `mean`: The mean that was subtracted from a component in order to center it.\n",
    "  * `components_`: The features that make up each of the principal components.\n",
    "  * `explained_variance_ratio_`: Provides the percentage of the total data's variance captured by each of the generated principal components.\n",
    "  \n",
    "We are only interested in `components_` and `explained_variance_ratio_`."
   ]
  },
  {
   "cell_type": "markdown",
   "metadata": {},
   "source": [
    "### Finding the maximum number of components needed to capture the most variance"
   ]
  },
  {
   "cell_type": "code",
   "execution_count": 59,
   "metadata": {},
   "outputs": [],
   "source": [
    "num_components = len(pca.explained_variance_ratio_)\n",
    "\n",
    "# get the array of percentages from the fit pca object\n",
    "vals = pca.explained_variance_ratio_\n",
    "\n",
    "# get the array of cumulative captured variance\n",
    "cumvals = np.cumsum(vals)"
   ]
  },
  {
   "cell_type": "markdown",
   "metadata": {},
   "source": [
    "In practice, we can aim for a number of principal components that can capture **80-90% variance.**\n",
    "\n",
    "From trial-and-error, we can see that the **top 110 principal components** for the pca-transformed azdias dataset accounts for **81%** of our total variance. "
   ]
  },
  {
   "cell_type": "code",
   "execution_count": 60,
   "metadata": {},
   "outputs": [
    {
     "name": "stdout",
     "output_type": "stream",
     "text": [
      "The top 110 principal components captured 0.8157147607882433 of the total variance.\n"
     ]
    }
   ],
   "source": [
    "# trial and error\n",
    "top_n_components = 110\n",
    "\n",
    "# get the cumulative variance from the top n components\n",
    "captured_variance = cumvals[top_n_components]\n",
    "\n",
    "print(f\"The top {top_n_components} principal components captured {captured_variance} of the total variance.\")"
   ]
  },
  {
   "cell_type": "markdown",
   "metadata": {},
   "source": [
    "### Discussion: Dimensionality reduction\n",
    "\n",
    "The **top 110 principal components captured about 81% of the total variance**. \n",
    "\n",
    "Hence we refit the PCA instance and perform the transformation using the decided number of principal components."
   ]
  },
  {
   "cell_type": "code",
   "execution_count": 61,
   "metadata": {},
   "outputs": [
    {
     "name": "stdout",
     "output_type": "stream",
     "text": [
      "CPU times: user 2min 10s, sys: 17 s, total: 2min 27s\n",
      "Wall time: 59.7 s\n"
     ]
    }
   ],
   "source": [
    "%%time\n",
    "pca = PCA(n_components=110, random_state=42)\n",
    "# get the transformed data matrix with the decided number of components\n",
    "azdias_pca = pca.fit_transform(azdias_scaled)"
   ]
  },
  {
   "cell_type": "code",
   "execution_count": 62,
   "metadata": {},
   "outputs": [],
   "source": [
    "def display_component_sklearn(pca, features_list, component_num, n_weights=10):\n",
    "\n",
    "    v_1 = list(pca.components_[component_num])\n",
    "\n",
    "    # match weights to features in counties_scaled dataframe, using list comporehension\n",
    "    comps = pd.DataFrame(list(zip(v_1, features_list)), \n",
    "                         columns=['weights', 'features'])\n",
    "\n",
    "    # we'll want to sort by the largest n_weights\n",
    "    # weights can be neg/pos and we'll sort by magnitude\n",
    "    comps['abs_weights']=comps['weights'].apply(lambda x: np.abs(x))\n",
    "    sorted_weight_data = comps.sort_values('abs_weights', ascending=False).head(n_weights)\n",
    "\n",
    "    # display using seaborn\n",
    "    ax=plt.subplots(figsize=(10,6))\n",
    "    ax=sns.barplot(data=sorted_weight_data, \n",
    "                   x=\"weights\", \n",
    "                   y=\"features\", \n",
    "                   palette=\"Blues_d\")\n",
    "    ax.set_title(\"PCA Component Makeup, Component #\" + str(component_num))\n",
    "    \n",
    "    top_10_features = list(sorted_weight_data.features[:10])\n",
    "    \n",
    "    plt.show()\n",
    "\n",
    "    return top_10_features"
   ]
  },
  {
   "cell_type": "code",
   "execution_count": 63,
   "metadata": {},
   "outputs": [
    {
     "data": {
      "image/png": "[encoded data removed]",
      "text/plain": [
       "<Figure size 720x432 with 1 Axes>"
      ]
     },
     "metadata": {},
     "output_type": "display_data"
    },
    {
     "data": {
      "image/png": "[encoded data removed]",
      "text/plain": [
       "<Figure size 720x432 with 1 Axes>"
      ]
     },
     "metadata": {},
     "output_type": "display_data"
    },
    {
     "data": {
      "image/png": "[encoded data removed]",
      "text/plain": [
       "<Figure size 720x432 with 1 Axes>"
      ]
     },
     "metadata": {},
     "output_type": "display_data"
    }
   ],
   "source": [
    "# In sklearn, components_ are sorted by explained_variance, in descending order (i.e. the 1st component captures the most variance)\n",
    "for i in range(3):\n",
    "    nth_pc = i\n",
    "    features_list = azdias_scaled.columns.values\n",
    "    top_features = display_component_sklearn(pca, features_list, component_num=nth_pc)"
   ]
  },
  {
   "cell_type": "markdown",
   "metadata": {},
   "source": [
    "### Discussion: Intepretation of principal components\n",
    "\n",
    "The plots above show the corresponding weights of the top 10 features in each of the principal components. The weights plots of the top 3 components are shown.\n",
    "\n",
    "Note that the features within each principal component is not independent on each other; only the principal components themselves are independent of each other.\n",
    "\n",
    "  * 1st Principal Component: positively correlated with 'fine social status', the number of 1-2 families within a cell, number of buildings in a cell, mobility, and 'rough social status'. Negatively correlated with the features 'most common building type', number of >10 family houses in the KBA13, number of >10 family houses in the PLZ8, number of 6-10 family houses in the KBA13 and PLZ8\n",
    "  \n",
    "  *  2nd Principal Component: Positively correlated features are 'money savers', 'investors', 'dominating movement in the person's youth (avatgarde or mainstream)', 'online affinity', 'financially unremarkable', 'customer journey typo9logy relating to the preferred information and buying channels', 'whether the person is social'. Negatively correlated with features 'minimalists', and a certain type of CJT\n",
    "  \n",
    "  *  3rd Principal component: Positively correlated with features 'former affinity with east germany', 'number of cars with 5 seats is KBA13', and negatively correlated with the features 'former affinity with west germany', 'share of BMW and mercedes benz in the KBA13', 'share of cars with >3001 cc in the KBA13', 'share of mercedes in the kba13', 'number of cars with 4 seats', 'share of upper and middle class cars in the KBA13', 'share of cars in the KBA13 with greater than 211 max speed'.\n",
    "  \n",
    "The values of the principal components can be positively or negatively correlated with the features that make it up. For example, PC0 will have a higher value if 'LP_STATUS_FEIN' is higher, or have a lower value if 'KBA13_ANTG3' has a higher value.\n",
    "\n",
    "We can also infer the theme of the principal component. For example, PC0 seems to draw relationships between building types and family sizes. PC1 seems to draw relationships between financial status and mindsets. PC2 seems to draw relationships between car types and former political affiliations. "
   ]
  },
  {
   "cell_type": "markdown",
   "metadata": {},
   "source": [
    "# Population Segmentation\n",
    "\n",
    "We shall use the k-Means unsupervised clustering algorithm to segment the customers and general population using their PCA attributes.\n",
    "\n",
    "k-Means is a clustering algorithm that identifies clusters of similar data points based on their component makeup.\n",
    "\n",
    "## Choosing 'k'\n",
    "\n",
    "A good 'k' will be one such that the data points in a single cluster are close together but there are enough clusters to effectively separate the data. A bad 'k' will be one that results in very few data points being close to the cluster centers, or one that results in data points being too far away from the cluster centers.\n",
    "\n",
    "We will select a k such that the data points in a single cluster are close together but there are enough clusters to effectively separate the data.\n",
    "\n",
    "This can be done by measuring how close our data points are to each cluster, and the average centroid distance between cluster points and a centroid.\n",
    "\n",
    "After trying several values of k, the centroid distance typically reaches some 'elbow'; it stops decreasing at a sharp rate and this indicates a good value of k."
   ]
  },
  {
   "cell_type": "markdown",
   "metadata": {},
   "source": [
    "# Predicting using SkLearn's KMeans\n",
    "\n",
    "We will use sklearn's `KMeans` class to perform k-means clustering on the PCA-transformed data.\n",
    "\n",
    "The KMeans' `.score()` method will give the average distance from each point to its assigned cluster's center."
   ]
  },
  {
   "cell_type": "code",
   "execution_count": 64,
   "metadata": {},
   "outputs": [
    {
     "name": "stdout",
     "output_type": "stream",
     "text": [
      "For 2 clusters, average point-to-centroid distances = 13667093.661575507\n",
      "For 3 clusters, average point-to-centroid distances = 13207264.753168482\n",
      "For 4 clusters, average point-to-centroid distances = 12738427.620164182\n",
      "For 5 clusters, average point-to-centroid distances = 12447796.579107864\n",
      "For 6 clusters, average point-to-centroid distances = 12033863.574805656\n",
      "For 7 clusters, average point-to-centroid distances = 11818248.154382119\n",
      "For 8 clusters, average point-to-centroid distances = 11608916.886271885\n",
      "For 9 clusters, average point-to-centroid distances = 11560641.32792498\n",
      "For 10 clusters, average point-to-centroid distances = 11308914.143176269\n",
      "For 11 clusters, average point-to-centroid distances = 11247367.88619099\n",
      "For 12 clusters, average point-to-centroid distances = 11139451.155626535\n",
      "For 13 clusters, average point-to-centroid distances = 11016390.11559442\n",
      "For 14 clusters, average point-to-centroid distances = 10972329.23242859\n",
      "For 15 clusters, average point-to-centroid distances = 10894417.74166698\n",
      "For 16 clusters, average point-to-centroid distances = 10812743.708953224\n",
      "For 17 clusters, average point-to-centroid distances = 10706468.561127285\n",
      "For 18 clusters, average point-to-centroid distances = 10657324.94869761\n",
      "For 19 clusters, average point-to-centroid distances = 10595205.977299185\n",
      "For 20 clusters, average point-to-centroid distances = 10588720.008670533\n"
     ]
    }
   ],
   "source": [
    "from sklearn.cluster import KMeans, MiniBatchKMeans\n",
    "\n",
    "kmeans_scores = []\n",
    "\n",
    "for i in range(2, 21, 1):\n",
    "    kmeans = MiniBatchKMeans(i)\n",
    "    kmeans.fit(azdias_pca)\n",
    "    score = np.abs(kmeans.score(azdias_pca))\n",
    "    print(f'For {i} clusters, average point-to-centroid distances = {score}')\n",
    "    kmeans_scores.append(score)"
   ]
  },
  {
   "cell_type": "code",
   "execution_count": 65,
   "metadata": {},
   "outputs": [
    {
     "data": {
      "text/plain": [
       "<matplotlib.axes._subplots.AxesSubplot at 0x7f96f0db3860>"
      ]
     },
     "execution_count": 65,
     "metadata": {},
     "output_type": "execute_result"
    },
    {
     "data": {
      "image/png": "[encoded data removed]",
      "text/plain": [
       "<Figure size 432x288 with 1 Axes>"
      ]
     },
     "metadata": {},
     "output_type": "display_data"
    }
   ],
   "source": [
    "# plot a graph to visualize the change in intra-cluster distance across the different cluster number parameters\n",
    "n = list(range(2, 22, 2))\n",
    "cluster_df = pd.DataFrame(list(zip(kmeans_scores, n)))\n",
    "# name the columns\n",
    "cluster_df.columns = ['kmeans_scores', 'n']\n",
    "# cluster_df.set_axis(['kmeans_scores', 'n'], axis=1, inplace=True)\n",
    "cluster_df.plot.bar(x='n', y='kmeans_scores')"
   ]
  },
  {
   "cell_type": "markdown",
   "metadata": {},
   "source": [
    "### Discussion: Number of k-clusters to choose for efficient segmentation of the general population \n",
    "\n",
    "Chose **8 clusters** to segment the population, since after 8 clusters, the **rate of decrease in the avg distance is smaller**. Hence the additional benefit from using additional clusters beyond this point is smaller as per the law of diminishing returns."
   ]
  },
  {
   "cell_type": "code",
   "execution_count": 66,
   "metadata": {},
   "outputs": [
    {
     "name": "stdout",
     "output_type": "stream",
     "text": [
      "CPU times: user 6.59 s, sys: 582 ms, total: 7.17 s\n",
      "Wall time: 6.65 s\n"
     ]
    }
   ],
   "source": [
    "%%time\n",
    "# refit the kmeans model with the selected number of clusters, then cluster the predictions for the general pop\n",
    "kmeans = MiniBatchKMeans(n_clusters=8, random_state=42)\n",
    "clusters_azdias = kmeans.fit_predict(azdias_pca) # feed in the object returned by pca.fit_transform, which is a nd.numpy array"
   ]
  },
  {
   "cell_type": "markdown",
   "metadata": {},
   "source": [
    "## PCA-transform and cluster the customer data\n",
    "\n",
    "Here, we clean and scale the customer dataset, before using the PCA model (trained with the general population data) to generate principal components, thereafter applying the KMeans model to cluster these components.\n",
    "\n",
    "**DO NOT FIT** THE PCA MODEL WITH THE CUSTOMERS DATASET! (hence use `.transform()` instead of `.fit_transform()` for pca, and use `.predict()` instead of `.fit_predict()` for kmeans)"
   ]
  },
  {
   "cell_type": "code",
   "execution_count": 67,
   "metadata": {},
   "outputs": [],
   "source": [
    "# filter the customers dataset to only contain features from the azdias dataset that were used to fit the PCA model\n",
    "customers_cleaned = customers_cleaned[list(azdias_cleaned.columns.values)]"
   ]
  },
  {
   "cell_type": "code",
   "execution_count": 68,
   "metadata": {},
   "outputs": [],
   "source": [
    "# scale the customers data\n",
    "customers_scaled = pd.DataFrame(scaler.fit_transform(customers_cleaned.astype(float)))\n",
    "\n",
    "customers_scaled.columns = customers_cleaned.columns"
   ]
  },
  {
   "cell_type": "code",
   "execution_count": 69,
   "metadata": {},
   "outputs": [
    {
     "data": {
      "text/html": [
       "<div>\n",
       "<style scoped>\n",
       "    .dataframe tbody tr th:only-of-type {\n",
       "        vertical-align: middle;\n",
       "    }\n",
       "\n",
       "    .dataframe tbody tr th {\n",
       "        vertical-align: top;\n",
       "    }\n",
       "\n",
       "    .dataframe thead th {\n",
       "        text-align: right;\n",
       "    }\n",
       "</style>\n",
       "<table border=\"1\" class=\"dataframe\">\n",
       "  <thead>\n",
       "    <tr style=\"text-align: right;\">\n",
       "      <th></th>\n",
       "      <th>AGER_TYP</th>\n",
       "      <th>AKT_DAT_KL</th>\n",
       "      <th>ALTER_HH</th>\n",
       "      <th>ANZ_HAUSHALTE_AKTIV</th>\n",
       "      <th>ANZ_HH_TITEL</th>\n",
       "      <th>ANZ_KINDER</th>\n",
       "      <th>ANZ_PERSONEN</th>\n",
       "      <th>ANZ_STATISTISCHE_HAUSHALTE</th>\n",
       "      <th>ANZ_TITEL</th>\n",
       "      <th>ARBEIT</th>\n",
       "      <th>...</th>\n",
       "      <th>RT_UEBERGROESSE_is_missing</th>\n",
       "      <th>STRUKTURTYP_is_missing</th>\n",
       "      <th>UMFELD_ALT_is_missing</th>\n",
       "      <th>UMFELD_JUNG_is_missing</th>\n",
       "      <th>VERDICHTUNGSRAUM_is_missing</th>\n",
       "      <th>VHN_is_missing</th>\n",
       "      <th>VK_DHT4A_is_missing</th>\n",
       "      <th>VK_DISTANZ_is_missing</th>\n",
       "      <th>VK_ZG11_is_missing</th>\n",
       "      <th>W_KEIT_KIND_HH_is_missing</th>\n",
       "    </tr>\n",
       "  </thead>\n",
       "  <tbody>\n",
       "    <tr>\n",
       "      <th>count</th>\n",
       "      <td>191652.000000</td>\n",
       "      <td>191652.000000</td>\n",
       "      <td>191652.000000</td>\n",
       "      <td>191652.000000</td>\n",
       "      <td>191652.000000</td>\n",
       "      <td>191652.000000</td>\n",
       "      <td>191652.000000</td>\n",
       "      <td>191652.000000</td>\n",
       "      <td>191652.000000</td>\n",
       "      <td>191652.000000</td>\n",
       "      <td>...</td>\n",
       "      <td>191652.000000</td>\n",
       "      <td>191652.000000</td>\n",
       "      <td>191652.000000</td>\n",
       "      <td>191652.000000</td>\n",
       "      <td>191652.000000</td>\n",
       "      <td>191652.000000</td>\n",
       "      <td>191652.000000</td>\n",
       "      <td>191652.000000</td>\n",
       "      <td>191652.000000</td>\n",
       "      <td>191652.000000</td>\n",
       "    </tr>\n",
       "    <tr>\n",
       "      <th>mean</th>\n",
       "      <td>0.336090</td>\n",
       "      <td>0.146961</td>\n",
       "      <td>0.409144</td>\n",
       "      <td>0.007021</td>\n",
       "      <td>0.002134</td>\n",
       "      <td>0.012905</td>\n",
       "      <td>0.081736</td>\n",
       "      <td>0.009271</td>\n",
       "      <td>0.003087</td>\n",
       "      <td>0.231207</td>\n",
       "      <td>...</td>\n",
       "      <td>0.230585</td>\n",
       "      <td>0.263373</td>\n",
       "      <td>0.263227</td>\n",
       "      <td>0.263227</td>\n",
       "      <td>0.263373</td>\n",
       "      <td>0.283117</td>\n",
       "      <td>0.249781</td>\n",
       "      <td>0.249781</td>\n",
       "      <td>0.249781</td>\n",
       "      <td>0.280415</td>\n",
       "    </tr>\n",
       "    <tr>\n",
       "      <th>std</th>\n",
       "      <td>0.347918</td>\n",
       "      <td>0.207524</td>\n",
       "      <td>0.348357</td>\n",
       "      <td>0.023895</td>\n",
       "      <td>0.020283</td>\n",
       "      <td>0.054136</td>\n",
       "      <td>0.073926</td>\n",
       "      <td>0.032989</td>\n",
       "      <td>0.026546</td>\n",
       "      <td>0.168625</td>\n",
       "      <td>...</td>\n",
       "      <td>0.421208</td>\n",
       "      <td>0.440464</td>\n",
       "      <td>0.440386</td>\n",
       "      <td>0.440386</td>\n",
       "      <td>0.440464</td>\n",
       "      <td>0.450514</td>\n",
       "      <td>0.432887</td>\n",
       "      <td>0.432887</td>\n",
       "      <td>0.432887</td>\n",
       "      <td>0.449203</td>\n",
       "    </tr>\n",
       "    <tr>\n",
       "      <th>min</th>\n",
       "      <td>0.000000</td>\n",
       "      <td>0.000000</td>\n",
       "      <td>0.000000</td>\n",
       "      <td>0.000000</td>\n",
       "      <td>0.000000</td>\n",
       "      <td>0.000000</td>\n",
       "      <td>0.000000</td>\n",
       "      <td>0.000000</td>\n",
       "      <td>0.000000</td>\n",
       "      <td>0.000000</td>\n",
       "      <td>...</td>\n",
       "      <td>0.000000</td>\n",
       "      <td>0.000000</td>\n",
       "      <td>0.000000</td>\n",
       "      <td>0.000000</td>\n",
       "      <td>0.000000</td>\n",
       "      <td>0.000000</td>\n",
       "      <td>0.000000</td>\n",
       "      <td>0.000000</td>\n",
       "      <td>0.000000</td>\n",
       "      <td>0.000000</td>\n",
       "    </tr>\n",
       "    <tr>\n",
       "      <th>25%</th>\n",
       "      <td>0.000000</td>\n",
       "      <td>0.111111</td>\n",
       "      <td>0.000000</td>\n",
       "      <td>0.000000</td>\n",
       "      <td>0.000000</td>\n",
       "      <td>0.000000</td>\n",
       "      <td>0.000000</td>\n",
       "      <td>0.000000</td>\n",
       "      <td>0.000000</td>\n",
       "      <td>0.000000</td>\n",
       "      <td>...</td>\n",
       "      <td>0.000000</td>\n",
       "      <td>0.000000</td>\n",
       "      <td>0.000000</td>\n",
       "      <td>0.000000</td>\n",
       "      <td>0.000000</td>\n",
       "      <td>0.000000</td>\n",
       "      <td>0.000000</td>\n",
       "      <td>0.000000</td>\n",
       "      <td>0.000000</td>\n",
       "      <td>0.000000</td>\n",
       "    </tr>\n",
       "    <tr>\n",
       "      <th>50%</th>\n",
       "      <td>0.250000</td>\n",
       "      <td>0.111111</td>\n",
       "      <td>0.428571</td>\n",
       "      <td>0.001912</td>\n",
       "      <td>0.000000</td>\n",
       "      <td>0.000000</td>\n",
       "      <td>0.095238</td>\n",
       "      <td>0.002667</td>\n",
       "      <td>0.000000</td>\n",
       "      <td>0.222222</td>\n",
       "      <td>...</td>\n",
       "      <td>0.000000</td>\n",
       "      <td>0.000000</td>\n",
       "      <td>0.000000</td>\n",
       "      <td>0.000000</td>\n",
       "      <td>0.000000</td>\n",
       "      <td>0.000000</td>\n",
       "      <td>0.000000</td>\n",
       "      <td>0.000000</td>\n",
       "      <td>0.000000</td>\n",
       "      <td>0.000000</td>\n",
       "    </tr>\n",
       "    <tr>\n",
       "      <th>75%</th>\n",
       "      <td>0.750000</td>\n",
       "      <td>0.111111</td>\n",
       "      <td>0.714286</td>\n",
       "      <td>0.003824</td>\n",
       "      <td>0.000000</td>\n",
       "      <td>0.000000</td>\n",
       "      <td>0.142857</td>\n",
       "      <td>0.005333</td>\n",
       "      <td>0.000000</td>\n",
       "      <td>0.333333</td>\n",
       "      <td>...</td>\n",
       "      <td>0.000000</td>\n",
       "      <td>1.000000</td>\n",
       "      <td>1.000000</td>\n",
       "      <td>1.000000</td>\n",
       "      <td>1.000000</td>\n",
       "      <td>1.000000</td>\n",
       "      <td>0.000000</td>\n",
       "      <td>0.000000</td>\n",
       "      <td>0.000000</td>\n",
       "      <td>1.000000</td>\n",
       "    </tr>\n",
       "    <tr>\n",
       "      <th>max</th>\n",
       "      <td>1.000000</td>\n",
       "      <td>1.000000</td>\n",
       "      <td>1.000000</td>\n",
       "      <td>1.000000</td>\n",
       "      <td>1.000000</td>\n",
       "      <td>1.000000</td>\n",
       "      <td>1.000000</td>\n",
       "      <td>1.000000</td>\n",
       "      <td>1.000000</td>\n",
       "      <td>1.000000</td>\n",
       "      <td>...</td>\n",
       "      <td>1.000000</td>\n",
       "      <td>1.000000</td>\n",
       "      <td>1.000000</td>\n",
       "      <td>1.000000</td>\n",
       "      <td>1.000000</td>\n",
       "      <td>1.000000</td>\n",
       "      <td>1.000000</td>\n",
       "      <td>1.000000</td>\n",
       "      <td>1.000000</td>\n",
       "      <td>1.000000</td>\n",
       "    </tr>\n",
       "  </tbody>\n",
       "</table>\n",
       "<p>8 rows × 444 columns</p>\n",
       "</div>"
      ],
      "text/plain": [
       "            AGER_TYP     AKT_DAT_KL       ALTER_HH  ANZ_HAUSHALTE_AKTIV  \\\n",
       "count  191652.000000  191652.000000  191652.000000        191652.000000   \n",
       "mean        0.336090       0.146961       0.409144             0.007021   \n",
       "std         0.347918       0.207524       0.348357             0.023895   \n",
       "min         0.000000       0.000000       0.000000             0.000000   \n",
       "25%         0.000000       0.111111       0.000000             0.000000   \n",
       "50%         0.250000       0.111111       0.428571             0.001912   \n",
       "75%         0.750000       0.111111       0.714286             0.003824   \n",
       "max         1.000000       1.000000       1.000000             1.000000   \n",
       "\n",
       "        ANZ_HH_TITEL     ANZ_KINDER   ANZ_PERSONEN  \\\n",
       "count  191652.000000  191652.000000  191652.000000   \n",
       "mean        0.002134       0.012905       0.081736   \n",
       "std         0.020283       0.054136       0.073926   \n",
       "min         0.000000       0.000000       0.000000   \n",
       "25%         0.000000       0.000000       0.000000   \n",
       "50%         0.000000       0.000000       0.095238   \n",
       "75%         0.000000       0.000000       0.142857   \n",
       "max         1.000000       1.000000       1.000000   \n",
       "\n",
       "       ANZ_STATISTISCHE_HAUSHALTE      ANZ_TITEL         ARBEIT  ...  \\\n",
       "count               191652.000000  191652.000000  191652.000000  ...   \n",
       "mean                     0.009271       0.003087       0.231207  ...   \n",
       "std                      0.032989       0.026546       0.168625  ...   \n",
       "min                      0.000000       0.000000       0.000000  ...   \n",
       "25%                      0.000000       0.000000       0.000000  ...   \n",
       "50%                      0.002667       0.000000       0.222222  ...   \n",
       "75%                      0.005333       0.000000       0.333333  ...   \n",
       "max                      1.000000       1.000000       1.000000  ...   \n",
       "\n",
       "       RT_UEBERGROESSE_is_missing  STRUKTURTYP_is_missing  \\\n",
       "count               191652.000000           191652.000000   \n",
       "mean                     0.230585                0.263373   \n",
       "std                      0.421208                0.440464   \n",
       "min                      0.000000                0.000000   \n",
       "25%                      0.000000                0.000000   \n",
       "50%                      0.000000                0.000000   \n",
       "75%                      0.000000                1.000000   \n",
       "max                      1.000000                1.000000   \n",
       "\n",
       "       UMFELD_ALT_is_missing  UMFELD_JUNG_is_missing  \\\n",
       "count          191652.000000           191652.000000   \n",
       "mean                0.263227                0.263227   \n",
       "std                 0.440386                0.440386   \n",
       "min                 0.000000                0.000000   \n",
       "25%                 0.000000                0.000000   \n",
       "50%                 0.000000                0.000000   \n",
       "75%                 1.000000                1.000000   \n",
       "max                 1.000000                1.000000   \n",
       "\n",
       "       VERDICHTUNGSRAUM_is_missing  VHN_is_missing  VK_DHT4A_is_missing  \\\n",
       "count                191652.000000   191652.000000        191652.000000   \n",
       "mean                      0.263373        0.283117             0.249781   \n",
       "std                       0.440464        0.450514             0.432887   \n",
       "min                       0.000000        0.000000             0.000000   \n",
       "25%                       0.000000        0.000000             0.000000   \n",
       "50%                       0.000000        0.000000             0.000000   \n",
       "75%                       1.000000        1.000000             0.000000   \n",
       "max                       1.000000        1.000000             1.000000   \n",
       "\n",
       "       VK_DISTANZ_is_missing  VK_ZG11_is_missing  W_KEIT_KIND_HH_is_missing  \n",
       "count          191652.000000       191652.000000              191652.000000  \n",
       "mean                0.249781            0.249781                   0.280415  \n",
       "std                 0.432887            0.432887                   0.449203  \n",
       "min                 0.000000            0.000000                   0.000000  \n",
       "25%                 0.000000            0.000000                   0.000000  \n",
       "50%                 0.000000            0.000000                   0.000000  \n",
       "75%                 0.000000            0.000000                   1.000000  \n",
       "max                 1.000000            1.000000                   1.000000  \n",
       "\n",
       "[8 rows x 444 columns]"
      ]
     },
     "execution_count": 69,
     "metadata": {},
     "output_type": "execute_result"
    }
   ],
   "source": [
    "customers_scaled.describe()"
   ]
  },
  {
   "cell_type": "code",
   "execution_count": 70,
   "metadata": {},
   "outputs": [
    {
     "name": "stdout",
     "output_type": "stream",
     "text": [
      "CPU times: user 2.72 s, sys: 440 ms, total: 3.16 s\n",
      "Wall time: 1.6 s\n"
     ]
    }
   ],
   "source": [
    "%%time\n",
    "# get the pca-transformed data matrix for the customers dataset, using the pca object fit on the general population data\n",
    "customers_pca = pca.transform(customers_scaled)\n",
    "\n",
    "# cluster predictions for the customers' pca-transformed data, by using the kmeans model fit on the general population data  \n",
    "clusters_cust = kmeans.predict(customers_pca)"
   ]
  },
  {
   "cell_type": "markdown",
   "metadata": {},
   "source": [
    "# Comparing Customer Clusters to General Population Clusters\n",
    "\n",
    "We make comparisons between the proportion of persons in each cluster for the general population, and the proportion of persons in each cluster for the customers population.\n",
    "\n",
    "For example, if a cluster represents about 10% of the total general population, and the same cluster representing 20% of the total customers population (20% of customer data closest to that centroid), this means that people in this cluster have characteristics that make them a target audience for the client's product.\n",
    "\n",
    "Likewise, if the cluster represents about 10% of the total population, and 5% of the customer population, this means that these people are not the target audience.\n",
    "\n",
    "We will use Seaborn's `.barplot()` and `.countplot()` functions to visualize the comparison between the customer and general population clusters.\n",
    "\n",
    "We will look for over-representation and/or under-representations by the customers dataset in each of the clusters, and interpret the principal components that lie in these clusters to infer the characteristics of the customers. We can also use `.inverse_transform()` method of the PCA and MinMaxScaler objects to transform the centroids back to the original data space and interpret the retrieved values directly."
   ]
  },
  {
   "cell_type": "markdown",
   "metadata": {},
   "source": [
    "**Inspecting the array of cluster values for each population**"
   ]
  },
  {
   "cell_type": "code",
   "execution_count": 71,
   "metadata": {},
   "outputs": [],
   "source": [
    "# for the general population\n",
    "clusters_azdias_df = pd.DataFrame(clusters_azdias, columns=['Cluster'])"
   ]
  },
  {
   "cell_type": "code",
   "execution_count": 72,
   "metadata": {},
   "outputs": [
    {
     "data": {
      "text/html": [
       "<div>\n",
       "<style scoped>\n",
       "    .dataframe tbody tr th:only-of-type {\n",
       "        vertical-align: middle;\n",
       "    }\n",
       "\n",
       "    .dataframe tbody tr th {\n",
       "        vertical-align: top;\n",
       "    }\n",
       "\n",
       "    .dataframe thead th {\n",
       "        text-align: right;\n",
       "    }\n",
       "</style>\n",
       "<table border=\"1\" class=\"dataframe\">\n",
       "  <thead>\n",
       "    <tr style=\"text-align: right;\">\n",
       "      <th></th>\n",
       "      <th>Cluster</th>\n",
       "    </tr>\n",
       "  </thead>\n",
       "  <tbody>\n",
       "    <tr>\n",
       "      <th>0</th>\n",
       "      <td>7</td>\n",
       "    </tr>\n",
       "    <tr>\n",
       "      <th>1</th>\n",
       "      <td>4</td>\n",
       "    </tr>\n",
       "    <tr>\n",
       "      <th>2</th>\n",
       "      <td>0</td>\n",
       "    </tr>\n",
       "    <tr>\n",
       "      <th>3</th>\n",
       "      <td>2</td>\n",
       "    </tr>\n",
       "    <tr>\n",
       "      <th>4</th>\n",
       "      <td>7</td>\n",
       "    </tr>\n",
       "  </tbody>\n",
       "</table>\n",
       "</div>"
      ],
      "text/plain": [
       "   Cluster\n",
       "0        7\n",
       "1        4\n",
       "2        0\n",
       "3        2\n",
       "4        7"
      ]
     },
     "execution_count": 72,
     "metadata": {},
     "output_type": "execute_result"
    }
   ],
   "source": [
    "clusters_azdias_df.head()"
   ]
  },
  {
   "cell_type": "code",
   "execution_count": 73,
   "metadata": {},
   "outputs": [
    {
     "data": {
      "text/html": [
       "<div>\n",
       "<style scoped>\n",
       "    .dataframe tbody tr th:only-of-type {\n",
       "        vertical-align: middle;\n",
       "    }\n",
       "\n",
       "    .dataframe tbody tr th {\n",
       "        vertical-align: top;\n",
       "    }\n",
       "\n",
       "    .dataframe thead th {\n",
       "        text-align: right;\n",
       "    }\n",
       "</style>\n",
       "<table border=\"1\" class=\"dataframe\">\n",
       "  <thead>\n",
       "    <tr style=\"text-align: right;\">\n",
       "      <th></th>\n",
       "      <th>Cluster</th>\n",
       "    </tr>\n",
       "  </thead>\n",
       "  <tbody>\n",
       "    <tr>\n",
       "      <th>0</th>\n",
       "      <td>7</td>\n",
       "    </tr>\n",
       "    <tr>\n",
       "      <th>1</th>\n",
       "      <td>6</td>\n",
       "    </tr>\n",
       "    <tr>\n",
       "      <th>2</th>\n",
       "      <td>7</td>\n",
       "    </tr>\n",
       "    <tr>\n",
       "      <th>3</th>\n",
       "      <td>6</td>\n",
       "    </tr>\n",
       "    <tr>\n",
       "      <th>4</th>\n",
       "      <td>4</td>\n",
       "    </tr>\n",
       "  </tbody>\n",
       "</table>\n",
       "</div>"
      ],
      "text/plain": [
       "   Cluster\n",
       "0        7\n",
       "1        6\n",
       "2        7\n",
       "3        6\n",
       "4        4"
      ]
     },
     "execution_count": 73,
     "metadata": {},
     "output_type": "execute_result"
    }
   ],
   "source": [
    "# for the customer population\n",
    "clusters_cust_df = pd.DataFrame(clusters_cust, columns=['Cluster'])\n",
    "clusters_cust_df.head()"
   ]
  },
  {
   "cell_type": "code",
   "execution_count": 74,
   "metadata": {},
   "outputs": [
    {
     "data": {
      "text/plain": [
       "8"
      ]
     },
     "execution_count": 74,
     "metadata": {},
     "output_type": "execute_result"
    }
   ],
   "source": [
    "# get number of clusters\n",
    "num_clusters = len(clusters_azdias_df['Cluster'].unique())\n",
    "num_clusters"
   ]
  },
  {
   "cell_type": "markdown",
   "metadata": {},
   "source": [
    "#### Comparing proportion of data in each of the 8 clusters between the two datasets"
   ]
  },
  {
   "cell_type": "code",
   "execution_count": 75,
   "metadata": {},
   "outputs": [
    {
     "data": {
      "text/html": [
       "<div>\n",
       "<style scoped>\n",
       "    .dataframe tbody tr th:only-of-type {\n",
       "        vertical-align: middle;\n",
       "    }\n",
       "\n",
       "    .dataframe tbody tr th {\n",
       "        vertical-align: top;\n",
       "    }\n",
       "\n",
       "    .dataframe thead th {\n",
       "        text-align: right;\n",
       "    }\n",
       "</style>\n",
       "<table border=\"1\" class=\"dataframe\">\n",
       "  <thead>\n",
       "    <tr style=\"text-align: right;\">\n",
       "      <th></th>\n",
       "      <th>cluster</th>\n",
       "      <th>azdias_prop_%</th>\n",
       "      <th>cust_prop_%</th>\n",
       "    </tr>\n",
       "  </thead>\n",
       "  <tbody>\n",
       "    <tr>\n",
       "      <th>0</th>\n",
       "      <td>0</td>\n",
       "      <td>13.705411</td>\n",
       "      <td>12.792979</td>\n",
       "    </tr>\n",
       "    <tr>\n",
       "      <th>1</th>\n",
       "      <td>1</td>\n",
       "      <td>9.813917</td>\n",
       "      <td>1.775614</td>\n",
       "    </tr>\n",
       "    <tr>\n",
       "      <th>2</th>\n",
       "      <td>2</td>\n",
       "      <td>1.869083</td>\n",
       "      <td>0.486820</td>\n",
       "    </tr>\n",
       "    <tr>\n",
       "      <th>3</th>\n",
       "      <td>3</td>\n",
       "      <td>15.853066</td>\n",
       "      <td>6.065682</td>\n",
       "    </tr>\n",
       "    <tr>\n",
       "      <th>4</th>\n",
       "      <td>4</td>\n",
       "      <td>18.912171</td>\n",
       "      <td>28.027362</td>\n",
       "    </tr>\n",
       "    <tr>\n",
       "      <th>5</th>\n",
       "      <td>5</td>\n",
       "      <td>11.232200</td>\n",
       "      <td>1.242356</td>\n",
       "    </tr>\n",
       "    <tr>\n",
       "      <th>6</th>\n",
       "      <td>6</td>\n",
       "      <td>9.775984</td>\n",
       "      <td>19.611588</td>\n",
       "    </tr>\n",
       "    <tr>\n",
       "      <th>7</th>\n",
       "      <td>7</td>\n",
       "      <td>18.838169</td>\n",
       "      <td>29.997600</td>\n",
       "    </tr>\n",
       "  </tbody>\n",
       "</table>\n",
       "</div>"
      ],
      "text/plain": [
       "   cluster  azdias_prop_%  cust_prop_%\n",
       "0        0      13.705411    12.792979\n",
       "1        1       9.813917     1.775614\n",
       "2        2       1.869083     0.486820\n",
       "3        3      15.853066     6.065682\n",
       "4        4      18.912171    28.027362\n",
       "5        5      11.232200     1.242356\n",
       "6        6       9.775984    19.611588\n",
       "7        7      18.838169    29.997600"
      ]
     },
     "execution_count": 75,
     "metadata": {},
     "output_type": "execute_result"
    }
   ],
   "source": [
    "azdias_prop = []\n",
    "cust_prop = []\n",
    "\n",
    "for i in range(num_clusters):\n",
    "   \n",
    "    azdias_prop_i = len(clusters_azdias_df[clusters_azdias_df['Cluster'] == i]) / len(clusters_azdias_df) * 100\n",
    "    cust_prop_i = len(clusters_cust_df[clusters_cust_df['Cluster'] == i]) / len(clusters_cust_df) * 100\n",
    "\n",
    "    azdias_prop.append(azdias_prop_i)\n",
    "    cust_prop.append(cust_prop_i)\n",
    "    \n",
    "\n",
    "cluster_list = list(range(0, 8))\n",
    "prop_df = pd.DataFrame(list(zip(cluster_list, azdias_prop, cust_prop)), columns=['cluster', 'azdias_prop_%', 'cust_prop_%'])\n",
    "\n",
    "prop_df\n",
    "        "
   ]
  },
  {
   "cell_type": "code",
   "execution_count": 76,
   "metadata": {},
   "outputs": [
    {
     "data": {
      "image/png": "[encoded data removed]",
      "text/plain": [
       "<Figure size 1296x576 with 1 Axes>"
      ]
     },
     "metadata": {},
     "output_type": "display_data"
    }
   ],
   "source": [
    "# Visualize with a graph\n",
    "sns.set_style('darkgrid')\n",
    "\n",
    "fig = plt.figure(figsize=(18, 8))\n",
    "\n",
    "ax = fig.add_subplot(111)\n",
    "\n",
    "ax = prop_df['azdias_prop_%'].plot(x=prop_df['cluster'], \n",
    "                                      kind='bar',\n",
    "                                      color='navy', \n",
    "                                      width=0.3, \n",
    "                                      align='edge',\n",
    "                                      position=0)\n",
    "\n",
    "ax = prop_df['cust_prop_%'].plot(x=prop_df['cluster'], \n",
    "                                      kind='bar',\n",
    "                                      color='orange', \n",
    "                                      width=0.3, \n",
    "                                      align='edge',\n",
    "                                      position=1)\n",
    "\n",
    "ax.margins(x=0.5, y=0.1)\n",
    "ax.set_xlabel('Cluster #', fontsize=14)\n",
    "ax.set_ylabel('% within Population', fontsize=14)\n",
    "ax.xaxis.set(ticklabels=cluster_list)\n",
    "ax.tick_params(axis='x', which='major', labelsize=13)\n",
    "plt.xticks(rotation=90,)\n",
    "\n",
    "\n",
    "plt.legend(('Azdias %', 'Customers %'),fontsize=15)\n",
    "plt.title(('Comparison Between the Proportion of the General Population and Customer Population as a % of their Totals, over Each Cluster.')\n",
    "          ,fontsize=16)\n",
    "\n",
    "plt.subplots_adjust(bottom=0.1)\n",
    "plt.show()"
   ]
  },
  {
   "cell_type": "markdown",
   "metadata": {},
   "source": [
    "### Analysis of Clusters (Principal Components)"
   ]
  },
  {
   "cell_type": "markdown",
   "metadata": {},
   "source": [
    "Clusters **4, 6, and 7** are over-represented by Customers, and under-represented for the rest of the clusters.\n",
    " \n",
    "We will dive into the makeup of the principal components present in these clusters 4, 6, and 7 to infer the characteristics of the client's customers.\n",
    "\n",
    "**First**, we find the principal component that contains the most relevance for each of these 3 clusters by analyzing the cluster centers using `cluster_centers_`.\n",
    "\n"
   ]
  },
  {
   "cell_type": "code",
   "execution_count": 77,
   "metadata": {},
   "outputs": [
    {
     "data": {
      "text/plain": [
       "8"
      ]
     },
     "execution_count": 77,
     "metadata": {},
     "output_type": "execute_result"
    }
   ],
   "source": [
    "len(kmeans.cluster_centers_)"
   ]
  },
  {
   "cell_type": "markdown",
   "metadata": {},
   "source": [
    "Each cluster center contains 110 values (dimensions). These correspond to the 110 principle components that we used to fit the kmeans model."
   ]
  },
  {
   "cell_type": "code",
   "execution_count": 78,
   "metadata": {},
   "outputs": [
    {
     "data": {
      "text/plain": [
       "110"
      ]
     },
     "execution_count": 78,
     "metadata": {},
     "output_type": "execute_result"
    }
   ],
   "source": [
    "len(kmeans.cluster_centers_[0])"
   ]
  },
  {
   "cell_type": "markdown",
   "metadata": {},
   "source": [
    "#### For clusters with customer over-representations"
   ]
  },
  {
   "cell_type": "code",
   "execution_count": 79,
   "metadata": {},
   "outputs": [
    {
     "data": {
      "text/plain": [
       "0     1.978207\n",
       "1     0.870914\n",
       "3     0.462440\n",
       "6     0.107942\n",
       "19    0.086177\n",
       "Name: c, dtype: float64"
      ]
     },
     "execution_count": 79,
     "metadata": {},
     "output_type": "execute_result"
    }
   ],
   "source": [
    "# for cluster 4\n",
    "cc4 = kmeans.cluster_centers_[4]\n",
    "cc4 = pd.DataFrame(cc4, columns=['c'])\n",
    "cc4 = cc4['c'].sort_values(ascending=False)\n",
    "cc4.head()"
   ]
  },
  {
   "cell_type": "code",
   "execution_count": 80,
   "metadata": {},
   "outputs": [
    {
     "data": {
      "text/plain": [
       "2     1.062911\n",
       "0     1.039601\n",
       "7     0.324807\n",
       "12    0.164264\n",
       "11    0.147693\n",
       "Name: c, dtype: float64"
      ]
     },
     "execution_count": 80,
     "metadata": {},
     "output_type": "execute_result"
    }
   ],
   "source": [
    "# for cluster 6\n",
    "cc6 = kmeans.cluster_centers_[6]\n",
    "cc6 = pd.DataFrame(cc6, columns=['c'])\n",
    "cc6 = cc6['c'].sort_values(ascending=False)\n",
    "cc6.head()"
   ]
  },
  {
   "cell_type": "code",
   "execution_count": 81,
   "metadata": {},
   "outputs": [
    {
     "data": {
      "text/plain": [
       "0     0.572309\n",
       "3     0.239673\n",
       "8     0.116237\n",
       "15    0.060295\n",
       "30    0.039555\n",
       "Name: c, dtype: float64"
      ]
     },
     "execution_count": 81,
     "metadata": {},
     "output_type": "execute_result"
    }
   ],
   "source": [
    "# for cluster 7\n",
    "cc7 = kmeans.cluster_centers_[7]\n",
    "cc7 = pd.DataFrame(cc7, columns=['c'])\n",
    "cc7 = cc7['c'].sort_values(ascending=False)\n",
    "cc7.head()"
   ]
  },
  {
   "cell_type": "markdown",
   "metadata": {},
   "source": [
    "#### For clusters with under-representation of customers"
   ]
  },
  {
   "cell_type": "code",
   "execution_count": 82,
   "metadata": {},
   "outputs": [
    {
     "data": {
      "text/plain": [
       "4     1.015924\n",
       "1     0.577090\n",
       "8     0.093199\n",
       "6     0.089595\n",
       "10    0.080475\n",
       "Name: c, dtype: float64"
      ]
     },
     "execution_count": 82,
     "metadata": {},
     "output_type": "execute_result"
    }
   ],
   "source": [
    "# for cluster 5 (under-rep)\n",
    "cc5 = kmeans.cluster_centers_[5]\n",
    "cc5 = pd.DataFrame(cc5, columns=['c'])\n",
    "cc5 = cc5['c'].sort_values(ascending=False)\n",
    "cc5.head()"
   ]
  },
  {
   "cell_type": "code",
   "execution_count": 83,
   "metadata": {},
   "outputs": [
    {
     "data": {
      "text/plain": [
       "3    0.910557\n",
       "6    0.226419\n",
       "9    0.169706\n",
       "7    0.158154\n",
       "4    0.090337\n",
       "Name: c, dtype: float64"
      ]
     },
     "execution_count": 83,
     "metadata": {},
     "output_type": "execute_result"
    }
   ],
   "source": [
    "# for cluster 3 (under-rep)\n",
    "cc3 = kmeans.cluster_centers_[3]\n",
    "cc3 = pd.DataFrame(cc3, columns=['c'])\n",
    "cc3 = cc3['c'].sort_values(ascending=False)\n",
    "cc3.head()"
   ]
  },
  {
   "cell_type": "code",
   "execution_count": 84,
   "metadata": {},
   "outputs": [
    {
     "data": {
      "text/plain": [
       "2     1.627908\n",
       "1     0.421432\n",
       "8     0.281701\n",
       "3     0.127585\n",
       "11    0.092342\n",
       "Name: c, dtype: float64"
      ]
     },
     "execution_count": 84,
     "metadata": {},
     "output_type": "execute_result"
    }
   ],
   "source": [
    "# for cluster 1 (under-rep)\n",
    "cc1 = kmeans.cluster_centers_[1]\n",
    "cc1 = pd.DataFrame(cc1, columns=['c'])\n",
    "cc1 = cc1['c'].sort_values(ascending=False)\n",
    "cc1.head()"
   ]
  },
  {
   "cell_type": "markdown",
   "metadata": {},
   "source": [
    "#### Inference\n",
    "\n",
    "**Top PCs for strong customer rep**\n",
    "  * Cluster 4: PC0 / PC1\n",
    "  * Cluster 6: PC0 / PC2\n",
    "  * Cluster 7: PC0 / PC3\n",
    "  \n",
    "**Top PCs for weak customer rep**\n",
    "  * Cluster 1: PC2 / PC1\n",
    "  * Cluster 3: PC3 / PC6\n",
    "  * Cluster 5: PC4 / PC1"
   ]
  },
  {
   "cell_type": "markdown",
   "metadata": {},
   "source": [
    "### Analysis of Clusters Part 2 (Feature weights)\n",
    "\n",
    "Now, we find the features that carry the most **weight** (positive and negative) for each of these principal components."
   ]
  },
  {
   "cell_type": "code",
   "execution_count": 85,
   "metadata": {},
   "outputs": [
    {
     "data": {
      "image/png": "[encoded data removed]",
      "text/plain": [
       "<Figure size 720x432 with 1 Axes>"
      ]
     },
     "metadata": {},
     "output_type": "display_data"
    }
   ],
   "source": [
    "# For strong customer reps\n",
    "nth_pc = 0\n",
    "top_10_features_pc0 = display_component_sklearn(pca, features_list, component_num=nth_pc)"
   ]
  },
  {
   "cell_type": "code",
   "execution_count": 86,
   "metadata": {},
   "outputs": [
    {
     "data": {
      "image/png": "[encoded data removed]",
      "text/plain": [
       "<Figure size 720x432 with 1 Axes>"
      ]
     },
     "metadata": {},
     "output_type": "display_data"
    }
   ],
   "source": [
    "nth_pc = 1\n",
    "top_10_features_pc1 = display_component_sklearn(pca, features_list, component_num=nth_pc)"
   ]
  },
  {
   "cell_type": "code",
   "execution_count": 87,
   "metadata": {},
   "outputs": [
    {
     "data": {
      "image/png": "[encoded data removed]",
      "text/plain": [
       "<Figure size 720x432 with 1 Axes>"
      ]
     },
     "metadata": {},
     "output_type": "display_data"
    }
   ],
   "source": [
    "nth_pc = 2\n",
    "top_10_features_pc2 = display_component_sklearn(pca, features_list, component_num=nth_pc)"
   ]
  },
  {
   "cell_type": "code",
   "execution_count": 88,
   "metadata": {},
   "outputs": [
    {
     "data": {
      "image/png": "[encoded data removed]",
      "text/plain": [
       "<Figure size 720x432 with 1 Axes>"
      ]
     },
     "metadata": {},
     "output_type": "display_data"
    }
   ],
   "source": [
    "nth_pc = 3\n",
    "top_10_features_pc3 = display_component_sklearn(pca, features_list, component_num=nth_pc)"
   ]
  },
  {
   "cell_type": "code",
   "execution_count": 89,
   "metadata": {},
   "outputs": [
    {
     "data": {
      "image/png": "[encoded data removed]",
      "text/plain": [
       "<Figure size 720x432 with 1 Axes>"
      ]
     },
     "metadata": {},
     "output_type": "display_data"
    }
   ],
   "source": [
    "nth_pc = 4\n",
    "top_10_features_pc4 = display_component_sklearn(pca, features_list, component_num=nth_pc)"
   ]
  },
  {
   "cell_type": "code",
   "execution_count": 90,
   "metadata": {},
   "outputs": [
    {
     "data": {
      "image/png": "[encoded data removed]",
      "text/plain": [
       "<Figure size 720x432 with 1 Axes>"
      ]
     },
     "metadata": {},
     "output_type": "display_data"
    }
   ],
   "source": [
    "nth_pc = 6\n",
    "top_10_features_pc6 = display_component_sklearn(pca, features_list, component_num=nth_pc)"
   ]
  },
  {
   "cell_type": "markdown",
   "metadata": {},
   "source": [
    "### Get original feature values in each cluster centroid"
   ]
  },
  {
   "cell_type": "code",
   "execution_count": 91,
   "metadata": {},
   "outputs": [],
   "source": [
    "# for strong reps\n",
    "\n",
    "# transform cluster 4 to original feature values\n",
    "customer_over_rep4 = scaler.inverse_transform(pca.inverse_transform(cc4).reshape(1, -1))\n",
    "customer_over_rep4 = pd.Series(customer_over_rep4.squeeze()).round(2)\n",
    "customer_over_rep4.index = features_list\n",
    "\n",
    "# transform cluster 6\n",
    "customer_over_rep6 = scaler.inverse_transform(pca.inverse_transform(cc6).reshape(1, -1))\n",
    "customer_over_rep6 = pd.Series(customer_over_rep6.squeeze()).round(2)\n",
    "customer_over_rep6.index = features_list\n",
    "\n",
    "# transform cluster 7\n",
    "customer_over_rep7 = scaler.inverse_transform(pca.inverse_transform(cc7).reshape(1, -1))\n",
    "customer_over_rep7 = pd.Series(customer_over_rep7.squeeze()).round(2)\n",
    "customer_over_rep7.index = features_list"
   ]
  },
  {
   "cell_type": "code",
   "execution_count": 92,
   "metadata": {},
   "outputs": [],
   "source": [
    "# For weak reps\n",
    "\n",
    "# transfomr cluster 1\n",
    "customer_under_rep1 = scaler.inverse_transform(pca.inverse_transform(cc1).reshape(1, -1))\n",
    "customer_under_rep1 = pd.Series(customer_under_rep1.squeeze()).round(2)\n",
    "customer_under_rep1.index = features_list\n",
    "\n",
    "# transform cluster 3\n",
    "customer_under_rep3 = scaler.inverse_transform(pca.inverse_transform(cc3).reshape(1, -1))\n",
    "customer_under_rep3 = pd.Series(customer_under_rep3.squeeze()).round(2)\n",
    "customer_under_rep3.index = features_list\n",
    "\n",
    "# transform cluster 5\n",
    "customer_under_rep5 = scaler.inverse_transform(pca.inverse_transform(cc5).reshape(1, -1))\n",
    "customer_under_rep5 = pd.Series(customer_under_rep5.squeeze()).round(2)\n",
    "customer_under_rep5.index = features_list"
   ]
  },
  {
   "cell_type": "markdown",
   "metadata": {},
   "source": [
    "**Strong reps**"
   ]
  },
  {
   "cell_type": "code",
   "execution_count": 93,
   "metadata": {},
   "outputs": [
    {
     "data": {
      "text/plain": [
       "KBA13_BAUMAX      0.13\n",
       "KBA13_ANTG4       0.19\n",
       "LP_STATUS_FEIN    7.40\n",
       "PLZ8_ANTG4        0.22\n",
       "KBA05_ANTG1       2.56\n",
       "KBA13_ANTG3       0.88\n",
       "PLZ8_ANTG3        0.91\n",
       "KBA05_GBZ         3.99\n",
       "MOBI_REGIO        3.85\n",
       "LP_STATUS_GROB    3.53\n",
       "dtype: float64"
      ]
     },
     "execution_count": 93,
     "metadata": {},
     "output_type": "execute_result"
    }
   ],
   "source": [
    "# Show the values of the top features in the top principal components of the clusters\n",
    "\n",
    "# PC0 in cluster 4\n",
    "customer_over_rep4[top_10_features_pc0]"
   ]
  },
  {
   "cell_type": "code",
   "execution_count": 94,
   "metadata": {},
   "outputs": [
    {
     "data": {
      "text/plain": [
       "FINANZ_SPARER             2.73\n",
       "FINANZ_VORSORGER          3.21\n",
       "FINANZ_ANLEGER            3.17\n",
       "PRAEGENDE_JUGENDJAHRE    10.54\n",
       "ONLINE_AFFINITAET         4.40\n",
       "FINANZ_UNAUFFAELLIGER     2.73\n",
       "CJT_TYP_2                 2.96\n",
       "CJT_TYP_1                 3.31\n",
       "CJT_TYP_5                 3.23\n",
       "SEMIO_PFLICHT             4.37\n",
       "dtype: float64"
      ]
     },
     "execution_count": 94,
     "metadata": {},
     "output_type": "execute_result"
    }
   ],
   "source": [
    "# PC1 in cluster 4\n",
    "customer_over_rep4[top_10_features_pc1]"
   ]
  },
  {
   "cell_type": "code",
   "execution_count": 95,
   "metadata": {},
   "outputs": [
    {
     "data": {
      "text/plain": [
       "KBA13_BAUMAX      1.26\n",
       "KBA13_ANTG4       0.54\n",
       "LP_STATUS_FEIN    5.24\n",
       "PLZ8_ANTG4        0.57\n",
       "KBA05_ANTG1       1.92\n",
       "KBA13_ANTG3       1.24\n",
       "PLZ8_ANTG3        1.34\n",
       "KBA05_GBZ         3.39\n",
       "MOBI_REGIO        3.16\n",
       "LP_STATUS_GROB    2.66\n",
       "dtype: float64"
      ]
     },
     "execution_count": 95,
     "metadata": {},
     "output_type": "execute_result"
    }
   ],
   "source": [
    "# PC0 in cluster 6\n",
    "customer_over_rep6[top_10_features_pc0]"
   ]
  },
  {
   "cell_type": "code",
   "execution_count": 96,
   "metadata": {},
   "outputs": [
    {
     "data": {
      "text/plain": [
       "OST_WEST_KZ_O                  0.33\n",
       "OST_WEST_KZ_W                  0.67\n",
       "KBA13_HERST_BMW_BENZ           2.68\n",
       "KBA13_CCM_3001                 1.74\n",
       "KBA13_SITZE_5                  2.68\n",
       "KBA13_MERCEDES                 2.94\n",
       "KBA13_SITZE_4                  2.32\n",
       "KBA13_SEG_SPORTWAGEN           2.39\n",
       "KBA13_SEG_OBEREMITTELKLASSE    2.34\n",
       "KBA13_KMH_211                  2.21\n",
       "dtype: float64"
      ]
     },
     "execution_count": 96,
     "metadata": {},
     "output_type": "execute_result"
    }
   ],
   "source": [
    "# PC2 in cluster 6\n",
    "customer_over_rep6[top_10_features_pc2]"
   ]
  },
  {
   "cell_type": "code",
   "execution_count": 97,
   "metadata": {},
   "outputs": [
    {
     "data": {
      "text/plain": [
       "KBA13_BAUMAX      1.37\n",
       "KBA13_ANTG4       0.63\n",
       "LP_STATUS_FEIN    4.50\n",
       "PLZ8_ANTG4        0.64\n",
       "KBA05_ANTG1       1.80\n",
       "KBA13_ANTG3       1.29\n",
       "PLZ8_ANTG3        1.37\n",
       "KBA05_GBZ         3.22\n",
       "MOBI_REGIO        2.97\n",
       "LP_STATUS_GROB    2.42\n",
       "dtype: float64"
      ]
     },
     "execution_count": 97,
     "metadata": {},
     "output_type": "execute_result"
    }
   ],
   "source": [
    "# PC0 in cluster 7\n",
    "customer_over_rep7[top_10_features_pc0]"
   ]
  },
  {
   "cell_type": "code",
   "execution_count": 98,
   "metadata": {},
   "outputs": [
    {
     "data": {
      "text/plain": [
       "FINANZ_ANLEGER       2.32\n",
       "AKT_DAT_KL           3.10\n",
       "D19_KONSUMTYP_MAX    4.45\n",
       "KBA13_BAUMAX         1.37\n",
       "KBA13_ANTG4          0.63\n",
       "PLZ8_ANTG4           0.64\n",
       "EWDICHTE             3.25\n",
       "D19_GESAMT_DATUM     5.85\n",
       "FINANZ_SPARER        2.74\n",
       "KBA13_ANTG3          1.29\n",
       "dtype: float64"
      ]
     },
     "execution_count": 98,
     "metadata": {},
     "output_type": "execute_result"
    }
   ],
   "source": [
    "# PC3 in cluster 7\n",
    "customer_over_rep7[top_10_features_pc3]"
   ]
  },
  {
   "cell_type": "markdown",
   "metadata": {},
   "source": [
    "**Weak reps**"
   ]
  },
  {
   "cell_type": "code",
   "execution_count": 99,
   "metadata": {},
   "outputs": [
    {
     "data": {
      "text/plain": [
       "OST_WEST_KZ_O                  0.28\n",
       "OST_WEST_KZ_W                  0.72\n",
       "KBA13_HERST_BMW_BENZ           2.86\n",
       "KBA13_CCM_3001                 1.78\n",
       "KBA13_SITZE_5                  2.83\n",
       "KBA13_MERCEDES                 3.20\n",
       "KBA13_SITZE_4                  2.12\n",
       "KBA13_SEG_SPORTWAGEN           2.33\n",
       "KBA13_SEG_OBEREMITTELKLASSE    2.42\n",
       "KBA13_KMH_211                  2.03\n",
       "dtype: float64"
      ]
     },
     "execution_count": 99,
     "metadata": {},
     "output_type": "execute_result"
    }
   ],
   "source": [
    "# PC2 in cluster 1\n",
    "customer_under_rep1[top_10_features_pc2]"
   ]
  },
  {
   "cell_type": "code",
   "execution_count": 100,
   "metadata": {},
   "outputs": [
    {
     "data": {
      "text/plain": [
       "FINANZ_SPARER            2.51\n",
       "FINANZ_VORSORGER         2.89\n",
       "FINANZ_ANLEGER           2.19\n",
       "PRAEGENDE_JUGENDJAHRE    9.42\n",
       "ONLINE_AFFINITAET        3.93\n",
       "FINANZ_UNAUFFAELLIGER    3.10\n",
       "CJT_TYP_2                2.43\n",
       "CJT_TYP_1                2.64\n",
       "CJT_TYP_5                3.90\n",
       "SEMIO_PFLICHT            4.00\n",
       "dtype: float64"
      ]
     },
     "execution_count": 100,
     "metadata": {},
     "output_type": "execute_result"
    }
   ],
   "source": [
    "# PC1 in cluster 1\n",
    "customer_under_rep1[top_10_features_pc1]"
   ]
  },
  {
   "cell_type": "code",
   "execution_count": 101,
   "metadata": {},
   "outputs": [
    {
     "data": {
      "text/plain": [
       "FINANZ_ANLEGER       2.03\n",
       "AKT_DAT_KL           2.57\n",
       "D19_KONSUMTYP_MAX    3.86\n",
       "KBA13_BAUMAX         1.22\n",
       "KBA13_ANTG4          0.62\n",
       "PLZ8_ANTG4           0.63\n",
       "EWDICHTE             2.96\n",
       "D19_GESAMT_DATUM     5.37\n",
       "FINANZ_SPARER        2.59\n",
       "KBA13_ANTG3          1.16\n",
       "dtype: float64"
      ]
     },
     "execution_count": 101,
     "metadata": {},
     "output_type": "execute_result"
    }
   ],
   "source": [
    "# PC3 in cluster 3\n",
    "customer_under_rep3[top_10_features_pc3]"
   ]
  },
  {
   "cell_type": "code",
   "execution_count": 102,
   "metadata": {},
   "outputs": [
    {
     "data": {
      "text/plain": [
       "OST_WEST_KZ_W       0.74\n",
       "OST_WEST_KZ_O       0.26\n",
       "KBA13_KMH_140       1.70\n",
       "KBA13_KW_0_60       2.62\n",
       "KBA13_CCM_0_1400    2.09\n",
       "KBA13_KMH_0_140     1.64\n",
       "KBA13_CCM_1000      3.00\n",
       "KBA13_KW_61_120     2.36\n",
       "KBA13_KW_40         3.00\n",
       "KBA13_KMH_210       2.56\n",
       "dtype: float64"
      ]
     },
     "execution_count": 102,
     "metadata": {},
     "output_type": "execute_result"
    }
   ],
   "source": [
    "# PC6 in cluster 3\n",
    "customer_under_rep3[top_10_features_pc6]"
   ]
  },
  {
   "cell_type": "code",
   "execution_count": 103,
   "metadata": {},
   "outputs": [
    {
     "data": {
      "text/plain": [
       "ANREDE_KZ     1.47\n",
       "SEMIO_KAEM    3.94\n",
       "SEMIO_VERT    4.20\n",
       "SEMIO_KULT    4.28\n",
       "SEMIO_FAM     4.17\n",
       "SEMIO_DOM     4.84\n",
       "SEMIO_SOZ     4.18\n",
       "SEMIO_KRIT    4.23\n",
       "SEMIO_ERL     4.09\n",
       "SEMIO_REL     4.20\n",
       "dtype: float64"
      ]
     },
     "execution_count": 103,
     "metadata": {},
     "output_type": "execute_result"
    }
   ],
   "source": [
    "# PC4 in cluster 5\n",
    "customer_under_rep5[top_10_features_pc4]"
   ]
  },
  {
   "cell_type": "code",
   "execution_count": 104,
   "metadata": {},
   "outputs": [
    {
     "data": {
      "text/plain": [
       "FINANZ_SPARER             2.94\n",
       "FINANZ_VORSORGER          2.97\n",
       "FINANZ_ANLEGER            2.86\n",
       "PRAEGENDE_JUGENDJAHRE    10.18\n",
       "ONLINE_AFFINITAET         3.73\n",
       "FINANZ_UNAUFFAELLIGER     2.97\n",
       "CJT_TYP_2                 3.04\n",
       "CJT_TYP_1                 3.24\n",
       "CJT_TYP_5                 3.31\n",
       "SEMIO_PFLICHT             4.81\n",
       "dtype: float64"
      ]
     },
     "execution_count": 104,
     "metadata": {},
     "output_type": "execute_result"
    }
   ],
   "source": [
    "# PC1 in cluster 5\n",
    "customer_under_rep5[top_10_features_pc1]"
   ]
  },
  {
   "cell_type": "markdown",
   "metadata": {},
   "source": [
    "### Discussion: Comparison of General Population and Customer Representation in the Clusters "
   ]
  },
  {
   "cell_type": "markdown",
   "metadata": {},
   "source": [
    "For the clusters with under-representation of customers, they are **cluster 1**, **cluster 3** and  **cluster 5**.\n",
    "\n",
    "for the clusters with over-representation of customers, I'll use **cluster 4**. \n",
    " \n",
    "\n",
    "By analyzing the original values of the features in the top principal components (PC0/1 and PC2/5) that make up these cluster's centroids (by applying inverse transformation to the principal components), we can determine the most important features by weight.\n",
    "\n",
    "For the strong clusters,  the main principal components are PC0, PC1, PC2 and PC3.\n",
    "\n",
    "For the weak clusters, the main principal components are PC1, PC2, PC3 and PC6.\n",
    "\n",
    "\n",
    "**Cluster 4 for customer attributes:**\n",
    "Top features of positive weight for PC0 and their original values:\n",
    "  * LP_STATUS_FEIN: fine social status; *7.4*  --- younger houseowners\n",
    "  * KBA05_ANTG1: num of 1-2 households; *2.56*  --- neighborhood with above average concentration of 1-2 family homes; suggesting middle-upper class neighborhood\n",
    "  * KBA05_GBZ: num buildings in microcell; *3.99*  --- 17-22 buildings, suggesting dense, urban population\n",
    "  * MOBI_REGIO: moving patterns; *3.85* --- low mobility, people tend to stay longer\n",
    "  * LP_STATUS_GROB: rough social status;  *3.52*  --- average income earners\n",
    "  \n",
    "Top features of negative weight for PC0 and their original values:\n",
    "  * KBA13_BAUMAX: most common building type within kba13; *0.13*   --- mainly 1-2 family homes (confluent with the above)\n",
    "  * KBA13_ANTG4: num of >10 households in kba13;  *0.19*  --- no >10 family homes (confluent with the above)\n",
    "  * PLZ8_ANTG4: num of >10 households in plz8;  *0.22*  --- no >10 family homes (confluent with the above)\n",
    "  * KBA13_ANTG3: num of 6-10 households in kba13; *0.88* --- no >6-10 family homes (confluent with the above)\n",
    "  * PLZ8_ANTG3: num of 6-10 households in plz8;  *0.91* --- no 6-10 family homes (confluent with the above)\n",
    "  \n",
    "Top features of positive weight for PC1 and their original values:\n",
    "  * FINANZ_SPARER: money saver; *2.73* --- average tendency to save\n",
    "  * FINANZ_ANLEGER: investor; *3.17* --- average tendency to invest\n",
    "  * PRAEGENDE_JUGENDJAHRE: dominating movement in youth (avatgarde/mainstream); *10.54*  --- Born in the 80s during the era where there was ecological awareness (avantgarde)\n",
    "  * ONLINE_AFFINITAET: online affinity; *4.4* --- very high online presence\n",
    "  * FINANZ_UNAUFFAELLIGER: unremarkable financial status;  *2.73* --- average financial status\n",
    "  * CJT_TYP_2: buying typology; *2.96* --- shop in stores\n",
    "  * CJT_TYP_1: buying typology;  *3.31* --- low preference for shopping\n",
    "  * SEMIO_PFLICHT: affinity for traditional mindsets; *4.37* -- average\n",
    "  \n",
    "Top features of negative weight for PC1 and their original values:\n",
    "  * FINANZ_VORSORGER: financially prepared;  *3.21* --- average financial preparedness\n",
    "  * CJT_TYP5: buying typology;  *3.23*\n",
    "\n",
    "\n",
    "**Cluster 1 for non-customer attributes**\n",
    "\n",
    "Top features of positive weight for PC2 and their original values:\n",
    "  * OST_WEST_KZ_O: affinity with east germany;  *0.28*  --- score 0 in class 'O', suggesting affinity to the West of Germany\n",
    "  * KBA13_SITZE_5: number of cars with 5 seats in the plz8;  *2.83* --- low number of cars with 5 seats\n",
    "\n",
    "Top features of negative weight for PC2 and their original values:\n",
    "  * OST_WEST_KZ_W: affinity with west germany;  *0.72* --- clost to 1 in class 'W', suggesting affinity to West of Germany\n",
    "  * KBA13_HERST_BMW_BENZ: share of bmw and benz in plz8  *2.86* --- low-average share of benz and merc\n",
    "  * KBA13_CCM_3001: share of cars above 3L capacity in plz8;  *1.78* --- low-average share of 3l cars\n",
    "  * KBA13_MERCEDES: share of mercedes in plz8  *3.2* --- low to average share of merc\n",
    "  * KBA13_SITZE4: share of cars with 4 seats in plz8;  *2.12* --- low to average share of cars with 4 seats\n",
    "  * KBA13_SEG_SPORTWAGEN: share of sportswagen in plz8;  *2.33*  --- low share of sportswagen\n",
    "  * KBA13_SEG_OBEREMITTELKLASSE: share of upper middle class and upper class cars;  *2.42* --- low/average share of middle/upper class cars\n",
    "  * KBA13_KMH_211: share of cars with max speed greater than 211kmh;  *2.03* --- low/average share of fast cars\n",
    "  \n",
    "Top features of positive weight for PC1 and their original values:\n",
    "  * FINANZ_SPARER: money saver; *2.51* --- average tendency to save\n",
    "  * FINANZ_ANLEGER: investor; *2.19* --- high tendency to invest\n",
    "  * PRAEGENDE_JUGENDJAHRE: dominating movement in youth (avatgarde/mainstream); *9.42*\n",
    "  * ONLINE_AFFINITAET: online affinity; *3.93* --- very high online presence\n",
    "  * FINANZ_UNAUFFAELLIGER: unremarkable financial status;  *3.1* --- average financial status\n",
    "  * CJT_TYP_2: buying typology; *2.43* --- shop in stores\n",
    "  * CJT_TYP_1: buying typology;  *2.64* --- low preference for shopping\n",
    "  * SEMIO_PFLICHT: affinity for traditional mindsets; *4* -- average\n",
    "  \n",
    "Top features of negative weight for PC1 and their original values:\n",
    "  * FINANZ_VORSORGER: financially prepared;  *2.89* --- average financial preparedness\n",
    "  * CJT_TYP5: buying typology;  *3.9*\n",
    "  \n",
    "\n",
    "**Cluster 5 for non-customer attributes**\n",
    "Top features of positive weight for PC4 and their original values:\n",
    "  * SEMIO_VERT: 4.2, average dreamer\n",
    "  * SEMIO_KULT: 4.28, average culturally inclined\n",
    "  * SEMIO_FAM: 4.17,, average family-oriented\n",
    "  * SEMIO_SOZ: 4.18, average social-minded\n",
    "  * SEMIO_ERL: 4.2, average eventful oriented\n",
    "  \n",
    "Top features of negative weight for PC4 and their original values:\n",
    "  * ANREDE_KZ: 1.47, male \n",
    "  * SEMIO_KAEM: 3.94, average aggression\n",
    "  * SEMIO_DOM: 4.84, not very dominant\n",
    "  * SEMIO_KRIT: 4.23, average crtically minded\n",
    "  * SEMIO_REL: 4.2, average religious-minded\n",
    "  \n",
    "Top features of positive weight for PC1 and their original values:\n",
    "  * FINANZ_SPARER: money saver; *2.94* --- average tendency to save\n",
    "  * FINANZ_ANLEGER: investor; *2.86* --- average tendency to invest\n",
    "  * PRAEGENDE_JUGENDJAHRE: dominating movement in youth (avatgarde/mainstream); *10.18*\n",
    "  * ONLINE_AFFINITAET: online affinity; *3.73* --- very high online presence\n",
    "  * FINANZ_UNAUFFAELLIGER: unremarkable financial status;  *2.97* --- average financial status\n",
    "  * CJT_TYP_2: buying typology; *3.04* --- shop in stores\n",
    "  * CJT_TYP_1: buying typology;  *3.24* --- low preference for shopping\n",
    "  * SEMIO_PFLICHT: affinity for traditional mindsets; *4.81* -- average\n",
    "  \n",
    "Top features of negative weight for PC1 and their original values:\n",
    "  * FINANZ_VORSORGER: financially prepared;  *2.97* --- low/average financial preparedness\n",
    "  * CJT_TYP5: buying typology;  *3.31*\n",
    "  \n",
    "\n",
    "  \n",
    "  \n",
    "### Inference\n",
    "\n",
    "**Customer** attributes: \n",
    "  * High/average income earners who are new houseowners, staying in a densely populated area with a high percentage of 1-2 family homes\n",
    "  * Young couples / singles with children\n",
    "  * Low mobility; don't move around much\n",
    "  * sound financial attitudes\n",
    "  * Have a strong online presence\n",
    " \n",
    "**Non-customer** attributes:\n",
    "  * Quite conservative with spending; tendency to save and invest their money\n",
    "  * Middle-class\n",
    "  * Have a strong online presence\n",
    "  * Population with low/average numbers of luxury cars\n",
    "  \n",
    "  \n",
    "  \n",
    "In essence, the client's **target audience** are **young families** who **own homes** in a **densely-populated middle/upper-class area**. They are **financially well-to-do**.\n",
    "\n",
    "**People who do not buy from the client** are typically those who are more **conservative** with their spending, from an **older generation**, **don't really own luxury cars**, and prefer to **shop in brick and mortar stores**.\n",
    "  "
   ]
  },
  {
   "cell_type": "markdown",
   "metadata": {},
   "source": [
    "## Part 2: Supervised Learning Model\n",
    "\n",
    "Now that you've found which parts of the population are more likely to be customers of the mail-order company, it's time to build a prediction model. Each of the rows in the \"MAILOUT\" data files represents an individual that was targeted for a mailout campaign. Ideally, we should be able to use the demographic information from each individual to decide whether or not it will be worth it to include that person in the campaign.\n",
    "\n",
    "The \"MAILOUT\" data has been split into two approximately equal parts, each with almost 43 000 data rows. In this part, you can verify your model with the \"TRAIN\" partition, which includes a column, \"RESPONSE\", that states whether or not a person became a customer of the company following the campaign. In the next part, you'll need to create predictions on the \"TEST\" partition, where the \"RESPONSE\" column has been withheld."
   ]
  },
  {
   "cell_type": "markdown",
   "metadata": {},
   "source": [
    "## Exploratory Data Analysis"
   ]
  },
  {
   "cell_type": "code",
   "execution_count": 106,
   "metadata": {},
   "outputs": [
    {
     "data": {
      "text/html": [
       "<div>\n",
       "<style scoped>\n",
       "    .dataframe tbody tr th:only-of-type {\n",
       "        vertical-align: middle;\n",
       "    }\n",
       "\n",
       "    .dataframe tbody tr th {\n",
       "        vertical-align: top;\n",
       "    }\n",
       "\n",
       "    .dataframe thead th {\n",
       "        text-align: right;\n",
       "    }\n",
       "</style>\n",
       "<table border=\"1\" class=\"dataframe\">\n",
       "  <thead>\n",
       "    <tr style=\"text-align: right;\">\n",
       "      <th></th>\n",
       "      <th>LNR</th>\n",
       "      <th>AGER_TYP</th>\n",
       "      <th>AKT_DAT_KL</th>\n",
       "      <th>ALTER_HH</th>\n",
       "      <th>ALTER_KIND1</th>\n",
       "      <th>ALTER_KIND2</th>\n",
       "      <th>ALTER_KIND3</th>\n",
       "      <th>ALTER_KIND4</th>\n",
       "      <th>ALTERSKATEGORIE_FEIN</th>\n",
       "      <th>ANZ_HAUSHALTE_AKTIV</th>\n",
       "      <th>...</th>\n",
       "      <th>VK_DHT4A</th>\n",
       "      <th>VK_DISTANZ</th>\n",
       "      <th>VK_ZG11</th>\n",
       "      <th>W_KEIT_KIND_HH</th>\n",
       "      <th>WOHNDAUER_2008</th>\n",
       "      <th>WOHNLAGE</th>\n",
       "      <th>ZABEOTYP</th>\n",
       "      <th>RESPONSE</th>\n",
       "      <th>ANREDE_KZ</th>\n",
       "      <th>ALTERSKATEGORIE_GROB</th>\n",
       "    </tr>\n",
       "  </thead>\n",
       "  <tbody>\n",
       "    <tr>\n",
       "      <th>count</th>\n",
       "      <td>42962.000000</td>\n",
       "      <td>42962.000000</td>\n",
       "      <td>35993.000000</td>\n",
       "      <td>35993.000000</td>\n",
       "      <td>1988.000000</td>\n",
       "      <td>756.000000</td>\n",
       "      <td>174.000000</td>\n",
       "      <td>41.000000</td>\n",
       "      <td>34807.000000</td>\n",
       "      <td>35185.000000</td>\n",
       "      <td>...</td>\n",
       "      <td>35695.000000</td>\n",
       "      <td>35695.000000</td>\n",
       "      <td>35695.000000</td>\n",
       "      <td>33284.000000</td>\n",
       "      <td>35993.000000</td>\n",
       "      <td>35185.000000</td>\n",
       "      <td>42962.000000</td>\n",
       "      <td>42962.000000</td>\n",
       "      <td>42962.000000</td>\n",
       "      <td>42962.000000</td>\n",
       "    </tr>\n",
       "    <tr>\n",
       "      <th>mean</th>\n",
       "      <td>42803.120129</td>\n",
       "      <td>0.542922</td>\n",
       "      <td>1.525241</td>\n",
       "      <td>10.285556</td>\n",
       "      <td>12.606137</td>\n",
       "      <td>13.783069</td>\n",
       "      <td>14.655172</td>\n",
       "      <td>14.195122</td>\n",
       "      <td>9.855058</td>\n",
       "      <td>6.706096</td>\n",
       "      <td>...</td>\n",
       "      <td>4.318644</td>\n",
       "      <td>4.505953</td>\n",
       "      <td>3.116963</td>\n",
       "      <td>4.488403</td>\n",
       "      <td>8.729947</td>\n",
       "      <td>4.059685</td>\n",
       "      <td>2.804199</td>\n",
       "      <td>0.012383</td>\n",
       "      <td>1.595084</td>\n",
       "      <td>3.213910</td>\n",
       "    </tr>\n",
       "    <tr>\n",
       "      <th>std</th>\n",
       "      <td>24778.339984</td>\n",
       "      <td>1.412924</td>\n",
       "      <td>1.741500</td>\n",
       "      <td>6.082610</td>\n",
       "      <td>3.924976</td>\n",
       "      <td>3.065817</td>\n",
       "      <td>2.615329</td>\n",
       "      <td>3.034959</td>\n",
       "      <td>4.373539</td>\n",
       "      <td>15.151790</td>\n",
       "      <td>...</td>\n",
       "      <td>3.165199</td>\n",
       "      <td>3.289502</td>\n",
       "      <td>2.534331</td>\n",
       "      <td>1.889573</td>\n",
       "      <td>1.010545</td>\n",
       "      <td>2.046697</td>\n",
       "      <td>1.121585</td>\n",
       "      <td>0.110589</td>\n",
       "      <td>0.490881</td>\n",
       "      <td>1.067475</td>\n",
       "    </tr>\n",
       "    <tr>\n",
       "      <th>min</th>\n",
       "      <td>1.000000</td>\n",
       "      <td>-1.000000</td>\n",
       "      <td>1.000000</td>\n",
       "      <td>0.000000</td>\n",
       "      <td>2.000000</td>\n",
       "      <td>5.000000</td>\n",
       "      <td>6.000000</td>\n",
       "      <td>6.000000</td>\n",
       "      <td>0.000000</td>\n",
       "      <td>0.000000</td>\n",
       "      <td>...</td>\n",
       "      <td>1.000000</td>\n",
       "      <td>1.000000</td>\n",
       "      <td>1.000000</td>\n",
       "      <td>0.000000</td>\n",
       "      <td>1.000000</td>\n",
       "      <td>0.000000</td>\n",
       "      <td>1.000000</td>\n",
       "      <td>0.000000</td>\n",
       "      <td>1.000000</td>\n",
       "      <td>1.000000</td>\n",
       "    </tr>\n",
       "    <tr>\n",
       "      <th>25%</th>\n",
       "      <td>21284.250000</td>\n",
       "      <td>-1.000000</td>\n",
       "      <td>1.000000</td>\n",
       "      <td>8.000000</td>\n",
       "      <td>9.000000</td>\n",
       "      <td>12.000000</td>\n",
       "      <td>13.000000</td>\n",
       "      <td>13.000000</td>\n",
       "      <td>8.000000</td>\n",
       "      <td>1.000000</td>\n",
       "      <td>...</td>\n",
       "      <td>1.000000</td>\n",
       "      <td>2.000000</td>\n",
       "      <td>1.000000</td>\n",
       "      <td>3.000000</td>\n",
       "      <td>9.000000</td>\n",
       "      <td>3.000000</td>\n",
       "      <td>3.000000</td>\n",
       "      <td>0.000000</td>\n",
       "      <td>1.000000</td>\n",
       "      <td>3.000000</td>\n",
       "    </tr>\n",
       "    <tr>\n",
       "      <th>50%</th>\n",
       "      <td>42710.000000</td>\n",
       "      <td>1.000000</td>\n",
       "      <td>1.000000</td>\n",
       "      <td>10.000000</td>\n",
       "      <td>13.000000</td>\n",
       "      <td>14.000000</td>\n",
       "      <td>15.000000</td>\n",
       "      <td>15.000000</td>\n",
       "      <td>10.000000</td>\n",
       "      <td>2.000000</td>\n",
       "      <td>...</td>\n",
       "      <td>3.000000</td>\n",
       "      <td>4.000000</td>\n",
       "      <td>2.000000</td>\n",
       "      <td>6.000000</td>\n",
       "      <td>9.000000</td>\n",
       "      <td>3.000000</td>\n",
       "      <td>3.000000</td>\n",
       "      <td>0.000000</td>\n",
       "      <td>2.000000</td>\n",
       "      <td>4.000000</td>\n",
       "    </tr>\n",
       "    <tr>\n",
       "      <th>75%</th>\n",
       "      <td>64340.500000</td>\n",
       "      <td>2.000000</td>\n",
       "      <td>1.000000</td>\n",
       "      <td>15.000000</td>\n",
       "      <td>16.000000</td>\n",
       "      <td>16.000000</td>\n",
       "      <td>17.000000</td>\n",
       "      <td>17.000000</td>\n",
       "      <td>13.000000</td>\n",
       "      <td>7.000000</td>\n",
       "      <td>...</td>\n",
       "      <td>7.000000</td>\n",
       "      <td>7.000000</td>\n",
       "      <td>4.000000</td>\n",
       "      <td>6.000000</td>\n",
       "      <td>9.000000</td>\n",
       "      <td>7.000000</td>\n",
       "      <td>3.000000</td>\n",
       "      <td>0.000000</td>\n",
       "      <td>2.000000</td>\n",
       "      <td>4.000000</td>\n",
       "    </tr>\n",
       "    <tr>\n",
       "      <th>max</th>\n",
       "      <td>85795.000000</td>\n",
       "      <td>3.000000</td>\n",
       "      <td>9.000000</td>\n",
       "      <td>21.000000</td>\n",
       "      <td>18.000000</td>\n",
       "      <td>18.000000</td>\n",
       "      <td>18.000000</td>\n",
       "      <td>18.000000</td>\n",
       "      <td>25.000000</td>\n",
       "      <td>438.000000</td>\n",
       "      <td>...</td>\n",
       "      <td>11.000000</td>\n",
       "      <td>13.000000</td>\n",
       "      <td>11.000000</td>\n",
       "      <td>6.000000</td>\n",
       "      <td>9.000000</td>\n",
       "      <td>8.000000</td>\n",
       "      <td>6.000000</td>\n",
       "      <td>1.000000</td>\n",
       "      <td>2.000000</td>\n",
       "      <td>9.000000</td>\n",
       "    </tr>\n",
       "  </tbody>\n",
       "</table>\n",
       "<p>8 rows × 361 columns</p>\n",
       "</div>"
      ],
      "text/plain": [
       "                LNR      AGER_TYP    AKT_DAT_KL      ALTER_HH  ALTER_KIND1  \\\n",
       "count  42962.000000  42962.000000  35993.000000  35993.000000  1988.000000   \n",
       "mean   42803.120129      0.542922      1.525241     10.285556    12.606137   \n",
       "std    24778.339984      1.412924      1.741500      6.082610     3.924976   \n",
       "min        1.000000     -1.000000      1.000000      0.000000     2.000000   \n",
       "25%    21284.250000     -1.000000      1.000000      8.000000     9.000000   \n",
       "50%    42710.000000      1.000000      1.000000     10.000000    13.000000   \n",
       "75%    64340.500000      2.000000      1.000000     15.000000    16.000000   \n",
       "max    85795.000000      3.000000      9.000000     21.000000    18.000000   \n",
       "\n",
       "       ALTER_KIND2  ALTER_KIND3  ALTER_KIND4  ALTERSKATEGORIE_FEIN  \\\n",
       "count   756.000000   174.000000    41.000000          34807.000000   \n",
       "mean     13.783069    14.655172    14.195122              9.855058   \n",
       "std       3.065817     2.615329     3.034959              4.373539   \n",
       "min       5.000000     6.000000     6.000000              0.000000   \n",
       "25%      12.000000    13.000000    13.000000              8.000000   \n",
       "50%      14.000000    15.000000    15.000000             10.000000   \n",
       "75%      16.000000    17.000000    17.000000             13.000000   \n",
       "max      18.000000    18.000000    18.000000             25.000000   \n",
       "\n",
       "       ANZ_HAUSHALTE_AKTIV  ...      VK_DHT4A    VK_DISTANZ       VK_ZG11  \\\n",
       "count         35185.000000  ...  35695.000000  35695.000000  35695.000000   \n",
       "mean              6.706096  ...      4.318644      4.505953      3.116963   \n",
       "std              15.151790  ...      3.165199      3.289502      2.534331   \n",
       "min               0.000000  ...      1.000000      1.000000      1.000000   \n",
       "25%               1.000000  ...      1.000000      2.000000      1.000000   \n",
       "50%               2.000000  ...      3.000000      4.000000      2.000000   \n",
       "75%               7.000000  ...      7.000000      7.000000      4.000000   \n",
       "max             438.000000  ...     11.000000     13.000000     11.000000   \n",
       "\n",
       "       W_KEIT_KIND_HH  WOHNDAUER_2008      WOHNLAGE      ZABEOTYP  \\\n",
       "count    33284.000000    35993.000000  35185.000000  42962.000000   \n",
       "mean         4.488403        8.729947      4.059685      2.804199   \n",
       "std          1.889573        1.010545      2.046697      1.121585   \n",
       "min          0.000000        1.000000      0.000000      1.000000   \n",
       "25%          3.000000        9.000000      3.000000      3.000000   \n",
       "50%          6.000000        9.000000      3.000000      3.000000   \n",
       "75%          6.000000        9.000000      7.000000      3.000000   \n",
       "max          6.000000        9.000000      8.000000      6.000000   \n",
       "\n",
       "           RESPONSE     ANREDE_KZ  ALTERSKATEGORIE_GROB  \n",
       "count  42962.000000  42962.000000          42962.000000  \n",
       "mean       0.012383      1.595084              3.213910  \n",
       "std        0.110589      0.490881              1.067475  \n",
       "min        0.000000      1.000000              1.000000  \n",
       "25%        0.000000      1.000000              3.000000  \n",
       "50%        0.000000      2.000000              4.000000  \n",
       "75%        0.000000      2.000000              4.000000  \n",
       "max        1.000000      2.000000              9.000000  \n",
       "\n",
       "[8 rows x 361 columns]"
      ]
     },
     "execution_count": 106,
     "metadata": {},
     "output_type": "execute_result"
    }
   ],
   "source": [
    "mailout_train.describe()"
   ]
  },
  {
   "cell_type": "code",
   "execution_count": 107,
   "metadata": {},
   "outputs": [
    {
     "data": {
      "text/html": [
       "<div>\n",
       "<style scoped>\n",
       "    .dataframe tbody tr th:only-of-type {\n",
       "        vertical-align: middle;\n",
       "    }\n",
       "\n",
       "    .dataframe tbody tr th {\n",
       "        vertical-align: top;\n",
       "    }\n",
       "\n",
       "    .dataframe thead th {\n",
       "        text-align: right;\n",
       "    }\n",
       "</style>\n",
       "<table border=\"1\" class=\"dataframe\">\n",
       "  <thead>\n",
       "    <tr style=\"text-align: right;\">\n",
       "      <th></th>\n",
       "      <th>CAMEO_DEU_2015</th>\n",
       "      <th>CAMEO_DEUG_2015</th>\n",
       "      <th>CAMEO_INTL_2015</th>\n",
       "      <th>D19_LETZTER_KAUF_BRANCHE</th>\n",
       "      <th>EINGEFUEGT_AM</th>\n",
       "      <th>OST_WEST_KZ</th>\n",
       "    </tr>\n",
       "  </thead>\n",
       "  <tbody>\n",
       "    <tr>\n",
       "      <th>count</th>\n",
       "      <td>35074</td>\n",
       "      <td>35074.0</td>\n",
       "      <td>35074.0</td>\n",
       "      <td>35378</td>\n",
       "      <td>35185</td>\n",
       "      <td>35185</td>\n",
       "    </tr>\n",
       "    <tr>\n",
       "      <th>unique</th>\n",
       "      <td>45</td>\n",
       "      <td>19.0</td>\n",
       "      <td>43.0</td>\n",
       "      <td>35</td>\n",
       "      <td>1599</td>\n",
       "      <td>2</td>\n",
       "    </tr>\n",
       "    <tr>\n",
       "      <th>top</th>\n",
       "      <td>6B</td>\n",
       "      <td>6.0</td>\n",
       "      <td>24.0</td>\n",
       "      <td>D19_UNBEKANNT</td>\n",
       "      <td>1992-02-10 00:00:00</td>\n",
       "      <td>W</td>\n",
       "    </tr>\n",
       "    <tr>\n",
       "      <th>freq</th>\n",
       "      <td>2452</td>\n",
       "      <td>3884.0</td>\n",
       "      <td>3024.0</td>\n",
       "      <td>10276</td>\n",
       "      <td>18156</td>\n",
       "      <td>26752</td>\n",
       "    </tr>\n",
       "  </tbody>\n",
       "</table>\n",
       "</div>"
      ],
      "text/plain": [
       "       CAMEO_DEU_2015  CAMEO_DEUG_2015  CAMEO_INTL_2015  \\\n",
       "count           35074          35074.0          35074.0   \n",
       "unique             45             19.0             43.0   \n",
       "top                6B              6.0             24.0   \n",
       "freq             2452           3884.0           3024.0   \n",
       "\n",
       "       D19_LETZTER_KAUF_BRANCHE        EINGEFUEGT_AM OST_WEST_KZ  \n",
       "count                     35378                35185       35185  \n",
       "unique                       35                 1599           2  \n",
       "top               D19_UNBEKANNT  1992-02-10 00:00:00           W  \n",
       "freq                      10276                18156       26752  "
      ]
     },
     "execution_count": 107,
     "metadata": {},
     "output_type": "execute_result"
    }
   ],
   "source": [
    "mailout_train.select_dtypes(include=['object']).describe()"
   ]
  },
  {
   "cell_type": "code",
   "execution_count": 108,
   "metadata": {},
   "outputs": [
    {
     "data": {
      "image/png": "[encoded data removed]",
      "text/plain": [
       "<Figure size 432x288 with 1 Axes>"
      ]
     },
     "metadata": {},
     "output_type": "display_data"
    }
   ],
   "source": [
    "# explore the customer response data\n",
    "plt.hist(x = mailout_train['RESPONSE'])\n",
    "plt.show()"
   ]
  },
  {
   "cell_type": "code",
   "execution_count": 109,
   "metadata": {},
   "outputs": [
    {
     "data": {
      "text/plain": [
       "532"
      ]
     },
     "execution_count": 109,
     "metadata": {},
     "output_type": "execute_result"
    }
   ],
   "source": [
    "# number of people who are customers\n",
    "mailout_train['RESPONSE'].sum()"
   ]
  },
  {
   "cell_type": "code",
   "execution_count": 110,
   "metadata": {},
   "outputs": [
    {
     "data": {
      "text/plain": [
       "1.2383036171500394"
      ]
     },
     "execution_count": 110,
     "metadata": {},
     "output_type": "execute_result"
    }
   ],
   "source": [
    "# percentage of people who are customers\n",
    "mailout_train['RESPONSE'].mean() * 100"
   ]
  },
  {
   "cell_type": "markdown",
   "metadata": {},
   "source": [
    "#### Check for columns which have many missing values"
   ]
  },
  {
   "cell_type": "code",
   "execution_count": 111,
   "metadata": {},
   "outputs": [
    {
     "data": {
      "text/plain": [
       "ALTER_KIND4       42921\n",
       "ALTER_KIND3       42788\n",
       "ALTER_KIND2       42206\n",
       "ALTER_KIND1       40974\n",
       "KK_KUNDENTYP      25316\n",
       "EXTSEL992         15948\n",
       "HH_DELTA_FLAG      9678\n",
       "W_KEIT_KIND_HH     9678\n",
       "KBA05_KW2          8648\n",
       "MOBI_REGIO         8648\n",
       "dtype: int64"
      ]
     },
     "execution_count": 111,
     "metadata": {},
     "output_type": "execute_result"
    }
   ],
   "source": [
    "mailout_cols_missing = mailout_train.isnull().sum().sort_values(ascending=False)\n",
    "mailout_cols_missing.head(10)"
   ]
  },
  {
   "cell_type": "code",
   "execution_count": 112,
   "metadata": {},
   "outputs": [
    {
     "data": {
      "image/png": "[encoded data removed]",
      "text/plain": [
       "<Figure size 432x288 with 1 Axes>"
      ]
     },
     "metadata": {},
     "output_type": "display_data"
    }
   ],
   "source": [
    "plt.hist(x=mailout_cols_missing, bins=10)\n",
    "plt.show()"
   ]
  },
  {
   "cell_type": "markdown",
   "metadata": {},
   "source": [
    "#### Check for rows which have many missing values"
   ]
  },
  {
   "cell_type": "code",
   "execution_count": 113,
   "metadata": {},
   "outputs": [
    {
     "data": {
      "image/png": "[encoded data removed]",
      "text/plain": [
       "<Figure size 432x288 with 1 Axes>"
      ]
     },
     "metadata": {},
     "output_type": "display_data"
    }
   ],
   "source": [
    "mailout_rows_missing = mailout_train.isnull().sum(axis=1)\n",
    "\n",
    "plt.hist(x=mailout_rows_missing, bins=10)\n",
    "plt.show()"
   ]
  },
  {
   "cell_type": "markdown",
   "metadata": {},
   "source": [
    "## Data Cleaning"
   ]
  },
  {
   "cell_type": "code",
   "execution_count": 114,
   "metadata": {},
   "outputs": [],
   "source": [
    "# remove columns which have more than 10k missing data\n",
    "mailout_train_cleaned = mailout_train.loc[:, mailout_train.isnull().sum() < 10000]"
   ]
  },
  {
   "cell_type": "code",
   "execution_count": 115,
   "metadata": {},
   "outputs": [
    {
     "name": "stderr",
     "output_type": "stream",
     "text": [
      "/home/ec2-user/anaconda3/envs/amazonei_mxnet_p36/lib/python3.6/site-packages/ipykernel/__main__.py:3: SettingWithCopyWarning: \n",
      "A value is trying to be set on a copy of a slice from a DataFrame.\n",
      "Try using .loc[row_indexer,col_indexer] = value instead\n",
      "\n",
      "See the caveats in the documentation: http://pandas.pydata.org/pandas-docs/stable/indexing.html#indexing-view-versus-copy\n",
      "  app.launch_new_instance()\n",
      "/home/ec2-user/anaconda3/envs/amazonei_mxnet_p36/lib/python3.6/site-packages/ipykernel/__main__.py:4: SettingWithCopyWarning: \n",
      "A value is trying to be set on a copy of a slice from a DataFrame.\n",
      "Try using .loc[row_indexer,col_indexer] = value instead\n",
      "\n",
      "See the caveats in the documentation: http://pandas.pydata.org/pandas-docs/stable/indexing.html#indexing-view-versus-copy\n",
      "/home/ec2-user/anaconda3/envs/amazonei_mxnet_p36/lib/python3.6/site-packages/ipykernel/__main__.py:5: SettingWithCopyWarning: \n",
      "A value is trying to be set on a copy of a slice from a DataFrame.\n",
      "Try using .loc[row_indexer,col_indexer] = value instead\n",
      "\n",
      "See the caveats in the documentation: http://pandas.pydata.org/pandas-docs/stable/indexing.html#indexing-view-versus-copy\n",
      "/home/ec2-user/anaconda3/envs/amazonei_mxnet_p36/lib/python3.6/site-packages/ipykernel/__main__.py:8: SettingWithCopyWarning: \n",
      "A value is trying to be set on a copy of a slice from a DataFrame.\n",
      "Try using .loc[row_indexer,col_indexer] = value instead\n",
      "\n",
      "See the caveats in the documentation: http://pandas.pydata.org/pandas-docs/stable/indexing.html#indexing-view-versus-copy\n",
      "/home/ec2-user/anaconda3/envs/amazonei_mxnet_p36/lib/python3.6/site-packages/ipykernel/__main__.py:9: SettingWithCopyWarning: \n",
      "A value is trying to be set on a copy of a slice from a DataFrame.\n",
      "Try using .loc[row_indexer,col_indexer] = value instead\n",
      "\n",
      "See the caveats in the documentation: http://pandas.pydata.org/pandas-docs/stable/indexing.html#indexing-view-versus-copy\n"
     ]
    }
   ],
   "source": [
    "mailout_train_processed = process_data(mailout_train_cleaned)"
   ]
  },
  {
   "cell_type": "code",
   "execution_count": 116,
   "metadata": {},
   "outputs": [
    {
     "data": {
      "text/plain": [
       "(42962, 699)"
      ]
     },
     "execution_count": 116,
     "metadata": {},
     "output_type": "execute_result"
    }
   ],
   "source": [
    "mailout_train_processed.shape"
   ]
  },
  {
   "cell_type": "code",
   "execution_count": 117,
   "metadata": {},
   "outputs": [
    {
     "data": {
      "text/plain": [
       "0"
      ]
     },
     "execution_count": 117,
     "metadata": {},
     "output_type": "execute_result"
    }
   ],
   "source": [
    "# check for any missing values\n",
    "mailout_train_processed.isnull().sum().sum()"
   ]
  },
  {
   "cell_type": "code",
   "execution_count": 118,
   "metadata": {},
   "outputs": [],
   "source": [
    "# take out the target variable column\n",
    "mailout_response = mailout_train_processed.RESPONSE"
   ]
  },
  {
   "cell_type": "code",
   "execution_count": 119,
   "metadata": {},
   "outputs": [
    {
     "data": {
      "text/plain": [
       "(42962, 444)"
      ]
     },
     "execution_count": 119,
     "metadata": {},
     "output_type": "execute_result"
    }
   ],
   "source": [
    "mailout_train_p = mailout_train_processed[list(azdias_cleaned.columns.values)]\n",
    "mailout_train_p.shape"
   ]
  },
  {
   "cell_type": "markdown",
   "metadata": {},
   "source": [
    "## Generate PCA components and Cluster Data"
   ]
  },
  {
   "cell_type": "code",
   "execution_count": 120,
   "metadata": {},
   "outputs": [],
   "source": [
    "# scale the data first\n",
    "mailout_train_scaled = pd.DataFrame(scaler.fit_transform(mailout_train_p.astype(float)))\n",
    "\n",
    "mailout_train_scaled.columns = mailout_train_p.columns"
   ]
  },
  {
   "cell_type": "code",
   "execution_count": 121,
   "metadata": {},
   "outputs": [
    {
     "name": "stdout",
     "output_type": "stream",
     "text": [
      "CPU times: user 740 ms, sys: 241 ms, total: 981 ms\n",
      "Wall time: 362 ms\n"
     ]
    }
   ],
   "source": [
    "%%time\n",
    "# pca transform the scaled mailout_train data and generate clusters\n",
    "pca_mailout_train = pca.transform(mailout_train_scaled)\n",
    "\n",
    "mailout_train_clusters = kmeans.predict(pca_mailout_train)"
   ]
  },
  {
   "cell_type": "code",
   "execution_count": 122,
   "metadata": {},
   "outputs": [
    {
     "data": {
      "text/plain": [
       "array([3, 4, 6, ..., 4, 4, 7], dtype=int32)"
      ]
     },
     "execution_count": 122,
     "metadata": {},
     "output_type": "execute_result"
    }
   ],
   "source": [
    "# inspect the clusters\n",
    "mailout_train_clusters"
   ]
  },
  {
   "cell_type": "code",
   "execution_count": 123,
   "metadata": {},
   "outputs": [
    {
     "data": {
      "text/html": [
       "<div>\n",
       "<style scoped>\n",
       "    .dataframe tbody tr th:only-of-type {\n",
       "        vertical-align: middle;\n",
       "    }\n",
       "\n",
       "    .dataframe tbody tr th {\n",
       "        vertical-align: top;\n",
       "    }\n",
       "\n",
       "    .dataframe thead th {\n",
       "        text-align: right;\n",
       "    }\n",
       "</style>\n",
       "<table border=\"1\" class=\"dataframe\">\n",
       "  <thead>\n",
       "    <tr style=\"text-align: right;\">\n",
       "      <th></th>\n",
       "      <th>cluster</th>\n",
       "    </tr>\n",
       "  </thead>\n",
       "  <tbody>\n",
       "    <tr>\n",
       "      <th>0</th>\n",
       "      <td>3</td>\n",
       "    </tr>\n",
       "    <tr>\n",
       "      <th>1</th>\n",
       "      <td>4</td>\n",
       "    </tr>\n",
       "    <tr>\n",
       "      <th>2</th>\n",
       "      <td>6</td>\n",
       "    </tr>\n",
       "    <tr>\n",
       "      <th>3</th>\n",
       "      <td>7</td>\n",
       "    </tr>\n",
       "    <tr>\n",
       "      <th>4</th>\n",
       "      <td>7</td>\n",
       "    </tr>\n",
       "  </tbody>\n",
       "</table>\n",
       "</div>"
      ],
      "text/plain": [
       "   cluster\n",
       "0        3\n",
       "1        4\n",
       "2        6\n",
       "3        7\n",
       "4        7"
      ]
     },
     "execution_count": 123,
     "metadata": {},
     "output_type": "execute_result"
    }
   ],
   "source": [
    "mailout_train_clusters_df = pd.DataFrame(mailout_train_clusters, columns=['cluster'])\n",
    "mailout_train_clusters_df.head()"
   ]
  },
  {
   "cell_type": "code",
   "execution_count": 124,
   "metadata": {},
   "outputs": [
    {
     "data": {
      "text/plain": [
       "(42962, 1)"
      ]
     },
     "execution_count": 124,
     "metadata": {},
     "output_type": "execute_result"
    }
   ],
   "source": [
    "mailout_train_clusters_df.shape"
   ]
  },
  {
   "cell_type": "code",
   "execution_count": 125,
   "metadata": {},
   "outputs": [
    {
     "data": {
      "text/plain": [
       "(42962, 361)"
      ]
     },
     "execution_count": 125,
     "metadata": {},
     "output_type": "execute_result"
    }
   ],
   "source": [
    "mailout_train_cleaned.shape"
   ]
  },
  {
   "cell_type": "markdown",
   "metadata": {},
   "source": [
    "### Create a Training Set based on Previous Analysis\n",
    "\n",
    "In the previous section, we determined the attributes of customers and non-customers by determining:\n",
    "  * the clusters that have an over-representation and under-representation of customers\n",
    "  * the most relevant principal components in each of those clusters\n",
    "  * the most heavily weighted features and their corresponding scores\n",
    "  \n",
    "We have determined that the population belonging to clusters 4, 6 7 are most likely to be customers, while those belonging to clusters 1, 3 and 5 are more likely to not be customers.\n",
    "\n",
    "Thus, we will train our data that only belong to these clusters.\n",
    "\n"
   ]
  },
  {
   "cell_type": "code",
   "execution_count": 126,
   "metadata": {},
   "outputs": [
    {
     "data": {
      "text/html": [
       "<div>\n",
       "<style scoped>\n",
       "    .dataframe tbody tr th:only-of-type {\n",
       "        vertical-align: middle;\n",
       "    }\n",
       "\n",
       "    .dataframe tbody tr th {\n",
       "        vertical-align: top;\n",
       "    }\n",
       "\n",
       "    .dataframe thead th {\n",
       "        text-align: right;\n",
       "    }\n",
       "</style>\n",
       "<table border=\"1\" class=\"dataframe\">\n",
       "  <thead>\n",
       "    <tr style=\"text-align: right;\">\n",
       "      <th></th>\n",
       "      <th>LNR</th>\n",
       "      <th>AGER_TYP</th>\n",
       "      <th>AKT_DAT_KL</th>\n",
       "      <th>ALTER_HH</th>\n",
       "      <th>ALTERSKATEGORIE_FEIN</th>\n",
       "      <th>ANZ_HAUSHALTE_AKTIV</th>\n",
       "      <th>ANZ_HH_TITEL</th>\n",
       "      <th>ANZ_KINDER</th>\n",
       "      <th>ANZ_PERSONEN</th>\n",
       "      <th>ANZ_STATISTISCHE_HAUSHALTE</th>\n",
       "      <th>...</th>\n",
       "      <th>VK_DISTANZ</th>\n",
       "      <th>VK_ZG11</th>\n",
       "      <th>W_KEIT_KIND_HH</th>\n",
       "      <th>WOHNDAUER_2008</th>\n",
       "      <th>WOHNLAGE</th>\n",
       "      <th>ZABEOTYP</th>\n",
       "      <th>RESPONSE</th>\n",
       "      <th>ANREDE_KZ</th>\n",
       "      <th>ALTERSKATEGORIE_GROB</th>\n",
       "      <th>cluster</th>\n",
       "    </tr>\n",
       "  </thead>\n",
       "  <tbody>\n",
       "    <tr>\n",
       "      <th>0</th>\n",
       "      <td>1763</td>\n",
       "      <td>2</td>\n",
       "      <td>1.0</td>\n",
       "      <td>8.0</td>\n",
       "      <td>8.0</td>\n",
       "      <td>15.0</td>\n",
       "      <td>0.0</td>\n",
       "      <td>0.0</td>\n",
       "      <td>1.0</td>\n",
       "      <td>13.0</td>\n",
       "      <td>...</td>\n",
       "      <td>2.0</td>\n",
       "      <td>1.0</td>\n",
       "      <td>6.0</td>\n",
       "      <td>9.0</td>\n",
       "      <td>3.0</td>\n",
       "      <td>3</td>\n",
       "      <td>0</td>\n",
       "      <td>2</td>\n",
       "      <td>4</td>\n",
       "      <td>3</td>\n",
       "    </tr>\n",
       "    <tr>\n",
       "      <th>1</th>\n",
       "      <td>1771</td>\n",
       "      <td>1</td>\n",
       "      <td>4.0</td>\n",
       "      <td>13.0</td>\n",
       "      <td>13.0</td>\n",
       "      <td>1.0</td>\n",
       "      <td>0.0</td>\n",
       "      <td>0.0</td>\n",
       "      <td>2.0</td>\n",
       "      <td>1.0</td>\n",
       "      <td>...</td>\n",
       "      <td>2.0</td>\n",
       "      <td>1.0</td>\n",
       "      <td>4.0</td>\n",
       "      <td>9.0</td>\n",
       "      <td>7.0</td>\n",
       "      <td>1</td>\n",
       "      <td>0</td>\n",
       "      <td>2</td>\n",
       "      <td>3</td>\n",
       "      <td>4</td>\n",
       "    </tr>\n",
       "    <tr>\n",
       "      <th>2</th>\n",
       "      <td>1776</td>\n",
       "      <td>1</td>\n",
       "      <td>1.0</td>\n",
       "      <td>9.0</td>\n",
       "      <td>7.0</td>\n",
       "      <td>0.0</td>\n",
       "      <td>NaN</td>\n",
       "      <td>0.0</td>\n",
       "      <td>0.0</td>\n",
       "      <td>1.0</td>\n",
       "      <td>...</td>\n",
       "      <td>4.0</td>\n",
       "      <td>2.0</td>\n",
       "      <td>NaN</td>\n",
       "      <td>9.0</td>\n",
       "      <td>2.0</td>\n",
       "      <td>3</td>\n",
       "      <td>0</td>\n",
       "      <td>1</td>\n",
       "      <td>4</td>\n",
       "      <td>6</td>\n",
       "    </tr>\n",
       "    <tr>\n",
       "      <th>3</th>\n",
       "      <td>1460</td>\n",
       "      <td>2</td>\n",
       "      <td>1.0</td>\n",
       "      <td>6.0</td>\n",
       "      <td>6.0</td>\n",
       "      <td>4.0</td>\n",
       "      <td>0.0</td>\n",
       "      <td>0.0</td>\n",
       "      <td>2.0</td>\n",
       "      <td>4.0</td>\n",
       "      <td>...</td>\n",
       "      <td>11.0</td>\n",
       "      <td>11.0</td>\n",
       "      <td>6.0</td>\n",
       "      <td>9.0</td>\n",
       "      <td>1.0</td>\n",
       "      <td>3</td>\n",
       "      <td>0</td>\n",
       "      <td>2</td>\n",
       "      <td>4</td>\n",
       "      <td>7</td>\n",
       "    </tr>\n",
       "    <tr>\n",
       "      <th>4</th>\n",
       "      <td>1783</td>\n",
       "      <td>2</td>\n",
       "      <td>1.0</td>\n",
       "      <td>9.0</td>\n",
       "      <td>9.0</td>\n",
       "      <td>53.0</td>\n",
       "      <td>0.0</td>\n",
       "      <td>0.0</td>\n",
       "      <td>1.0</td>\n",
       "      <td>44.0</td>\n",
       "      <td>...</td>\n",
       "      <td>2.0</td>\n",
       "      <td>1.0</td>\n",
       "      <td>6.0</td>\n",
       "      <td>9.0</td>\n",
       "      <td>3.0</td>\n",
       "      <td>3</td>\n",
       "      <td>0</td>\n",
       "      <td>1</td>\n",
       "      <td>3</td>\n",
       "      <td>7</td>\n",
       "    </tr>\n",
       "  </tbody>\n",
       "</table>\n",
       "<p>5 rows × 362 columns</p>\n",
       "</div>"
      ],
      "text/plain": [
       "    LNR  AGER_TYP  AKT_DAT_KL  ALTER_HH  ALTERSKATEGORIE_FEIN  \\\n",
       "0  1763         2         1.0       8.0                   8.0   \n",
       "1  1771         1         4.0      13.0                  13.0   \n",
       "2  1776         1         1.0       9.0                   7.0   \n",
       "3  1460         2         1.0       6.0                   6.0   \n",
       "4  1783         2         1.0       9.0                   9.0   \n",
       "\n",
       "   ANZ_HAUSHALTE_AKTIV  ANZ_HH_TITEL  ANZ_KINDER  ANZ_PERSONEN  \\\n",
       "0                 15.0           0.0         0.0           1.0   \n",
       "1                  1.0           0.0         0.0           2.0   \n",
       "2                  0.0           NaN         0.0           0.0   \n",
       "3                  4.0           0.0         0.0           2.0   \n",
       "4                 53.0           0.0         0.0           1.0   \n",
       "\n",
       "   ANZ_STATISTISCHE_HAUSHALTE  ...  VK_DISTANZ  VK_ZG11  W_KEIT_KIND_HH  \\\n",
       "0                        13.0  ...         2.0      1.0             6.0   \n",
       "1                         1.0  ...         2.0      1.0             4.0   \n",
       "2                         1.0  ...         4.0      2.0             NaN   \n",
       "3                         4.0  ...        11.0     11.0             6.0   \n",
       "4                        44.0  ...         2.0      1.0             6.0   \n",
       "\n",
       "  WOHNDAUER_2008 WOHNLAGE ZABEOTYP  RESPONSE  ANREDE_KZ  ALTERSKATEGORIE_GROB  \\\n",
       "0            9.0      3.0        3         0          2                     4   \n",
       "1            9.0      7.0        1         0          2                     3   \n",
       "2            9.0      2.0        3         0          1                     4   \n",
       "3            9.0      1.0        3         0          2                     4   \n",
       "4            9.0      3.0        3         0          1                     3   \n",
       "\n",
       "   cluster  \n",
       "0        3  \n",
       "1        4  \n",
       "2        6  \n",
       "3        7  \n",
       "4        7  \n",
       "\n",
       "[5 rows x 362 columns]"
      ]
     },
     "execution_count": 126,
     "metadata": {},
     "output_type": "execute_result"
    }
   ],
   "source": [
    "# add the column of clusters to our cleaned dataset\n",
    "mailout_train_cleaned_with_clusters = pd.concat([mailout_train_cleaned, mailout_train_clusters_df], axis=1)\n",
    "mailout_train_cleaned_with_clusters.head()"
   ]
  },
  {
   "cell_type": "code",
   "execution_count": 127,
   "metadata": {},
   "outputs": [
    {
     "data": {
      "text/plain": [
       "(37870, 362)"
      ]
     },
     "execution_count": 127,
     "metadata": {},
     "output_type": "execute_result"
    }
   ],
   "source": [
    "# filter out data which belong only to clusters 1, 3, 5, 4, 6, 7\n",
    "clusters = [1, 3, 5, 4, 6, 7]\n",
    "mailout_train_valid_clusters = mailout_train_cleaned_with_clusters[mailout_train_cleaned_with_clusters.cluster.isin(clusters)]\n",
    "mailout_train_valid_clusters.shape"
   ]
  },
  {
   "cell_type": "code",
   "execution_count": 128,
   "metadata": {},
   "outputs": [
    {
     "data": {
      "text/html": [
       "<div>\n",
       "<style scoped>\n",
       "    .dataframe tbody tr th:only-of-type {\n",
       "        vertical-align: middle;\n",
       "    }\n",
       "\n",
       "    .dataframe tbody tr th {\n",
       "        vertical-align: top;\n",
       "    }\n",
       "\n",
       "    .dataframe thead th {\n",
       "        text-align: right;\n",
       "    }\n",
       "</style>\n",
       "<table border=\"1\" class=\"dataframe\">\n",
       "  <thead>\n",
       "    <tr style=\"text-align: right;\">\n",
       "      <th></th>\n",
       "      <th>LNR</th>\n",
       "      <th>AGER_TYP</th>\n",
       "      <th>AKT_DAT_KL</th>\n",
       "      <th>ALTER_HH</th>\n",
       "      <th>ALTERSKATEGORIE_FEIN</th>\n",
       "      <th>ANZ_HAUSHALTE_AKTIV</th>\n",
       "      <th>ANZ_HH_TITEL</th>\n",
       "      <th>ANZ_KINDER</th>\n",
       "      <th>ANZ_PERSONEN</th>\n",
       "      <th>ANZ_STATISTISCHE_HAUSHALTE</th>\n",
       "      <th>...</th>\n",
       "      <th>VK_DISTANZ</th>\n",
       "      <th>VK_ZG11</th>\n",
       "      <th>W_KEIT_KIND_HH</th>\n",
       "      <th>WOHNDAUER_2008</th>\n",
       "      <th>WOHNLAGE</th>\n",
       "      <th>ZABEOTYP</th>\n",
       "      <th>RESPONSE</th>\n",
       "      <th>ANREDE_KZ</th>\n",
       "      <th>ALTERSKATEGORIE_GROB</th>\n",
       "      <th>cluster</th>\n",
       "    </tr>\n",
       "  </thead>\n",
       "  <tbody>\n",
       "    <tr>\n",
       "      <th>0</th>\n",
       "      <td>1763</td>\n",
       "      <td>2</td>\n",
       "      <td>1.0</td>\n",
       "      <td>8.0</td>\n",
       "      <td>8.0</td>\n",
       "      <td>15.0</td>\n",
       "      <td>0.0</td>\n",
       "      <td>0.0</td>\n",
       "      <td>1.0</td>\n",
       "      <td>13.0</td>\n",
       "      <td>...</td>\n",
       "      <td>2.0</td>\n",
       "      <td>1.0</td>\n",
       "      <td>6.0</td>\n",
       "      <td>9.0</td>\n",
       "      <td>3.0</td>\n",
       "      <td>3</td>\n",
       "      <td>0</td>\n",
       "      <td>2</td>\n",
       "      <td>4</td>\n",
       "      <td>3</td>\n",
       "    </tr>\n",
       "    <tr>\n",
       "      <th>1</th>\n",
       "      <td>1771</td>\n",
       "      <td>1</td>\n",
       "      <td>4.0</td>\n",
       "      <td>13.0</td>\n",
       "      <td>13.0</td>\n",
       "      <td>1.0</td>\n",
       "      <td>0.0</td>\n",
       "      <td>0.0</td>\n",
       "      <td>2.0</td>\n",
       "      <td>1.0</td>\n",
       "      <td>...</td>\n",
       "      <td>2.0</td>\n",
       "      <td>1.0</td>\n",
       "      <td>4.0</td>\n",
       "      <td>9.0</td>\n",
       "      <td>7.0</td>\n",
       "      <td>1</td>\n",
       "      <td>0</td>\n",
       "      <td>2</td>\n",
       "      <td>3</td>\n",
       "      <td>4</td>\n",
       "    </tr>\n",
       "    <tr>\n",
       "      <th>2</th>\n",
       "      <td>1776</td>\n",
       "      <td>1</td>\n",
       "      <td>1.0</td>\n",
       "      <td>9.0</td>\n",
       "      <td>7.0</td>\n",
       "      <td>0.0</td>\n",
       "      <td>NaN</td>\n",
       "      <td>0.0</td>\n",
       "      <td>0.0</td>\n",
       "      <td>1.0</td>\n",
       "      <td>...</td>\n",
       "      <td>4.0</td>\n",
       "      <td>2.0</td>\n",
       "      <td>NaN</td>\n",
       "      <td>9.0</td>\n",
       "      <td>2.0</td>\n",
       "      <td>3</td>\n",
       "      <td>0</td>\n",
       "      <td>1</td>\n",
       "      <td>4</td>\n",
       "      <td>6</td>\n",
       "    </tr>\n",
       "    <tr>\n",
       "      <th>3</th>\n",
       "      <td>1460</td>\n",
       "      <td>2</td>\n",
       "      <td>1.0</td>\n",
       "      <td>6.0</td>\n",
       "      <td>6.0</td>\n",
       "      <td>4.0</td>\n",
       "      <td>0.0</td>\n",
       "      <td>0.0</td>\n",
       "      <td>2.0</td>\n",
       "      <td>4.0</td>\n",
       "      <td>...</td>\n",
       "      <td>11.0</td>\n",
       "      <td>11.0</td>\n",
       "      <td>6.0</td>\n",
       "      <td>9.0</td>\n",
       "      <td>1.0</td>\n",
       "      <td>3</td>\n",
       "      <td>0</td>\n",
       "      <td>2</td>\n",
       "      <td>4</td>\n",
       "      <td>7</td>\n",
       "    </tr>\n",
       "    <tr>\n",
       "      <th>4</th>\n",
       "      <td>1783</td>\n",
       "      <td>2</td>\n",
       "      <td>1.0</td>\n",
       "      <td>9.0</td>\n",
       "      <td>9.0</td>\n",
       "      <td>53.0</td>\n",
       "      <td>0.0</td>\n",
       "      <td>0.0</td>\n",
       "      <td>1.0</td>\n",
       "      <td>44.0</td>\n",
       "      <td>...</td>\n",
       "      <td>2.0</td>\n",
       "      <td>1.0</td>\n",
       "      <td>6.0</td>\n",
       "      <td>9.0</td>\n",
       "      <td>3.0</td>\n",
       "      <td>3</td>\n",
       "      <td>0</td>\n",
       "      <td>1</td>\n",
       "      <td>3</td>\n",
       "      <td>7</td>\n",
       "    </tr>\n",
       "  </tbody>\n",
       "</table>\n",
       "<p>5 rows × 362 columns</p>\n",
       "</div>"
      ],
      "text/plain": [
       "    LNR  AGER_TYP  AKT_DAT_KL  ALTER_HH  ALTERSKATEGORIE_FEIN  \\\n",
       "0  1763         2         1.0       8.0                   8.0   \n",
       "1  1771         1         4.0      13.0                  13.0   \n",
       "2  1776         1         1.0       9.0                   7.0   \n",
       "3  1460         2         1.0       6.0                   6.0   \n",
       "4  1783         2         1.0       9.0                   9.0   \n",
       "\n",
       "   ANZ_HAUSHALTE_AKTIV  ANZ_HH_TITEL  ANZ_KINDER  ANZ_PERSONEN  \\\n",
       "0                 15.0           0.0         0.0           1.0   \n",
       "1                  1.0           0.0         0.0           2.0   \n",
       "2                  0.0           NaN         0.0           0.0   \n",
       "3                  4.0           0.0         0.0           2.0   \n",
       "4                 53.0           0.0         0.0           1.0   \n",
       "\n",
       "   ANZ_STATISTISCHE_HAUSHALTE  ...  VK_DISTANZ  VK_ZG11  W_KEIT_KIND_HH  \\\n",
       "0                        13.0  ...         2.0      1.0             6.0   \n",
       "1                         1.0  ...         2.0      1.0             4.0   \n",
       "2                         1.0  ...         4.0      2.0             NaN   \n",
       "3                         4.0  ...        11.0     11.0             6.0   \n",
       "4                        44.0  ...         2.0      1.0             6.0   \n",
       "\n",
       "  WOHNDAUER_2008 WOHNLAGE ZABEOTYP  RESPONSE  ANREDE_KZ  ALTERSKATEGORIE_GROB  \\\n",
       "0            9.0      3.0        3         0          2                     4   \n",
       "1            9.0      7.0        1         0          2                     3   \n",
       "2            9.0      2.0        3         0          1                     4   \n",
       "3            9.0      1.0        3         0          2                     4   \n",
       "4            9.0      3.0        3         0          1                     3   \n",
       "\n",
       "   cluster  \n",
       "0        3  \n",
       "1        4  \n",
       "2        6  \n",
       "3        7  \n",
       "4        7  \n",
       "\n",
       "[5 rows x 362 columns]"
      ]
     },
     "execution_count": 128,
     "metadata": {},
     "output_type": "execute_result"
    }
   ],
   "source": [
    "mailout_train_valid_clusters.head()"
   ]
  },
  {
   "cell_type": "code",
   "execution_count": 129,
   "metadata": {},
   "outputs": [
    {
     "name": "stderr",
     "output_type": "stream",
     "text": [
      "/home/ec2-user/anaconda3/envs/amazonei_mxnet_p36/lib/python3.6/site-packages/ipykernel/__main__.py:3: SettingWithCopyWarning: \n",
      "A value is trying to be set on a copy of a slice from a DataFrame.\n",
      "Try using .loc[row_indexer,col_indexer] = value instead\n",
      "\n",
      "See the caveats in the documentation: http://pandas.pydata.org/pandas-docs/stable/indexing.html#indexing-view-versus-copy\n",
      "  app.launch_new_instance()\n",
      "/home/ec2-user/anaconda3/envs/amazonei_mxnet_p36/lib/python3.6/site-packages/ipykernel/__main__.py:4: SettingWithCopyWarning: \n",
      "A value is trying to be set on a copy of a slice from a DataFrame.\n",
      "Try using .loc[row_indexer,col_indexer] = value instead\n",
      "\n",
      "See the caveats in the documentation: http://pandas.pydata.org/pandas-docs/stable/indexing.html#indexing-view-versus-copy\n",
      "/home/ec2-user/anaconda3/envs/amazonei_mxnet_p36/lib/python3.6/site-packages/ipykernel/__main__.py:5: SettingWithCopyWarning: \n",
      "A value is trying to be set on a copy of a slice from a DataFrame.\n",
      "Try using .loc[row_indexer,col_indexer] = value instead\n",
      "\n",
      "See the caveats in the documentation: http://pandas.pydata.org/pandas-docs/stable/indexing.html#indexing-view-versus-copy\n",
      "/home/ec2-user/anaconda3/envs/amazonei_mxnet_p36/lib/python3.6/site-packages/ipykernel/__main__.py:8: SettingWithCopyWarning: \n",
      "A value is trying to be set on a copy of a slice from a DataFrame.\n",
      "Try using .loc[row_indexer,col_indexer] = value instead\n",
      "\n",
      "See the caveats in the documentation: http://pandas.pydata.org/pandas-docs/stable/indexing.html#indexing-view-versus-copy\n",
      "/home/ec2-user/anaconda3/envs/amazonei_mxnet_p36/lib/python3.6/site-packages/ipykernel/__main__.py:9: SettingWithCopyWarning: \n",
      "A value is trying to be set on a copy of a slice from a DataFrame.\n",
      "Try using .loc[row_indexer,col_indexer] = value instead\n",
      "\n",
      "See the caveats in the documentation: http://pandas.pydata.org/pandas-docs/stable/indexing.html#indexing-view-versus-copy\n"
     ]
    }
   ],
   "source": [
    "mailout_train_valid_clusters_p = process_data(mailout_train_valid_clusters)"
   ]
  },
  {
   "cell_type": "code",
   "execution_count": 130,
   "metadata": {},
   "outputs": [],
   "source": [
    "# save the data that we will be using for model training to a csv\n",
    "mailout_train_valid_clusters_p.to_csv('analytical_base_table.csv', index=None)"
   ]
  },
  {
   "cell_type": "markdown",
   "metadata": {},
   "source": [
    "## Train the Supervised Learning Model"
   ]
  },
  {
   "cell_type": "code",
   "execution_count": 131,
   "metadata": {},
   "outputs": [],
   "source": [
    "from sklearn.ensemble import RandomForestClassifier\n",
    "from sklearn.ensemble import GradientBoostingClassifier\n",
    "from sklearn.linear_model import ElasticNet\n",
    "\n",
    "from sklearn.model_selection import train_test_split\n",
    "from sklearn.pipeline import make_pipeline\n",
    "from sklearn.model_selection import GridSearchCV\n",
    "\n",
    "from sklearn.metrics import roc_curve, auc"
   ]
  },
  {
   "cell_type": "code",
   "execution_count": 133,
   "metadata": {},
   "outputs": [],
   "source": [
    "# separate out the target variable\n",
    "mailout_training = mailout_train_valid_clusters_p\n",
    "\n",
    "# isolate target variable\n",
    "y = mailout_training.RESPONSE\n",
    "\n",
    "# isolate training inputs. Drop the target variable and remove the 'clusters' column\n",
    "X = mailout_training.drop(['RESPONSE', 'cluster'], axis=1)"
   ]
  },
  {
   "cell_type": "code",
   "execution_count": 134,
   "metadata": {},
   "outputs": [],
   "source": [
    "# split the data into train and test sets in a 80/20 ratio. Use stratify so we have equal proportions of positive and negative classes on both the train and test sets.\n",
    "X_train, X_test, y_train, y_test = train_test_split(X, y, test_size=0.2, random_state=42, stratify=y)"
   ]
  },
  {
   "cell_type": "code",
   "execution_count": 135,
   "metadata": {},
   "outputs": [
    {
     "name": "stderr",
     "output_type": "stream",
     "text": [
      "/home/ec2-user/anaconda3/envs/amazonei_mxnet_p36/lib/python3.6/site-packages/sklearn/preprocessing/data.py:323: DataConversionWarning: Data with input dtype uint8, int64, float64 were all converted to float64 by MinMaxScaler.\n",
      "  return self.partial_fit(X, y)\n"
     ]
    },
    {
     "name": "stdout",
     "output_type": "stream",
     "text": [
      "enet has been fitted!\n"
     ]
    },
    {
     "name": "stderr",
     "output_type": "stream",
     "text": [
      "/home/ec2-user/anaconda3/envs/amazonei_mxnet_p36/lib/python3.6/site-packages/sklearn/preprocessing/data.py:323: DataConversionWarning: Data with input dtype uint8, int64, float64 were all converted to float64 by MinMaxScaler.\n",
      "  return self.partial_fit(X, y)\n"
     ]
    },
    {
     "name": "stdout",
     "output_type": "stream",
     "text": [
      "rf has been fitted!\n"
     ]
    },
    {
     "name": "stderr",
     "output_type": "stream",
     "text": [
      "/home/ec2-user/anaconda3/envs/amazonei_mxnet_p36/lib/python3.6/site-packages/sklearn/preprocessing/data.py:323: DataConversionWarning: Data with input dtype uint8, int64, float64 were all converted to float64 by MinMaxScaler.\n",
      "  return self.partial_fit(X, y)\n"
     ]
    },
    {
     "name": "stdout",
     "output_type": "stream",
     "text": [
      "gb has been fitted!\n"
     ]
    }
   ],
   "source": [
    "# Apply 10-fold cross-validation to help us select the best model and hyperparameters\n",
    "\n",
    "# Perform pre-processing in a model pipeline\n",
    "pipelines = {\n",
    "    'enet' : make_pipeline(MinMaxScaler(),\n",
    "                          ElasticNet(random_state=42)),\n",
    "    'rf' : make_pipeline(MinMaxScaler(),\n",
    "                        RandomForestClassifier(random_state=42)),\n",
    "    'gb' : make_pipeline(MinMaxScaler(),\n",
    "                        GradientBoostingClassifier(random_state=42))\n",
    "}\n",
    "\n",
    "# Create hyperparameter grids to support hyperparameter tuning at a later stage\n",
    "enet_hyperparams = {\n",
    "    'elasticnet__alpha': [0.001, 0.005, 0.01, 0.05, 0.1, 0.5, 1, 5, 10],\n",
    "    'elasticnet__l1_ratio': [0.1, 0.3, 0.5, 0.7, 0.9]\n",
    "}\n",
    "\n",
    "rf_hyperparams = {\n",
    "    'randomforestclassifier__n_estimators': [100, 200],\n",
    "    'randomforestclassifier__max_features': ['auto', 'sqrt', 0.33]\n",
    "}\n",
    "\n",
    "gb_hyperparams = {\n",
    "    'gradientboostingclassifier__n_estimators': [100, 200],\n",
    "    'gradientboostingclassifier__learning_rate': [0.05, 0.1, 0.2],\n",
    "    'gradientboostingclassifier__max_depth': [1, 3, 5]\n",
    "}\n",
    "\n",
    "# hyperparameter dictionary\n",
    "hyperparameters = {\n",
    "    'enet': enet_hyperparams,\n",
    "    'rf': rf_hyperparams,\n",
    "    'gb': gb_hyperparams\n",
    "}\n",
    "\n",
    "\n",
    "# dictionary to store the fit models\n",
    "fitted_models = {}\n",
    "\n",
    "# perform grid search while fitting the model\n",
    "for name, pipeline in pipelines.items():\n",
    "    model = GridSearchCV(pipeline, hyperparameters[name],\n",
    "                        cv=10, n_jobs=-1)\n",
    "    \n",
    "    model.fit(X_train, y_train)\n",
    "    \n",
    "    # store model in fitted_models\n",
    "    fitted_models[name] = model\n",
    "    \n",
    "    print(f'{name} has been fitted!')"
   ]
  },
  {
   "cell_type": "markdown",
   "metadata": {},
   "source": [
    "## Evaluate the Model"
   ]
  },
  {
   "cell_type": "code",
   "execution_count": 136,
   "metadata": {},
   "outputs": [
    {
     "name": "stdout",
     "output_type": "stream",
     "text": [
      "enet 0.004831816541123906\n",
      "rf 0.987490097702667\n",
      "gb 0.9875231053604436\n"
     ]
    }
   ],
   "source": [
    "# First evaluation will be to look at the cross-validated score on the training set\n",
    "for name, model in fitted_models.items():\n",
    "    print(name, model.best_score_)"
   ]
  },
  {
   "cell_type": "code",
   "execution_count": 157,
   "metadata": {},
   "outputs": [
    {
     "data": {
      "text/plain": [
       "{'gradientboostingclassifier__learning_rate': 0.05,\n",
       " 'gradientboostingclassifier__max_depth': 3,\n",
       " 'gradientboostingclassifier__n_estimators': 100}"
      ]
     },
     "execution_count": 157,
     "metadata": {},
     "output_type": "execute_result"
    }
   ],
   "source": [
    "fitted_models['gb'].best_params_"
   ]
  },
  {
   "cell_type": "code",
   "execution_count": 137,
   "metadata": {},
   "outputs": [],
   "source": [
    "# Predict the probability of the target variable (RESPONSE) using the model that obtained the best cv score\n",
    "pred = fitted_models['gb'].predict_proba(X_test)\n",
    "pred = [p[1] for p in pred]"
   ]
  },
  {
   "cell_type": "markdown",
   "metadata": {},
   "source": [
    "#### Area under ROC curve is the most reliable metric for classification tasks\n",
    "\n",
    "It is equivalent to the probability that a randomly chosen Positive observation is higher than a randomly chosen Negative observation.\n",
    "\n",
    "In other words, if you took 2 observations and exactly one of them was the positive class and the other was the negative class, what is the likelihood that the model can distinguish the two?\n",
    "\n",
    "Hence it is the **remedy for evaluating imbalanced classes**."
   ]
  },
  {
   "cell_type": "markdown",
   "metadata": {},
   "source": [
    "##### True positive rate (TPR), False positive rate (FPR) and AUC\n",
    "\n",
    "The TPR is the proportion of all actual positive observations that were predicted correctly as positive.\n",
    "\n",
    "The FPR is the proportion of all actual negative observations that were predicted as positive. "
   ]
  },
  {
   "cell_type": "code",
   "execution_count": 138,
   "metadata": {},
   "outputs": [
    {
     "data": {
      "image/png": "[encoded data removed]",
      "text/plain": [
       "<Figure size 576x576 with 1 Axes>"
      ]
     },
     "metadata": {},
     "output_type": "display_data"
    }
   ],
   "source": [
    "# Calculate the ROC curve from y_test and pred\n",
    "fpr, tpr, thresholds = roc_curve(y_test, pred)\n",
    "\n",
    "# initialize figure\n",
    "fig = plt.figure(figsize=(8, 8))\n",
    "plt.title('ROC Curve')\n",
    "\n",
    "# plot the ROC curve\n",
    "plt.plot(fpr, tpr, label='gb')\n",
    "plt.legend(loc='upper right')\n",
    "\n",
    "# diagonal 45 degree dotted line\n",
    "plt.plot([0, 1], [0, 1], 'k--')\n",
    "\n",
    "# axes limits and labels\n",
    "plt.xlim([-0.1, 1.1])\n",
    "plt.ylim([-0.1, 1.1])\n",
    "plt.ylabel('True Positive Rate')\n",
    "plt.xlabel('False Positive Rate')\n",
    "plt.show()"
   ]
  },
  {
   "cell_type": "code",
   "execution_count": 139,
   "metadata": {},
   "outputs": [
    {
     "name": "stdout",
     "output_type": "stream",
     "text": [
      "0.7227823871753188\n"
     ]
    }
   ],
   "source": [
    "# calculate the ROC\n",
    "area_under_curve = auc(fpr, tpr)\n",
    "print(area_under_curve)"
   ]
  },
  {
   "cell_type": "code",
   "execution_count": 140,
   "metadata": {},
   "outputs": [],
   "source": [
    "# save the model\n",
    "import pickle\n",
    "\n",
    "with open('final_model.pkl', 'wb') as f:\n",
    "    pickle.dump(fitted_models['gb'].best_estimator_, f)"
   ]
  },
  {
   "cell_type": "markdown",
   "metadata": {},
   "source": [
    "## Part 3: Kaggle Competition\n",
    "\n",
    "Now that you've created a model to predict which individuals are most likely to respond to a mailout campaign, it's time to test that model in competition through Kaggle. If you click on the link [here](http://www.kaggle.com/t/21e6d45d4c574c7fa2d868f0e8c83140), you'll be taken to the competition page where, if you have a Kaggle account, you can enter. If you're one of the top performers, you may have the chance to be contacted by a hiring manager from Arvato or Bertelsmann for an interview!\n",
    "\n",
    "Your entry to the competition should be a CSV file with two columns. The first column should be a copy of \"LNR\", which acts as an ID number for each individual in the \"TEST\" partition. The second column, \"RESPONSE\", should be some measure of how likely each individual became a customer – this might not be a straightforward probability. As you should have found in Part 2, there is a large output class imbalance, where most individuals did not respond to the mailout. Thus, predicting individual classes and using accuracy does not seem to be an appropriate performance evaluation method. Instead, the competition will be using AUC to evaluate performance. The exact values of the \"RESPONSE\" column do not matter as much: only that the higher values try to capture as many of the actual customers as possible, early in the ROC curve sweep."
   ]
  },
  {
   "cell_type": "code",
   "execution_count": 141,
   "metadata": {},
   "outputs": [
    {
     "data": {
      "text/html": [
       "<div>\n",
       "<style scoped>\n",
       "    .dataframe tbody tr th:only-of-type {\n",
       "        vertical-align: middle;\n",
       "    }\n",
       "\n",
       "    .dataframe tbody tr th {\n",
       "        vertical-align: top;\n",
       "    }\n",
       "\n",
       "    .dataframe thead th {\n",
       "        text-align: right;\n",
       "    }\n",
       "</style>\n",
       "<table border=\"1\" class=\"dataframe\">\n",
       "  <thead>\n",
       "    <tr style=\"text-align: right;\">\n",
       "      <th></th>\n",
       "      <th>LNR</th>\n",
       "      <th>AGER_TYP</th>\n",
       "      <th>AKT_DAT_KL</th>\n",
       "      <th>ALTER_HH</th>\n",
       "      <th>ALTER_KIND1</th>\n",
       "      <th>ALTER_KIND2</th>\n",
       "      <th>ALTER_KIND3</th>\n",
       "      <th>ALTER_KIND4</th>\n",
       "      <th>ALTERSKATEGORIE_FEIN</th>\n",
       "      <th>ANZ_HAUSHALTE_AKTIV</th>\n",
       "      <th>...</th>\n",
       "      <th>VHN</th>\n",
       "      <th>VK_DHT4A</th>\n",
       "      <th>VK_DISTANZ</th>\n",
       "      <th>VK_ZG11</th>\n",
       "      <th>W_KEIT_KIND_HH</th>\n",
       "      <th>WOHNDAUER_2008</th>\n",
       "      <th>WOHNLAGE</th>\n",
       "      <th>ZABEOTYP</th>\n",
       "      <th>ANREDE_KZ</th>\n",
       "      <th>ALTERSKATEGORIE_GROB</th>\n",
       "    </tr>\n",
       "  </thead>\n",
       "  <tbody>\n",
       "    <tr>\n",
       "      <th>0</th>\n",
       "      <td>1754</td>\n",
       "      <td>2</td>\n",
       "      <td>1.0</td>\n",
       "      <td>7.0</td>\n",
       "      <td>NaN</td>\n",
       "      <td>NaN</td>\n",
       "      <td>NaN</td>\n",
       "      <td>NaN</td>\n",
       "      <td>6.0</td>\n",
       "      <td>2.0</td>\n",
       "      <td>...</td>\n",
       "      <td>4.0</td>\n",
       "      <td>5.0</td>\n",
       "      <td>6.0</td>\n",
       "      <td>3.0</td>\n",
       "      <td>6.0</td>\n",
       "      <td>9.0</td>\n",
       "      <td>3.0</td>\n",
       "      <td>3</td>\n",
       "      <td>1</td>\n",
       "      <td>4</td>\n",
       "    </tr>\n",
       "    <tr>\n",
       "      <th>1</th>\n",
       "      <td>1770</td>\n",
       "      <td>-1</td>\n",
       "      <td>1.0</td>\n",
       "      <td>0.0</td>\n",
       "      <td>NaN</td>\n",
       "      <td>NaN</td>\n",
       "      <td>NaN</td>\n",
       "      <td>NaN</td>\n",
       "      <td>0.0</td>\n",
       "      <td>20.0</td>\n",
       "      <td>...</td>\n",
       "      <td>1.0</td>\n",
       "      <td>5.0</td>\n",
       "      <td>2.0</td>\n",
       "      <td>1.0</td>\n",
       "      <td>6.0</td>\n",
       "      <td>9.0</td>\n",
       "      <td>5.0</td>\n",
       "      <td>3</td>\n",
       "      <td>1</td>\n",
       "      <td>4</td>\n",
       "    </tr>\n",
       "    <tr>\n",
       "      <th>2</th>\n",
       "      <td>1465</td>\n",
       "      <td>2</td>\n",
       "      <td>9.0</td>\n",
       "      <td>16.0</td>\n",
       "      <td>NaN</td>\n",
       "      <td>NaN</td>\n",
       "      <td>NaN</td>\n",
       "      <td>NaN</td>\n",
       "      <td>11.0</td>\n",
       "      <td>2.0</td>\n",
       "      <td>...</td>\n",
       "      <td>3.0</td>\n",
       "      <td>9.0</td>\n",
       "      <td>6.0</td>\n",
       "      <td>3.0</td>\n",
       "      <td>2.0</td>\n",
       "      <td>9.0</td>\n",
       "      <td>4.0</td>\n",
       "      <td>3</td>\n",
       "      <td>2</td>\n",
       "      <td>4</td>\n",
       "    </tr>\n",
       "    <tr>\n",
       "      <th>3</th>\n",
       "      <td>1470</td>\n",
       "      <td>-1</td>\n",
       "      <td>7.0</td>\n",
       "      <td>0.0</td>\n",
       "      <td>NaN</td>\n",
       "      <td>NaN</td>\n",
       "      <td>NaN</td>\n",
       "      <td>NaN</td>\n",
       "      <td>0.0</td>\n",
       "      <td>1.0</td>\n",
       "      <td>...</td>\n",
       "      <td>2.0</td>\n",
       "      <td>6.0</td>\n",
       "      <td>6.0</td>\n",
       "      <td>3.0</td>\n",
       "      <td>NaN</td>\n",
       "      <td>9.0</td>\n",
       "      <td>2.0</td>\n",
       "      <td>3</td>\n",
       "      <td>2</td>\n",
       "      <td>4</td>\n",
       "    </tr>\n",
       "    <tr>\n",
       "      <th>4</th>\n",
       "      <td>1478</td>\n",
       "      <td>1</td>\n",
       "      <td>1.0</td>\n",
       "      <td>21.0</td>\n",
       "      <td>NaN</td>\n",
       "      <td>NaN</td>\n",
       "      <td>NaN</td>\n",
       "      <td>NaN</td>\n",
       "      <td>13.0</td>\n",
       "      <td>1.0</td>\n",
       "      <td>...</td>\n",
       "      <td>1.0</td>\n",
       "      <td>2.0</td>\n",
       "      <td>4.0</td>\n",
       "      <td>3.0</td>\n",
       "      <td>3.0</td>\n",
       "      <td>9.0</td>\n",
       "      <td>7.0</td>\n",
       "      <td>4</td>\n",
       "      <td>2</td>\n",
       "      <td>4</td>\n",
       "    </tr>\n",
       "  </tbody>\n",
       "</table>\n",
       "<p>5 rows × 366 columns</p>\n",
       "</div>"
      ],
      "text/plain": [
       "    LNR  AGER_TYP  AKT_DAT_KL  ALTER_HH  ALTER_KIND1  ALTER_KIND2  \\\n",
       "0  1754         2         1.0       7.0          NaN          NaN   \n",
       "1  1770        -1         1.0       0.0          NaN          NaN   \n",
       "2  1465         2         9.0      16.0          NaN          NaN   \n",
       "3  1470        -1         7.0       0.0          NaN          NaN   \n",
       "4  1478         1         1.0      21.0          NaN          NaN   \n",
       "\n",
       "   ALTER_KIND3  ALTER_KIND4  ALTERSKATEGORIE_FEIN  ANZ_HAUSHALTE_AKTIV  ...  \\\n",
       "0          NaN          NaN                   6.0                  2.0  ...   \n",
       "1          NaN          NaN                   0.0                 20.0  ...   \n",
       "2          NaN          NaN                  11.0                  2.0  ...   \n",
       "3          NaN          NaN                   0.0                  1.0  ...   \n",
       "4          NaN          NaN                  13.0                  1.0  ...   \n",
       "\n",
       "   VHN  VK_DHT4A  VK_DISTANZ  VK_ZG11  W_KEIT_KIND_HH  WOHNDAUER_2008  \\\n",
       "0  4.0       5.0         6.0      3.0             6.0             9.0   \n",
       "1  1.0       5.0         2.0      1.0             6.0             9.0   \n",
       "2  3.0       9.0         6.0      3.0             2.0             9.0   \n",
       "3  2.0       6.0         6.0      3.0             NaN             9.0   \n",
       "4  1.0       2.0         4.0      3.0             3.0             9.0   \n",
       "\n",
       "   WOHNLAGE ZABEOTYP ANREDE_KZ ALTERSKATEGORIE_GROB  \n",
       "0       3.0        3         1                    4  \n",
       "1       5.0        3         1                    4  \n",
       "2       4.0        3         2                    4  \n",
       "3       2.0        3         2                    4  \n",
       "4       7.0        4         2                    4  \n",
       "\n",
       "[5 rows x 366 columns]"
      ]
     },
     "execution_count": 141,
     "metadata": {},
     "output_type": "execute_result"
    }
   ],
   "source": [
    "mailout_test.head()"
   ]
  },
  {
   "cell_type": "code",
   "execution_count": 146,
   "metadata": {},
   "outputs": [],
   "source": [
    "lnr_id = mailout_test['LNR']"
   ]
  },
  {
   "cell_type": "code",
   "execution_count": 147,
   "metadata": {},
   "outputs": [],
   "source": [
    "# pre-process the data for model prediction\n",
    "mailout_test = mailout_test.loc[:, mailout_test.isnull().sum() < 10000]\n",
    "\n",
    "mailout_test_processed = process_data(mailout_test)"
   ]
  },
  {
   "cell_type": "code",
   "execution_count": 148,
   "metadata": {},
   "outputs": [],
   "source": [
    "# pass data into model for prediction\n",
    "pred_response = fitted_models['gb'].predict_proba(mailout_test_processed)"
   ]
  },
  {
   "cell_type": "code",
   "execution_count": 149,
   "metadata": {},
   "outputs": [],
   "source": [
    "#retrieve the prediction probabilities\n",
    "response = [p[1] for p in pred_response]"
   ]
  },
  {
   "cell_type": "code",
   "execution_count": 150,
   "metadata": {},
   "outputs": [],
   "source": [
    "response_df = pd.DataFrame(response, columns=['RESPONSE'])"
   ]
  },
  {
   "cell_type": "code",
   "execution_count": 151,
   "metadata": {},
   "outputs": [],
   "source": [
    "# prepare csv for submission\n",
    "df = pd.concat([lnr_id, response_df], axis=1)"
   ]
  },
  {
   "cell_type": "code",
   "execution_count": 152,
   "metadata": {},
   "outputs": [],
   "source": [
    "df.to_csv('arvato_submission.csv', index=None)"
   ]
  },
  {
   "cell_type": "code",
   "execution_count": 153,
   "metadata": {},
   "outputs": [
    {
     "data": {
      "text/html": [
       "<div>\n",
       "<style scoped>\n",
       "    .dataframe tbody tr th:only-of-type {\n",
       "        vertical-align: middle;\n",
       "    }\n",
       "\n",
       "    .dataframe tbody tr th {\n",
       "        vertical-align: top;\n",
       "    }\n",
       "\n",
       "    .dataframe thead th {\n",
       "        text-align: right;\n",
       "    }\n",
       "</style>\n",
       "<table border=\"1\" class=\"dataframe\">\n",
       "  <thead>\n",
       "    <tr style=\"text-align: right;\">\n",
       "      <th></th>\n",
       "      <th>LNR</th>\n",
       "      <th>RESPONSE</th>\n",
       "    </tr>\n",
       "  </thead>\n",
       "  <tbody>\n",
       "    <tr>\n",
       "      <th>0</th>\n",
       "      <td>1754</td>\n",
       "      <td>0.033907</td>\n",
       "    </tr>\n",
       "    <tr>\n",
       "      <th>1</th>\n",
       "      <td>1770</td>\n",
       "      <td>0.028906</td>\n",
       "    </tr>\n",
       "    <tr>\n",
       "      <th>2</th>\n",
       "      <td>1465</td>\n",
       "      <td>0.006924</td>\n",
       "    </tr>\n",
       "    <tr>\n",
       "      <th>3</th>\n",
       "      <td>1470</td>\n",
       "      <td>0.004398</td>\n",
       "    </tr>\n",
       "    <tr>\n",
       "      <th>4</th>\n",
       "      <td>1478</td>\n",
       "      <td>0.004228</td>\n",
       "    </tr>\n",
       "  </tbody>\n",
       "</table>\n",
       "</div>"
      ],
      "text/plain": [
       "    LNR  RESPONSE\n",
       "0  1754  0.033907\n",
       "1  1770  0.028906\n",
       "2  1465  0.006924\n",
       "3  1470  0.004398\n",
       "4  1478  0.004228"
      ]
     },
     "execution_count": 153,
     "metadata": {},
     "output_type": "execute_result"
    }
   ],
   "source": [
    "df.head()"
   ]
  }
 ],
 "metadata": {
  "kernelspec": {
   "display_name": "conda_amazonei_mxnet_p36",
   "language": "python",
   "name": "conda_amazonei_mxnet_p36"
  },
  "language_info": {
   "codemirror_mode": {
    "name": "ipython",
    "version": 3
   },
   "file_extension": ".py",
   "mimetype": "text/x-python",
   "name": "python",
   "nbconvert_exporter": "python",
   "pygments_lexer": "ipython3",
   "version": "3.6.5"
  }
 },
 "nbformat": 4,
 "nbformat_minor": 4
}
